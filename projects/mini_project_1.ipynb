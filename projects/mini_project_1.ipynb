{
 "cells": [
  {
   "cell_type": "markdown",
   "id": "f71ce1a6",
   "metadata": {},
   "source": [
    "<div>\n",
    "<img src=https://www.institutedata.com/wp-content/uploads/2019/10/iod_h_tp_primary_c.svg width=\"300\">\n",
    "</div>"
   ]
  },
  {
   "cell_type": "markdown",
   "id": "4030d6b3",
   "metadata": {},
   "source": [
    "## Referral patterns of Indigenous children to ear, nose & throat specialist health services in the Hunter New England health district (2017 - 2021)"
   ]
  },
  {
   "cell_type": "markdown",
   "id": "d3ff3964",
   "metadata": {},
   "source": [
    "### Context\n",
    "\n",
    "Approximately 30% of urban Aboriginal and Torres Strait Islander children experience persistent middle ear infection or otitis media in early childhood.1-3 Although these ear health problems are often established within the first 2 years of life1,2, many children do not receive effective remediation of hearing impairment until\n",
    "4–5 years of age.4,5 Because of the role of hearing in early language, cognitive and psychosocial development, timely access to ear health and hearing care is critical\n",
    "for mitigating developmental delay at school entry.6-8 Although Aboriginal families in urban settings might\n",
    "be expected to have easy access to ear health and hearing care, difficulties with access to health services are well documented.9-11 \n",
    "\n",
    "This analysis was conducted to explore current referral patterns of children **under X years** to specialist ear services in the Hunter New England Health District during the years 2017 - 2021. Providing greater visibility of current referral patterns may reveal insights that can be used to improve health outcomes for indigenous children with chronic ear health problems. \n"
   ]
  },
  {
   "cell_type": "markdown",
   "id": "6483e26a",
   "metadata": {},
   "source": [
    "### Data Description\n",
    "\n",
    "The dataset ENT_referrals_HNE.xlsx was provided by Hunter New England Health and contains five excel spreadsheets which cover different regions within the Hunter New England health district:\n",
    "\n",
    " - Greater Newcastle\n",
    " - Lower Hunter\n",
    " - Upper Hunter\n",
    " - Mid Coast\n",
    " - New England\n",
    "\n",
    "In addition, two excel spreadsheets contain the same data separated into public or private sector referral status.\n",
    "\n",
    "Each spreadsheet contains referrals from that region, with associated information including referring doctor & service, specialist services referred to, whether the referral was processed through the public or private health system, condition urgency and symptomatic description. \n",
    "\n",
    " - **GP/specalist names need to be anonymised or removed for IOD presentation**\n",
    " - **What do PMS values stand for?** \n",
    " - **What do status values stand for?**\n",
    " - **How was urgency level defined?**"
   ]
  },
  {
   "cell_type": "markdown",
   "id": "2543e5b8",
   "metadata": {},
   "source": [
    "### Data Dictionary\n",
    "\n",
    "| Variable |                                 Definition | Key                                            |\n",
    "|----------|-------------------------------------------:|------------------------------------------------|\n",
    "| Referral ID              | alphanumeric ID string\n",
    "| Referral Date            | date of referral\n",
    "| Status                   | Current state of referral\n",
    "| Clinical Area            | The type of clinical condition in the referral | ENT = Ear, nose, throat |          \n",
    "| Service Description      | The specific symptoms observed leading to referral\n",
    "| Gp Urgency               | The severity of the health condition\n",
    "| Referral To              | Public or private sector referral\n",
    "| Refer To Specialist      | Specialist name\n",
    "| Refer to Service Name    | Specialist service name\n",
    "| Refer To Address         | Location of specialist service\n",
    "| Indigenous Status        | Indigenous status of the referred patient\n",
    "| GP Name                  | Referring doctor\n",
    "| Practice                 | Referring practice\n",
    "| **PMS**                      | **unknown** | **Key: BP =, MD =**| \n",
    "| Region                   | Region of the Hunter New England health district                                  "
   ]
  },
  {
   "cell_type": "markdown",
   "id": "e15cadc6",
   "metadata": {},
   "source": [
    "### Importing Data"
   ]
  },
  {
   "cell_type": "code",
   "execution_count": 201,
   "id": "7f5bee83",
   "metadata": {},
   "outputs": [],
   "source": [
    "#Load packages\n",
    "\n",
    "import pandas as pd\n",
    "import numpy as np\n",
    "import seaborn as sns\n",
    "sns.set_theme(style=\"darkgrid\")\n",
    "import pandas as pd\n",
    "\n",
    "from scipy import stats\n",
    "from matplotlib import pyplot as plt\n",
    "\n",
    "%matplotlib inline"
   ]
  },
  {
   "cell_type": "code",
   "execution_count": 202,
   "id": "9c9afa1f",
   "metadata": {},
   "outputs": [],
   "source": [
    "#Load spreadsheets for each region into single dataframe, dropping 'Public' and 'Private' spreadsheets\n",
    "df = pd.concat(pd.read_excel('/Users/damien/Documents/ENT/data/ENT_referrals_HNE.xlsx', sheet_name=[\n",
    "    'Greater Newcastle',\n",
    "    'Lower Hunter',\n",
    "    'Upper Hunter',\n",
    "    'Mid Coast',\n",
    "    'New England']), ignore_index=True)\n"
   ]
  },
  {
   "cell_type": "markdown",
   "id": "f3b402b8",
   "metadata": {},
   "source": [
    "### Exploring Data Structure"
   ]
  },
  {
   "cell_type": "code",
   "execution_count": 203,
   "id": "0815585c",
   "metadata": {},
   "outputs": [
    {
     "data": {
      "text/html": [
       "<div>\n",
       "<style scoped>\n",
       "    .dataframe tbody tr th:only-of-type {\n",
       "        vertical-align: middle;\n",
       "    }\n",
       "\n",
       "    .dataframe tbody tr th {\n",
       "        vertical-align: top;\n",
       "    }\n",
       "\n",
       "    .dataframe thead th {\n",
       "        text-align: right;\n",
       "    }\n",
       "</style>\n",
       "<table border=\"1\" class=\"dataframe\">\n",
       "  <thead>\n",
       "    <tr style=\"text-align: right;\">\n",
       "      <th></th>\n",
       "      <th>Referral ID</th>\n",
       "      <th>Referral Date</th>\n",
       "      <th>Status</th>\n",
       "      <th>Clinical Area</th>\n",
       "      <th>Service Description</th>\n",
       "      <th>Gp Urgency</th>\n",
       "      <th>Referral To</th>\n",
       "      <th>Refer To Specialist</th>\n",
       "      <th>Refer To Service Name</th>\n",
       "      <th>Refer To Address</th>\n",
       "      <th>Indigenous Status</th>\n",
       "      <th>GP Name</th>\n",
       "      <th>Practice</th>\n",
       "      <th>PMS</th>\n",
       "      <th>Region</th>\n",
       "    </tr>\n",
       "  </thead>\n",
       "  <tbody>\n",
       "    <tr>\n",
       "      <th>0</th>\n",
       "      <td>e5649b608af567cc</td>\n",
       "      <td>2017-09-07</td>\n",
       "      <td>Sent</td>\n",
       "      <td>ENT</td>\n",
       "      <td>Rhinosinusitis</td>\n",
       "      <td>Routine</td>\n",
       "      <td>Public</td>\n",
       "      <td>Dr Nial Jefferson</td>\n",
       "      <td>ENT Department</td>\n",
       "      <td>John Hunter Hospital</td>\n",
       "      <td>NaN</td>\n",
       "      <td>Dr Farzam Tavallaie</td>\n",
       "      <td>Macquarie Family Practice</td>\n",
       "      <td>BP</td>\n",
       "      <td>Greater Newcastle</td>\n",
       "    </tr>\n",
       "    <tr>\n",
       "      <th>1</th>\n",
       "      <td>NaN</td>\n",
       "      <td>2017-09-13</td>\n",
       "      <td>Print Only</td>\n",
       "      <td>ENT</td>\n",
       "      <td>Asymmetrical Sensorineural Hearing Loss</td>\n",
       "      <td>Semi Urgent</td>\n",
       "      <td>Private</td>\n",
       "      <td>Dr Peter Barrie</td>\n",
       "      <td>ENT Surgery Services</td>\n",
       "      <td>Dr Peter Barrie Private Rooms</td>\n",
       "      <td>NaN</td>\n",
       "      <td>Dr Bo Wong</td>\n",
       "      <td>Mayfield Medical Connection</td>\n",
       "      <td>BP</td>\n",
       "      <td>Greater Newcastle</td>\n",
       "    </tr>\n",
       "    <tr>\n",
       "      <th>2</th>\n",
       "      <td>fdb7009ce730d3d</td>\n",
       "      <td>2017-09-14</td>\n",
       "      <td>Sent</td>\n",
       "      <td>ENT</td>\n",
       "      <td>Otitis Media with Effusion (Glue Ear)</td>\n",
       "      <td>Routine</td>\n",
       "      <td>Public</td>\n",
       "      <td>Clinician</td>\n",
       "      <td>Community Speech Therapy Greater Newcastle</td>\n",
       "      <td>Community Health</td>\n",
       "      <td>NaN</td>\n",
       "      <td>Dr Vinay Guddur Karanam</td>\n",
       "      <td>Hello Health Family Practice</td>\n",
       "      <td>BP</td>\n",
       "      <td>Greater Newcastle</td>\n",
       "    </tr>\n",
       "    <tr>\n",
       "      <th>3</th>\n",
       "      <td>91a366634b110bcb</td>\n",
       "      <td>2017-09-19</td>\n",
       "      <td>Sent</td>\n",
       "      <td>ENT</td>\n",
       "      <td>Tonsillitis and sore throat</td>\n",
       "      <td>Routine</td>\n",
       "      <td>Public</td>\n",
       "      <td>Dr Nial Jefferson</td>\n",
       "      <td>ENT Department</td>\n",
       "      <td>John Hunter Hospital</td>\n",
       "      <td>NaN</td>\n",
       "      <td>Dr Michael Chapman</td>\n",
       "      <td>Waratah General Practice</td>\n",
       "      <td>BP</td>\n",
       "      <td>Greater Newcastle</td>\n",
       "    </tr>\n",
       "    <tr>\n",
       "      <th>4</th>\n",
       "      <td>931c6f99e9196f5f</td>\n",
       "      <td>2017-10-04</td>\n",
       "      <td>Sent</td>\n",
       "      <td>ENT</td>\n",
       "      <td>Tonsillitis and sore throat</td>\n",
       "      <td>Routine</td>\n",
       "      <td>Public</td>\n",
       "      <td>Dr Nial Jefferson</td>\n",
       "      <td>ENT Department</td>\n",
       "      <td>John Hunter Hospital</td>\n",
       "      <td>NaN</td>\n",
       "      <td>Dr Farzam Tavallaie</td>\n",
       "      <td>Macquarie Family Practice</td>\n",
       "      <td>BP</td>\n",
       "      <td>Greater Newcastle</td>\n",
       "    </tr>\n",
       "  </tbody>\n",
       "</table>\n",
       "</div>"
      ],
      "text/plain": [
       "        Referral ID Referral Date      Status Clinical Area  \\\n",
       "0  e5649b608af567cc    2017-09-07        Sent           ENT   \n",
       "1               NaN    2017-09-13  Print Only           ENT   \n",
       "2   fdb7009ce730d3d    2017-09-14        Sent           ENT   \n",
       "3  91a366634b110bcb    2017-09-19        Sent           ENT   \n",
       "4  931c6f99e9196f5f    2017-10-04        Sent           ENT   \n",
       "\n",
       "                       Service Description   Gp Urgency Referral To  \\\n",
       "0                           Rhinosinusitis      Routine      Public   \n",
       "1  Asymmetrical Sensorineural Hearing Loss  Semi Urgent     Private   \n",
       "2    Otitis Media with Effusion (Glue Ear)      Routine      Public   \n",
       "3              Tonsillitis and sore throat      Routine      Public   \n",
       "4              Tonsillitis and sore throat      Routine      Public   \n",
       "\n",
       "  Refer To Specialist                       Refer To Service Name  \\\n",
       "0   Dr Nial Jefferson                              ENT Department   \n",
       "1     Dr Peter Barrie                        ENT Surgery Services   \n",
       "2           Clinician  Community Speech Therapy Greater Newcastle   \n",
       "3   Dr Nial Jefferson                              ENT Department   \n",
       "4   Dr Nial Jefferson                              ENT Department   \n",
       "\n",
       "                Refer To Address Indigenous Status                  GP Name  \\\n",
       "0           John Hunter Hospital               NaN      Dr Farzam Tavallaie   \n",
       "1  Dr Peter Barrie Private Rooms               NaN               Dr Bo Wong   \n",
       "2               Community Health               NaN  Dr Vinay Guddur Karanam   \n",
       "3           John Hunter Hospital               NaN       Dr Michael Chapman   \n",
       "4           John Hunter Hospital               NaN      Dr Farzam Tavallaie   \n",
       "\n",
       "                       Practice PMS              Region  \n",
       "0     Macquarie Family Practice  BP  Greater Newcastle   \n",
       "1   Mayfield Medical Connection  BP  Greater Newcastle   \n",
       "2  Hello Health Family Practice  BP  Greater Newcastle   \n",
       "3      Waratah General Practice  BP  Greater Newcastle   \n",
       "4     Macquarie Family Practice  BP  Greater Newcastle   "
      ]
     },
     "execution_count": 203,
     "metadata": {},
     "output_type": "execute_result"
    }
   ],
   "source": [
    "df.head()"
   ]
  },
  {
   "cell_type": "code",
   "execution_count": 204,
   "id": "e46d858e",
   "metadata": {},
   "outputs": [
    {
     "data": {
      "text/html": [
       "<div>\n",
       "<style scoped>\n",
       "    .dataframe tbody tr th:only-of-type {\n",
       "        vertical-align: middle;\n",
       "    }\n",
       "\n",
       "    .dataframe tbody tr th {\n",
       "        vertical-align: top;\n",
       "    }\n",
       "\n",
       "    .dataframe thead th {\n",
       "        text-align: right;\n",
       "    }\n",
       "</style>\n",
       "<table border=\"1\" class=\"dataframe\">\n",
       "  <thead>\n",
       "    <tr style=\"text-align: right;\">\n",
       "      <th></th>\n",
       "      <th>Referral ID</th>\n",
       "      <th>Referral Date</th>\n",
       "      <th>Status</th>\n",
       "      <th>Clinical Area</th>\n",
       "      <th>Service Description</th>\n",
       "      <th>Gp Urgency</th>\n",
       "      <th>Referral To</th>\n",
       "      <th>Refer To Specialist</th>\n",
       "      <th>Refer To Service Name</th>\n",
       "      <th>Refer To Address</th>\n",
       "      <th>Indigenous Status</th>\n",
       "      <th>GP Name</th>\n",
       "      <th>Practice</th>\n",
       "      <th>PMS</th>\n",
       "      <th>Region</th>\n",
       "    </tr>\n",
       "  </thead>\n",
       "  <tbody>\n",
       "    <tr>\n",
       "      <th>2218</th>\n",
       "      <td>3ea0b2b1254b860a</td>\n",
       "      <td>2021-10-13</td>\n",
       "      <td>Sent</td>\n",
       "      <td>ENT</td>\n",
       "      <td>Tonsillitis and Sore Throat</td>\n",
       "      <td>Non Urgent</td>\n",
       "      <td>Public</td>\n",
       "      <td>Dr Niall Jefferson</td>\n",
       "      <td>ENT Department</td>\n",
       "      <td>John Hunter Hospital</td>\n",
       "      <td>Neither Aboriginal nor Torres Strait Islander</td>\n",
       "      <td>Dr Darla Grace</td>\n",
       "      <td>Barton Lane Practice Tamworth</td>\n",
       "      <td>BP</td>\n",
       "      <td>New England</td>\n",
       "    </tr>\n",
       "    <tr>\n",
       "      <th>2219</th>\n",
       "      <td>c251756966f9a47a</td>\n",
       "      <td>2021-10-25</td>\n",
       "      <td>Sent</td>\n",
       "      <td>ENT</td>\n",
       "      <td>Ear Discharge</td>\n",
       "      <td>Non Urgent</td>\n",
       "      <td>Public</td>\n",
       "      <td>Dr Niall Jefferson</td>\n",
       "      <td>ENT Department</td>\n",
       "      <td>John Hunter Hospital</td>\n",
       "      <td>Neither Aboriginal nor Torres Strait Islander</td>\n",
       "      <td>Dr Louisa Badenhorst</td>\n",
       "      <td>Windmill Practice</td>\n",
       "      <td>BP</td>\n",
       "      <td>New England</td>\n",
       "    </tr>\n",
       "    <tr>\n",
       "      <th>2220</th>\n",
       "      <td>bf59f49b8dbaaeaf</td>\n",
       "      <td>2021-10-25</td>\n",
       "      <td>Sent</td>\n",
       "      <td>ENT</td>\n",
       "      <td>Nasal Fracture</td>\n",
       "      <td>Urgent</td>\n",
       "      <td>Public</td>\n",
       "      <td>Dr Niall Jefferson</td>\n",
       "      <td>ENT Department</td>\n",
       "      <td>John Hunter Hospital</td>\n",
       "      <td>Other</td>\n",
       "      <td>Dr Malihe Bani Hassan</td>\n",
       "      <td>Inverell Medical Centre</td>\n",
       "      <td>BP</td>\n",
       "      <td>New England</td>\n",
       "    </tr>\n",
       "    <tr>\n",
       "      <th>2221</th>\n",
       "      <td>e345ef6442a8f260</td>\n",
       "      <td>2021-10-27</td>\n",
       "      <td>Sent</td>\n",
       "      <td>ENT</td>\n",
       "      <td>Nasal Fracture</td>\n",
       "      <td>Urgent</td>\n",
       "      <td>Public</td>\n",
       "      <td>Dr Niall Jefferson</td>\n",
       "      <td>ENT Department</td>\n",
       "      <td>John Hunter Hospital</td>\n",
       "      <td>Aboriginal but not Torres Strait Islander</td>\n",
       "      <td>Dr Malihe Bani Hassan</td>\n",
       "      <td>Inverell Medical Centre</td>\n",
       "      <td>BP</td>\n",
       "      <td>New England</td>\n",
       "    </tr>\n",
       "    <tr>\n",
       "      <th>2222</th>\n",
       "      <td>e4108221884fff4f</td>\n",
       "      <td>2021-11-05</td>\n",
       "      <td>Sent</td>\n",
       "      <td>ENT</td>\n",
       "      <td>Otitis Media with Effusion (Glue Ear)</td>\n",
       "      <td>Non Urgent</td>\n",
       "      <td>Public</td>\n",
       "      <td>Dr Niall Jefferson</td>\n",
       "      <td>ENT Department</td>\n",
       "      <td>John Hunter Hospital</td>\n",
       "      <td>Neither Aboriginal nor Torres Strait Islander</td>\n",
       "      <td>Dr Louisa Badenhorst</td>\n",
       "      <td>Windmill Practice</td>\n",
       "      <td>BP</td>\n",
       "      <td>New England</td>\n",
       "    </tr>\n",
       "  </tbody>\n",
       "</table>\n",
       "</div>"
      ],
      "text/plain": [
       "           Referral ID Referral Date Status Clinical Area  \\\n",
       "2218  3ea0b2b1254b860a    2021-10-13   Sent           ENT   \n",
       "2219  c251756966f9a47a    2021-10-25   Sent           ENT   \n",
       "2220  bf59f49b8dbaaeaf    2021-10-25   Sent           ENT   \n",
       "2221  e345ef6442a8f260    2021-10-27   Sent           ENT   \n",
       "2222  e4108221884fff4f    2021-11-05   Sent           ENT   \n",
       "\n",
       "                        Service Description  Gp Urgency Referral To  \\\n",
       "2218            Tonsillitis and Sore Throat  Non Urgent      Public   \n",
       "2219                          Ear Discharge  Non Urgent      Public   \n",
       "2220                         Nasal Fracture      Urgent      Public   \n",
       "2221                         Nasal Fracture      Urgent      Public   \n",
       "2222  Otitis Media with Effusion (Glue Ear)  Non Urgent      Public   \n",
       "\n",
       "     Refer To Specialist Refer To Service Name      Refer To Address  \\\n",
       "2218  Dr Niall Jefferson        ENT Department  John Hunter Hospital   \n",
       "2219  Dr Niall Jefferson        ENT Department  John Hunter Hospital   \n",
       "2220  Dr Niall Jefferson        ENT Department  John Hunter Hospital   \n",
       "2221  Dr Niall Jefferson        ENT Department  John Hunter Hospital   \n",
       "2222  Dr Niall Jefferson        ENT Department  John Hunter Hospital   \n",
       "\n",
       "                                  Indigenous Status                GP Name  \\\n",
       "2218  Neither Aboriginal nor Torres Strait Islander         Dr Darla Grace   \n",
       "2219  Neither Aboriginal nor Torres Strait Islander   Dr Louisa Badenhorst   \n",
       "2220                                          Other  Dr Malihe Bani Hassan   \n",
       "2221      Aboriginal but not Torres Strait Islander  Dr Malihe Bani Hassan   \n",
       "2222  Neither Aboriginal nor Torres Strait Islander   Dr Louisa Badenhorst   \n",
       "\n",
       "                           Practice PMS        Region  \n",
       "2218  Barton Lane Practice Tamworth  BP  New England   \n",
       "2219              Windmill Practice  BP  New England   \n",
       "2220        Inverell Medical Centre  BP  New England   \n",
       "2221        Inverell Medical Centre  BP  New England   \n",
       "2222              Windmill Practice  BP  New England   "
      ]
     },
     "execution_count": 204,
     "metadata": {},
     "output_type": "execute_result"
    }
   ],
   "source": [
    "df.tail()"
   ]
  },
  {
   "cell_type": "code",
   "execution_count": 205,
   "id": "778db09b",
   "metadata": {},
   "outputs": [
    {
     "name": "stdout",
     "output_type": "stream",
     "text": [
      "Number of rows: 2223\n",
      "Number of columns: 15\n"
     ]
    }
   ],
   "source": [
    "rows, cols = df.shape\n",
    "print('Number of rows:', rows)\n",
    "print('Number of columns:', cols)"
   ]
  },
  {
   "cell_type": "code",
   "execution_count": 206,
   "id": "f8da9998",
   "metadata": {},
   "outputs": [
    {
     "name": "stdout",
     "output_type": "stream",
     "text": [
      "Number of duplicates: 0\n"
     ]
    }
   ],
   "source": [
    "print('Number of duplicates:', df.duplicated().sum())"
   ]
  },
  {
   "cell_type": "code",
   "execution_count": 207,
   "id": "5d5417af",
   "metadata": {},
   "outputs": [
    {
     "name": "stdout",
     "output_type": "stream",
     "text": [
      "<class 'pandas.core.frame.DataFrame'>\n",
      "RangeIndex: 2223 entries, 0 to 2222\n",
      "Data columns (total 15 columns):\n",
      " #   Column                 Non-Null Count  Dtype         \n",
      "---  ------                 --------------  -----         \n",
      " 0   Referral ID            2071 non-null   object        \n",
      " 1   Referral Date          2223 non-null   datetime64[ns]\n",
      " 2   Status                 2223 non-null   object        \n",
      " 3   Clinical Area          2223 non-null   object        \n",
      " 4   Service Description    2223 non-null   object        \n",
      " 5   Gp Urgency             2223 non-null   object        \n",
      " 6   Referral To            2223 non-null   object        \n",
      " 7   Refer To Specialist    2223 non-null   object        \n",
      " 8   Refer To Service Name  2223 non-null   object        \n",
      " 9   Refer To Address       2223 non-null   object        \n",
      " 10  Indigenous Status      2021 non-null   object        \n",
      " 11  GP Name                2223 non-null   object        \n",
      " 12  Practice               2223 non-null   object        \n",
      " 13  PMS                    2221 non-null   object        \n",
      " 14  Region                 2223 non-null   object        \n",
      "dtypes: datetime64[ns](1), object(14)\n",
      "memory usage: 260.6+ KB\n"
     ]
    }
   ],
   "source": [
    "# All data are objects (categorical) aside from referral date, which is datetime.\n",
    "\n",
    "df.info()"
   ]
  },
  {
   "cell_type": "markdown",
   "id": "5e0a03f2",
   "metadata": {},
   "source": [
    "### Data Cleaning"
   ]
  },
  {
   "cell_type": "code",
   "execution_count": 208,
   "id": "9fe5432d",
   "metadata": {},
   "outputs": [
    {
     "name": "stdout",
     "output_type": "stream",
     "text": [
      "ENT    2223\n",
      "Name: Clinical Area, dtype: int64\n"
     ]
    }
   ],
   "source": [
    "#Removing Clinical Area column as they are all same value (ENT)\n",
    "\n",
    "print(df['Clinical Area'].value_counts())\n",
    "\n",
    "df = df.drop(columns=['Clinical Area'])"
   ]
  },
  {
   "cell_type": "code",
   "execution_count": 209,
   "id": "f12ddd6e",
   "metadata": {},
   "outputs": [],
   "source": [
    "#Renaming columns\n",
    "\n",
    "df.columns = ['referral_id', \n",
    "              'referral_date', \n",
    "              'status',\n",
    "              'symptoms',\n",
    "              'urgency',\n",
    "              'health_sector',\n",
    "              'specialist_name',\n",
    "              'specialist_service_name',\n",
    "              'specialist_location',\n",
    "              'indigenous_status',\n",
    "              'gp_name',\n",
    "              'gp_practice',\n",
    "              'pms',\n",
    "              'region'\n",
    "             ]"
   ]
  },
  {
   "cell_type": "code",
   "execution_count": 210,
   "id": "cc67774e",
   "metadata": {},
   "outputs": [],
   "source": [
    "#Setting datetime column as index\n",
    "\n",
    "df = df.set_index('referral_date')"
   ]
  },
  {
   "cell_type": "code",
   "execution_count": 211,
   "id": "7b3e4789",
   "metadata": {},
   "outputs": [
    {
     "data": {
      "text/html": [
       "<div>\n",
       "<style scoped>\n",
       "    .dataframe tbody tr th:only-of-type {\n",
       "        vertical-align: middle;\n",
       "    }\n",
       "\n",
       "    .dataframe tbody tr th {\n",
       "        vertical-align: top;\n",
       "    }\n",
       "\n",
       "    .dataframe thead th {\n",
       "        text-align: right;\n",
       "    }\n",
       "</style>\n",
       "<table border=\"1\" class=\"dataframe\">\n",
       "  <thead>\n",
       "    <tr style=\"text-align: right;\">\n",
       "      <th></th>\n",
       "      <th>referral_id</th>\n",
       "      <th>status</th>\n",
       "      <th>symptoms</th>\n",
       "      <th>urgency</th>\n",
       "      <th>health_sector</th>\n",
       "      <th>specialist_name</th>\n",
       "      <th>specialist_service_name</th>\n",
       "      <th>specialist_location</th>\n",
       "      <th>indigenous_status</th>\n",
       "      <th>gp_name</th>\n",
       "      <th>gp_practice</th>\n",
       "      <th>pms</th>\n",
       "      <th>region</th>\n",
       "    </tr>\n",
       "    <tr>\n",
       "      <th>referral_date</th>\n",
       "      <th></th>\n",
       "      <th></th>\n",
       "      <th></th>\n",
       "      <th></th>\n",
       "      <th></th>\n",
       "      <th></th>\n",
       "      <th></th>\n",
       "      <th></th>\n",
       "      <th></th>\n",
       "      <th></th>\n",
       "      <th></th>\n",
       "      <th></th>\n",
       "      <th></th>\n",
       "    </tr>\n",
       "  </thead>\n",
       "  <tbody>\n",
       "    <tr>\n",
       "      <th>2017-09-07</th>\n",
       "      <td>e5649b608af567cc</td>\n",
       "      <td>Sent</td>\n",
       "      <td>Rhinosinusitis</td>\n",
       "      <td>Routine</td>\n",
       "      <td>Public</td>\n",
       "      <td>Dr Nial Jefferson</td>\n",
       "      <td>ENT Department</td>\n",
       "      <td>John Hunter Hospital</td>\n",
       "      <td>NaN</td>\n",
       "      <td>Dr Farzam Tavallaie</td>\n",
       "      <td>Macquarie Family Practice</td>\n",
       "      <td>BP</td>\n",
       "      <td>Greater Newcastle</td>\n",
       "    </tr>\n",
       "    <tr>\n",
       "      <th>2017-09-13</th>\n",
       "      <td>NaN</td>\n",
       "      <td>Print Only</td>\n",
       "      <td>Asymmetrical Sensorineural Hearing Loss</td>\n",
       "      <td>Semi Urgent</td>\n",
       "      <td>Private</td>\n",
       "      <td>Dr Peter Barrie</td>\n",
       "      <td>ENT Surgery Services</td>\n",
       "      <td>Dr Peter Barrie Private Rooms</td>\n",
       "      <td>NaN</td>\n",
       "      <td>Dr Bo Wong</td>\n",
       "      <td>Mayfield Medical Connection</td>\n",
       "      <td>BP</td>\n",
       "      <td>Greater Newcastle</td>\n",
       "    </tr>\n",
       "    <tr>\n",
       "      <th>2017-09-14</th>\n",
       "      <td>fdb7009ce730d3d</td>\n",
       "      <td>Sent</td>\n",
       "      <td>Otitis Media with Effusion (Glue Ear)</td>\n",
       "      <td>Routine</td>\n",
       "      <td>Public</td>\n",
       "      <td>Clinician</td>\n",
       "      <td>Community Speech Therapy Greater Newcastle</td>\n",
       "      <td>Community Health</td>\n",
       "      <td>NaN</td>\n",
       "      <td>Dr Vinay Guddur Karanam</td>\n",
       "      <td>Hello Health Family Practice</td>\n",
       "      <td>BP</td>\n",
       "      <td>Greater Newcastle</td>\n",
       "    </tr>\n",
       "    <tr>\n",
       "      <th>2017-09-19</th>\n",
       "      <td>91a366634b110bcb</td>\n",
       "      <td>Sent</td>\n",
       "      <td>Tonsillitis and sore throat</td>\n",
       "      <td>Routine</td>\n",
       "      <td>Public</td>\n",
       "      <td>Dr Nial Jefferson</td>\n",
       "      <td>ENT Department</td>\n",
       "      <td>John Hunter Hospital</td>\n",
       "      <td>NaN</td>\n",
       "      <td>Dr Michael Chapman</td>\n",
       "      <td>Waratah General Practice</td>\n",
       "      <td>BP</td>\n",
       "      <td>Greater Newcastle</td>\n",
       "    </tr>\n",
       "    <tr>\n",
       "      <th>2017-10-04</th>\n",
       "      <td>931c6f99e9196f5f</td>\n",
       "      <td>Sent</td>\n",
       "      <td>Tonsillitis and sore throat</td>\n",
       "      <td>Routine</td>\n",
       "      <td>Public</td>\n",
       "      <td>Dr Nial Jefferson</td>\n",
       "      <td>ENT Department</td>\n",
       "      <td>John Hunter Hospital</td>\n",
       "      <td>NaN</td>\n",
       "      <td>Dr Farzam Tavallaie</td>\n",
       "      <td>Macquarie Family Practice</td>\n",
       "      <td>BP</td>\n",
       "      <td>Greater Newcastle</td>\n",
       "    </tr>\n",
       "  </tbody>\n",
       "</table>\n",
       "</div>"
      ],
      "text/plain": [
       "                    referral_id      status  \\\n",
       "referral_date                                 \n",
       "2017-09-07     e5649b608af567cc        Sent   \n",
       "2017-09-13                  NaN  Print Only   \n",
       "2017-09-14      fdb7009ce730d3d        Sent   \n",
       "2017-09-19     91a366634b110bcb        Sent   \n",
       "2017-10-04     931c6f99e9196f5f        Sent   \n",
       "\n",
       "                                              symptoms      urgency  \\\n",
       "referral_date                                                         \n",
       "2017-09-07                              Rhinosinusitis      Routine   \n",
       "2017-09-13     Asymmetrical Sensorineural Hearing Loss  Semi Urgent   \n",
       "2017-09-14       Otitis Media with Effusion (Glue Ear)      Routine   \n",
       "2017-09-19                 Tonsillitis and sore throat      Routine   \n",
       "2017-10-04                 Tonsillitis and sore throat      Routine   \n",
       "\n",
       "              health_sector    specialist_name  \\\n",
       "referral_date                                    \n",
       "2017-09-07           Public  Dr Nial Jefferson   \n",
       "2017-09-13          Private    Dr Peter Barrie   \n",
       "2017-09-14           Public          Clinician   \n",
       "2017-09-19           Public  Dr Nial Jefferson   \n",
       "2017-10-04           Public  Dr Nial Jefferson   \n",
       "\n",
       "                                  specialist_service_name  \\\n",
       "referral_date                                               \n",
       "2017-09-07                                 ENT Department   \n",
       "2017-09-13                           ENT Surgery Services   \n",
       "2017-09-14     Community Speech Therapy Greater Newcastle   \n",
       "2017-09-19                                 ENT Department   \n",
       "2017-10-04                                 ENT Department   \n",
       "\n",
       "                         specialist_location indigenous_status  \\\n",
       "referral_date                                                    \n",
       "2017-09-07              John Hunter Hospital               NaN   \n",
       "2017-09-13     Dr Peter Barrie Private Rooms               NaN   \n",
       "2017-09-14                  Community Health               NaN   \n",
       "2017-09-19              John Hunter Hospital               NaN   \n",
       "2017-10-04              John Hunter Hospital               NaN   \n",
       "\n",
       "                               gp_name                   gp_practice pms  \\\n",
       "referral_date                                                              \n",
       "2017-09-07         Dr Farzam Tavallaie     Macquarie Family Practice  BP   \n",
       "2017-09-13                  Dr Bo Wong   Mayfield Medical Connection  BP   \n",
       "2017-09-14     Dr Vinay Guddur Karanam  Hello Health Family Practice  BP   \n",
       "2017-09-19          Dr Michael Chapman      Waratah General Practice  BP   \n",
       "2017-10-04         Dr Farzam Tavallaie     Macquarie Family Practice  BP   \n",
       "\n",
       "                           region  \n",
       "referral_date                      \n",
       "2017-09-07     Greater Newcastle   \n",
       "2017-09-13     Greater Newcastle   \n",
       "2017-09-14     Greater Newcastle   \n",
       "2017-09-19     Greater Newcastle   \n",
       "2017-10-04     Greater Newcastle   "
      ]
     },
     "execution_count": 211,
     "metadata": {},
     "output_type": "execute_result"
    }
   ],
   "source": [
    "df.head() "
   ]
  },
  {
   "cell_type": "markdown",
   "id": "ea281275",
   "metadata": {},
   "source": [
    "### Removing Null Values"
   ]
  },
  {
   "cell_type": "code",
   "execution_count": 212,
   "id": "f437164f",
   "metadata": {},
   "outputs": [
    {
     "data": {
      "text/plain": [
       "referral_id                152\n",
       "status                       0\n",
       "symptoms                     0\n",
       "urgency                      0\n",
       "health_sector                0\n",
       "specialist_name              0\n",
       "specialist_service_name      0\n",
       "specialist_location          0\n",
       "indigenous_status          202\n",
       "gp_name                      0\n",
       "gp_practice                  0\n",
       "pms                          2\n",
       "region                       0\n",
       "dtype: int64"
      ]
     },
     "execution_count": 212,
     "metadata": {},
     "output_type": "execute_result"
    }
   ],
   "source": [
    "#There are some missing values in referral ID and indigenous status columns\n",
    "\n",
    "df.isnull().sum()"
   ]
  },
  {
   "cell_type": "code",
   "execution_count": 213,
   "id": "68777584",
   "metadata": {},
   "outputs": [
    {
     "name": "stdout",
     "output_type": "stream",
     "text": [
      "Null values of indigenous status percentage of dataset: 9.0 %\n"
     ]
    }
   ],
   "source": [
    "#Null values are present at a relatively high proportion in one of the columns of most interest to the analysis (indigenous status)\n",
    "\n",
    "print('Null values of indigenous status percentage of dataset:', np.round((df['indigenous_status'].isnull().sum() / len(df)) * 100), '%')"
   ]
  },
  {
   "cell_type": "code",
   "execution_count": 214,
   "id": "50b6ebc0",
   "metadata": {},
   "outputs": [
    {
     "data": {
      "text/html": [
       "<div>\n",
       "<style scoped>\n",
       "    .dataframe tbody tr th:only-of-type {\n",
       "        vertical-align: middle;\n",
       "    }\n",
       "\n",
       "    .dataframe tbody tr th {\n",
       "        vertical-align: top;\n",
       "    }\n",
       "\n",
       "    .dataframe thead th {\n",
       "        text-align: right;\n",
       "    }\n",
       "</style>\n",
       "<table border=\"1\" class=\"dataframe\">\n",
       "  <thead>\n",
       "    <tr style=\"text-align: right;\">\n",
       "      <th></th>\n",
       "      <th>referral_id</th>\n",
       "      <th>status</th>\n",
       "      <th>symptoms</th>\n",
       "      <th>urgency</th>\n",
       "      <th>health_sector</th>\n",
       "      <th>specialist_name</th>\n",
       "      <th>specialist_service_name</th>\n",
       "      <th>specialist_location</th>\n",
       "      <th>indigenous_status</th>\n",
       "      <th>gp_name</th>\n",
       "      <th>gp_practice</th>\n",
       "      <th>pms</th>\n",
       "      <th>region</th>\n",
       "    </tr>\n",
       "    <tr>\n",
       "      <th>referral_date</th>\n",
       "      <th></th>\n",
       "      <th></th>\n",
       "      <th></th>\n",
       "      <th></th>\n",
       "      <th></th>\n",
       "      <th></th>\n",
       "      <th></th>\n",
       "      <th></th>\n",
       "      <th></th>\n",
       "      <th></th>\n",
       "      <th></th>\n",
       "      <th></th>\n",
       "      <th></th>\n",
       "    </tr>\n",
       "  </thead>\n",
       "  <tbody>\n",
       "    <tr>\n",
       "      <th>2017-09-07</th>\n",
       "      <td>e5649b608af567cc</td>\n",
       "      <td>Sent</td>\n",
       "      <td>Rhinosinusitis</td>\n",
       "      <td>Routine</td>\n",
       "      <td>Public</td>\n",
       "      <td>Dr Nial Jefferson</td>\n",
       "      <td>ENT Department</td>\n",
       "      <td>John Hunter Hospital</td>\n",
       "      <td>NaN</td>\n",
       "      <td>Dr Farzam Tavallaie</td>\n",
       "      <td>Macquarie Family Practice</td>\n",
       "      <td>BP</td>\n",
       "      <td>Greater Newcastle</td>\n",
       "    </tr>\n",
       "    <tr>\n",
       "      <th>2017-09-13</th>\n",
       "      <td>NaN</td>\n",
       "      <td>Print Only</td>\n",
       "      <td>Asymmetrical Sensorineural Hearing Loss</td>\n",
       "      <td>Semi Urgent</td>\n",
       "      <td>Private</td>\n",
       "      <td>Dr Peter Barrie</td>\n",
       "      <td>ENT Surgery Services</td>\n",
       "      <td>Dr Peter Barrie Private Rooms</td>\n",
       "      <td>NaN</td>\n",
       "      <td>Dr Bo Wong</td>\n",
       "      <td>Mayfield Medical Connection</td>\n",
       "      <td>BP</td>\n",
       "      <td>Greater Newcastle</td>\n",
       "    </tr>\n",
       "    <tr>\n",
       "      <th>2017-09-14</th>\n",
       "      <td>fdb7009ce730d3d</td>\n",
       "      <td>Sent</td>\n",
       "      <td>Otitis Media with Effusion (Glue Ear)</td>\n",
       "      <td>Routine</td>\n",
       "      <td>Public</td>\n",
       "      <td>Clinician</td>\n",
       "      <td>Community Speech Therapy Greater Newcastle</td>\n",
       "      <td>Community Health</td>\n",
       "      <td>NaN</td>\n",
       "      <td>Dr Vinay Guddur Karanam</td>\n",
       "      <td>Hello Health Family Practice</td>\n",
       "      <td>BP</td>\n",
       "      <td>Greater Newcastle</td>\n",
       "    </tr>\n",
       "    <tr>\n",
       "      <th>2017-09-19</th>\n",
       "      <td>91a366634b110bcb</td>\n",
       "      <td>Sent</td>\n",
       "      <td>Tonsillitis and sore throat</td>\n",
       "      <td>Routine</td>\n",
       "      <td>Public</td>\n",
       "      <td>Dr Nial Jefferson</td>\n",
       "      <td>ENT Department</td>\n",
       "      <td>John Hunter Hospital</td>\n",
       "      <td>NaN</td>\n",
       "      <td>Dr Michael Chapman</td>\n",
       "      <td>Waratah General Practice</td>\n",
       "      <td>BP</td>\n",
       "      <td>Greater Newcastle</td>\n",
       "    </tr>\n",
       "    <tr>\n",
       "      <th>2017-10-04</th>\n",
       "      <td>931c6f99e9196f5f</td>\n",
       "      <td>Sent</td>\n",
       "      <td>Tonsillitis and sore throat</td>\n",
       "      <td>Routine</td>\n",
       "      <td>Public</td>\n",
       "      <td>Dr Nial Jefferson</td>\n",
       "      <td>ENT Department</td>\n",
       "      <td>John Hunter Hospital</td>\n",
       "      <td>NaN</td>\n",
       "      <td>Dr Farzam Tavallaie</td>\n",
       "      <td>Macquarie Family Practice</td>\n",
       "      <td>BP</td>\n",
       "      <td>Greater Newcastle</td>\n",
       "    </tr>\n",
       "    <tr>\n",
       "      <th>...</th>\n",
       "      <td>...</td>\n",
       "      <td>...</td>\n",
       "      <td>...</td>\n",
       "      <td>...</td>\n",
       "      <td>...</td>\n",
       "      <td>...</td>\n",
       "      <td>...</td>\n",
       "      <td>...</td>\n",
       "      <td>...</td>\n",
       "      <td>...</td>\n",
       "      <td>...</td>\n",
       "      <td>...</td>\n",
       "      <td>...</td>\n",
       "    </tr>\n",
       "    <tr>\n",
       "      <th>2019-02-22</th>\n",
       "      <td>852f7d1470b1bfd4</td>\n",
       "      <td>Sent</td>\n",
       "      <td>Rhinosinusitis</td>\n",
       "      <td>Routine</td>\n",
       "      <td>Public</td>\n",
       "      <td>Dr Niall Jefferson</td>\n",
       "      <td>ENT Department</td>\n",
       "      <td>John Hunter Hospital</td>\n",
       "      <td>NaN</td>\n",
       "      <td>Dr Hazel Holly</td>\n",
       "      <td>East Maitland Family Medical Centre</td>\n",
       "      <td>BP</td>\n",
       "      <td>Lower Hunter</td>\n",
       "    </tr>\n",
       "    <tr>\n",
       "      <th>2019-02-26</th>\n",
       "      <td>b85738b43e355d50</td>\n",
       "      <td>Sent</td>\n",
       "      <td>Acute Otitis Media in Children</td>\n",
       "      <td>Routine</td>\n",
       "      <td>Public</td>\n",
       "      <td>Dr Niall Jefferson</td>\n",
       "      <td>ENT Department</td>\n",
       "      <td>John Hunter Hospital</td>\n",
       "      <td>NaN</td>\n",
       "      <td>Dr Hazel Holly</td>\n",
       "      <td>East Maitland Family Medical Centre</td>\n",
       "      <td>BP</td>\n",
       "      <td>Lower Hunter</td>\n",
       "    </tr>\n",
       "    <tr>\n",
       "      <th>2018-10-09</th>\n",
       "      <td>7738900aa6a9fb4a</td>\n",
       "      <td>Sent</td>\n",
       "      <td>Rhinosinusitis</td>\n",
       "      <td>Routine</td>\n",
       "      <td>Public</td>\n",
       "      <td>Dr Niall Jefferson</td>\n",
       "      <td>ENT Department</td>\n",
       "      <td>John Hunter Hospital</td>\n",
       "      <td>NaN</td>\n",
       "      <td>Dr Shuen Yeoh</td>\n",
       "      <td>Ochre Health Bonnells Bay</td>\n",
       "      <td>BP</td>\n",
       "      <td>Mid Coast</td>\n",
       "    </tr>\n",
       "    <tr>\n",
       "      <th>2018-10-25</th>\n",
       "      <td>28a5b47522111d6c</td>\n",
       "      <td>Sent</td>\n",
       "      <td>Asymmetrical Sensorineural Hearing Loss</td>\n",
       "      <td>Semi Urgent</td>\n",
       "      <td>Public</td>\n",
       "      <td>Dr Niall Jefferson</td>\n",
       "      <td>ENT Department</td>\n",
       "      <td>John Hunter Hospital</td>\n",
       "      <td>NaN</td>\n",
       "      <td>Dr Melissa Lucas</td>\n",
       "      <td>Peel Health Care</td>\n",
       "      <td>BP</td>\n",
       "      <td>New England</td>\n",
       "    </tr>\n",
       "    <tr>\n",
       "      <th>2018-11-30</th>\n",
       "      <td>2f37fbf682eca801</td>\n",
       "      <td>Sent</td>\n",
       "      <td>Dysphagia</td>\n",
       "      <td>Semi Urgent</td>\n",
       "      <td>Public</td>\n",
       "      <td>Dr Niall Jefferson</td>\n",
       "      <td>ENT Department</td>\n",
       "      <td>John Hunter Hospital</td>\n",
       "      <td>NaN</td>\n",
       "      <td>Dr Pooja Rajput</td>\n",
       "      <td>Windmill Practice</td>\n",
       "      <td>BP</td>\n",
       "      <td>New England</td>\n",
       "    </tr>\n",
       "  </tbody>\n",
       "</table>\n",
       "<p>202 rows × 13 columns</p>\n",
       "</div>"
      ],
      "text/plain": [
       "                    referral_id      status  \\\n",
       "referral_date                                 \n",
       "2017-09-07     e5649b608af567cc        Sent   \n",
       "2017-09-13                  NaN  Print Only   \n",
       "2017-09-14      fdb7009ce730d3d        Sent   \n",
       "2017-09-19     91a366634b110bcb        Sent   \n",
       "2017-10-04     931c6f99e9196f5f        Sent   \n",
       "...                         ...         ...   \n",
       "2019-02-22     852f7d1470b1bfd4        Sent   \n",
       "2019-02-26     b85738b43e355d50        Sent   \n",
       "2018-10-09     7738900aa6a9fb4a        Sent   \n",
       "2018-10-25     28a5b47522111d6c        Sent   \n",
       "2018-11-30     2f37fbf682eca801        Sent   \n",
       "\n",
       "                                              symptoms      urgency  \\\n",
       "referral_date                                                         \n",
       "2017-09-07                              Rhinosinusitis      Routine   \n",
       "2017-09-13     Asymmetrical Sensorineural Hearing Loss  Semi Urgent   \n",
       "2017-09-14       Otitis Media with Effusion (Glue Ear)      Routine   \n",
       "2017-09-19                 Tonsillitis and sore throat      Routine   \n",
       "2017-10-04                 Tonsillitis and sore throat      Routine   \n",
       "...                                                ...          ...   \n",
       "2019-02-22                              Rhinosinusitis      Routine   \n",
       "2019-02-26              Acute Otitis Media in Children      Routine   \n",
       "2018-10-09                              Rhinosinusitis      Routine   \n",
       "2018-10-25     Asymmetrical Sensorineural Hearing Loss  Semi Urgent   \n",
       "2018-11-30                                   Dysphagia  Semi Urgent   \n",
       "\n",
       "              health_sector     specialist_name  \\\n",
       "referral_date                                     \n",
       "2017-09-07           Public   Dr Nial Jefferson   \n",
       "2017-09-13          Private     Dr Peter Barrie   \n",
       "2017-09-14           Public           Clinician   \n",
       "2017-09-19           Public   Dr Nial Jefferson   \n",
       "2017-10-04           Public   Dr Nial Jefferson   \n",
       "...                     ...                 ...   \n",
       "2019-02-22           Public  Dr Niall Jefferson   \n",
       "2019-02-26           Public  Dr Niall Jefferson   \n",
       "2018-10-09           Public  Dr Niall Jefferson   \n",
       "2018-10-25           Public  Dr Niall Jefferson   \n",
       "2018-11-30           Public  Dr Niall Jefferson   \n",
       "\n",
       "                                  specialist_service_name  \\\n",
       "referral_date                                               \n",
       "2017-09-07                                 ENT Department   \n",
       "2017-09-13                           ENT Surgery Services   \n",
       "2017-09-14     Community Speech Therapy Greater Newcastle   \n",
       "2017-09-19                                 ENT Department   \n",
       "2017-10-04                                 ENT Department   \n",
       "...                                                   ...   \n",
       "2019-02-22                                 ENT Department   \n",
       "2019-02-26                                 ENT Department   \n",
       "2018-10-09                                 ENT Department   \n",
       "2018-10-25                                 ENT Department   \n",
       "2018-11-30                                 ENT Department   \n",
       "\n",
       "                         specialist_location indigenous_status  \\\n",
       "referral_date                                                    \n",
       "2017-09-07              John Hunter Hospital               NaN   \n",
       "2017-09-13     Dr Peter Barrie Private Rooms               NaN   \n",
       "2017-09-14                  Community Health               NaN   \n",
       "2017-09-19              John Hunter Hospital               NaN   \n",
       "2017-10-04              John Hunter Hospital               NaN   \n",
       "...                                      ...               ...   \n",
       "2019-02-22              John Hunter Hospital               NaN   \n",
       "2019-02-26              John Hunter Hospital               NaN   \n",
       "2018-10-09              John Hunter Hospital               NaN   \n",
       "2018-10-25              John Hunter Hospital               NaN   \n",
       "2018-11-30              John Hunter Hospital               NaN   \n",
       "\n",
       "                               gp_name                          gp_practice  \\\n",
       "referral_date                                                                 \n",
       "2017-09-07         Dr Farzam Tavallaie            Macquarie Family Practice   \n",
       "2017-09-13                  Dr Bo Wong          Mayfield Medical Connection   \n",
       "2017-09-14     Dr Vinay Guddur Karanam         Hello Health Family Practice   \n",
       "2017-09-19          Dr Michael Chapman             Waratah General Practice   \n",
       "2017-10-04         Dr Farzam Tavallaie            Macquarie Family Practice   \n",
       "...                                ...                                  ...   \n",
       "2019-02-22              Dr Hazel Holly  East Maitland Family Medical Centre   \n",
       "2019-02-26              Dr Hazel Holly  East Maitland Family Medical Centre   \n",
       "2018-10-09               Dr Shuen Yeoh            Ochre Health Bonnells Bay   \n",
       "2018-10-25            Dr Melissa Lucas                     Peel Health Care   \n",
       "2018-11-30             Dr Pooja Rajput                    Windmill Practice   \n",
       "\n",
       "              pms              region  \n",
       "referral_date                          \n",
       "2017-09-07     BP  Greater Newcastle   \n",
       "2017-09-13     BP  Greater Newcastle   \n",
       "2017-09-14     BP  Greater Newcastle   \n",
       "2017-09-19     BP  Greater Newcastle   \n",
       "2017-10-04     BP  Greater Newcastle   \n",
       "...            ..                 ...  \n",
       "2019-02-22     BP       Lower Hunter   \n",
       "2019-02-26     BP       Lower Hunter   \n",
       "2018-10-09     BP          Mid Coast   \n",
       "2018-10-25     BP        New England   \n",
       "2018-11-30     BP        New England   \n",
       "\n",
       "[202 rows x 13 columns]"
      ]
     },
     "execution_count": 214,
     "metadata": {},
     "output_type": "execute_result"
    }
   ],
   "source": [
    "#There doesn't appear to be any consistent pattern in the null values, meaning they can't be imputed from other datapoints.\n",
    "\n",
    "df[df.indigenous_status.isnull()]"
   ]
  },
  {
   "cell_type": "code",
   "execution_count": 215,
   "id": "ed631108",
   "metadata": {},
   "outputs": [
    {
     "data": {
      "text/plain": [
       "Neither Aboriginal nor Torres Strait Islander    1154\n",
       "Other                                             535\n",
       "Aboriginal but not Torres Strait Islander         212\n",
       "Not Stated                                         75\n",
       "Non Aboriginal/Torres Strait Islander              13\n",
       "Aboriginal                                         11\n",
       "Both Aboriginal and Torres Strait Islander         10\n",
       "Torres Strait Islander but not Aboriginal           6\n",
       "Male                                                3\n",
       "Female                                              2\n",
       "Name: indigenous_status, dtype: int64"
      ]
     },
     "execution_count": 215,
     "metadata": {},
     "output_type": "execute_result"
    }
   ],
   "source": [
    "#There are also some duplicate categories and some non-relevant information in indigenous_status, these will be consolidated into a smaller set of categories\n",
    "\n",
    "df.indigenous_status.value_counts()"
   ]
  },
  {
   "cell_type": "code",
   "execution_count": 216,
   "id": "dc9e3b3a",
   "metadata": {},
   "outputs": [],
   "source": [
    "#Instead of imputation, the null values in indigenous status will be filled with 'Not Stated'\n",
    "\n",
    "df.indigenous_status.fillna('Not Stated', inplace=True)"
   ]
  },
  {
   "cell_type": "code",
   "execution_count": 217,
   "id": "a86ed046",
   "metadata": {},
   "outputs": [
    {
     "data": {
      "text/plain": [
       "Neither Aboriginal nor Torres Strait Islander    1154\n",
       "Other                                             535\n",
       "Not Stated                                        277\n",
       "Aboriginal but not Torres Strait Islander         212\n",
       "Non Aboriginal/Torres Strait Islander              13\n",
       "Aboriginal                                         11\n",
       "Both Aboriginal and Torres Strait Islander         10\n",
       "Torres Strait Islander but not Aboriginal           6\n",
       "Male                                                3\n",
       "Female                                              2\n",
       "Name: indigenous_status, dtype: int64"
      ]
     },
     "execution_count": 217,
     "metadata": {},
     "output_type": "execute_result"
    }
   ],
   "source": [
    "#Not stated now contains additional 202 entries that were previously null\n",
    "\n",
    "df.indigenous_status.value_counts()"
   ]
  },
  {
   "cell_type": "code",
   "execution_count": 218,
   "id": "df14495c",
   "metadata": {},
   "outputs": [
    {
     "data": {
      "text/html": [
       "<div>\n",
       "<style scoped>\n",
       "    .dataframe tbody tr th:only-of-type {\n",
       "        vertical-align: middle;\n",
       "    }\n",
       "\n",
       "    .dataframe tbody tr th {\n",
       "        vertical-align: top;\n",
       "    }\n",
       "\n",
       "    .dataframe thead th {\n",
       "        text-align: right;\n",
       "    }\n",
       "</style>\n",
       "<table border=\"1\" class=\"dataframe\">\n",
       "  <thead>\n",
       "    <tr style=\"text-align: right;\">\n",
       "      <th></th>\n",
       "      <th>referral_id</th>\n",
       "      <th>status</th>\n",
       "      <th>symptoms</th>\n",
       "      <th>urgency</th>\n",
       "      <th>health_sector</th>\n",
       "      <th>specialist_name</th>\n",
       "      <th>specialist_service_name</th>\n",
       "      <th>specialist_location</th>\n",
       "      <th>indigenous_status</th>\n",
       "      <th>gp_name</th>\n",
       "      <th>gp_practice</th>\n",
       "      <th>pms</th>\n",
       "      <th>region</th>\n",
       "    </tr>\n",
       "    <tr>\n",
       "      <th>referral_date</th>\n",
       "      <th></th>\n",
       "      <th></th>\n",
       "      <th></th>\n",
       "      <th></th>\n",
       "      <th></th>\n",
       "      <th></th>\n",
       "      <th></th>\n",
       "      <th></th>\n",
       "      <th></th>\n",
       "      <th></th>\n",
       "      <th></th>\n",
       "      <th></th>\n",
       "      <th></th>\n",
       "    </tr>\n",
       "  </thead>\n",
       "  <tbody>\n",
       "    <tr>\n",
       "      <th>2017-09-13</th>\n",
       "      <td>NaN</td>\n",
       "      <td>Print Only</td>\n",
       "      <td>Asymmetrical Sensorineural Hearing Loss</td>\n",
       "      <td>Semi Urgent</td>\n",
       "      <td>Private</td>\n",
       "      <td>Dr Peter Barrie</td>\n",
       "      <td>ENT Surgery Services</td>\n",
       "      <td>Dr Peter Barrie Private Rooms</td>\n",
       "      <td>Not Stated</td>\n",
       "      <td>Dr Bo Wong</td>\n",
       "      <td>Mayfield Medical Connection</td>\n",
       "      <td>BP</td>\n",
       "      <td>Greater Newcastle</td>\n",
       "    </tr>\n",
       "    <tr>\n",
       "      <th>2017-10-31</th>\n",
       "      <td>NaN</td>\n",
       "      <td>Print Only</td>\n",
       "      <td>Recurrent Epistaxis in Children</td>\n",
       "      <td>Semi Urgent</td>\n",
       "      <td>Private</td>\n",
       "      <td>Assoc Prof Paul Walker</td>\n",
       "      <td>ENT Surgery Services</td>\n",
       "      <td>Newcastle Private Hospital</td>\n",
       "      <td>Not Stated</td>\n",
       "      <td>Dr Dobrila Bajic</td>\n",
       "      <td>Main Road Medical Services</td>\n",
       "      <td>MD</td>\n",
       "      <td>Greater Newcastle</td>\n",
       "    </tr>\n",
       "    <tr>\n",
       "      <th>2017-11-09</th>\n",
       "      <td>NaN</td>\n",
       "      <td>Print Only</td>\n",
       "      <td>Otitis Media with Effusion (Glue Ear)</td>\n",
       "      <td>Semi Urgent</td>\n",
       "      <td>Private</td>\n",
       "      <td>Clinician</td>\n",
       "      <td>Audiology Services</td>\n",
       "      <td>East 'n' Holmes Audiology</td>\n",
       "      <td>Not Stated</td>\n",
       "      <td>Dr Stewart Shields</td>\n",
       "      <td>Fern Bay Medical Centre</td>\n",
       "      <td>BP</td>\n",
       "      <td>Greater Newcastle</td>\n",
       "    </tr>\n",
       "    <tr>\n",
       "      <th>2018-09-06</th>\n",
       "      <td>NaN</td>\n",
       "      <td>Print Only</td>\n",
       "      <td>Acute Otitis Media in Children</td>\n",
       "      <td>Urgent</td>\n",
       "      <td>Private</td>\n",
       "      <td>Assoc Prof Paul Walker</td>\n",
       "      <td>ENT Surgery Services</td>\n",
       "      <td>Newcastle Private Hospital</td>\n",
       "      <td>Not Stated</td>\n",
       "      <td>Dr Farzam Tavallaie</td>\n",
       "      <td>Macquarie Family Practice</td>\n",
       "      <td>BP</td>\n",
       "      <td>Greater Newcastle</td>\n",
       "    </tr>\n",
       "    <tr>\n",
       "      <th>2018-09-06</th>\n",
       "      <td>NaN</td>\n",
       "      <td>Print Only</td>\n",
       "      <td>Acute Otitis Media in Children</td>\n",
       "      <td>Urgent</td>\n",
       "      <td>Private</td>\n",
       "      <td>Dr Peter Barrie</td>\n",
       "      <td>ENT Surgery Services</td>\n",
       "      <td>Dr Peter Barrie Private Rooms</td>\n",
       "      <td>Not Stated</td>\n",
       "      <td>Dr Farzam Tavallaie</td>\n",
       "      <td>Macquarie Family Practice</td>\n",
       "      <td>BP</td>\n",
       "      <td>Greater Newcastle</td>\n",
       "    </tr>\n",
       "    <tr>\n",
       "      <th>...</th>\n",
       "      <td>...</td>\n",
       "      <td>...</td>\n",
       "      <td>...</td>\n",
       "      <td>...</td>\n",
       "      <td>...</td>\n",
       "      <td>...</td>\n",
       "      <td>...</td>\n",
       "      <td>...</td>\n",
       "      <td>...</td>\n",
       "      <td>...</td>\n",
       "      <td>...</td>\n",
       "      <td>...</td>\n",
       "      <td>...</td>\n",
       "    </tr>\n",
       "    <tr>\n",
       "      <th>2021-02-04</th>\n",
       "      <td>NaN</td>\n",
       "      <td>Open</td>\n",
       "      <td>Ear Anomalies</td>\n",
       "      <td>Non Urgent</td>\n",
       "      <td>Private</td>\n",
       "      <td>Dr Allan Forrest</td>\n",
       "      <td>ENT Surgery Services</td>\n",
       "      <td>Dr Allan Forrest - Peel Health Care</td>\n",
       "      <td>Other</td>\n",
       "      <td>Dr Jayantha Weerasekera</td>\n",
       "      <td>MedCIRC Barraba</td>\n",
       "      <td>BP</td>\n",
       "      <td>New England</td>\n",
       "    </tr>\n",
       "    <tr>\n",
       "      <th>2021-02-22</th>\n",
       "      <td>NaN</td>\n",
       "      <td>Open</td>\n",
       "      <td>Other ENT Concern</td>\n",
       "      <td>Non Urgent</td>\n",
       "      <td>Private</td>\n",
       "      <td>Dr Allan Forrest</td>\n",
       "      <td>ENT Surgery Services</td>\n",
       "      <td>Dr Allan Forrest - Peel Health Care</td>\n",
       "      <td>Neither Aboriginal nor Torres Strait Islander</td>\n",
       "      <td>Dr Sammu Saman Maheepala</td>\n",
       "      <td>Gwydir Medical</td>\n",
       "      <td>MD</td>\n",
       "      <td>New England</td>\n",
       "    </tr>\n",
       "    <tr>\n",
       "      <th>2021-03-12</th>\n",
       "      <td>NaN</td>\n",
       "      <td>Print Only</td>\n",
       "      <td>Rhinosinusitis</td>\n",
       "      <td>Non Urgent</td>\n",
       "      <td>Private</td>\n",
       "      <td>Dr Peter Barrie</td>\n",
       "      <td>ENT Surgery Services</td>\n",
       "      <td>Dr Peter Barrie Private Rooms</td>\n",
       "      <td>Neither Aboriginal nor Torres Strait Islander</td>\n",
       "      <td>Dr Emma Madams</td>\n",
       "      <td>Smith Street Practice</td>\n",
       "      <td>BP</td>\n",
       "      <td>New England</td>\n",
       "    </tr>\n",
       "    <tr>\n",
       "      <th>2021-03-14</th>\n",
       "      <td>NaN</td>\n",
       "      <td>Open</td>\n",
       "      <td>Other ENT Concern</td>\n",
       "      <td>Non Urgent</td>\n",
       "      <td>Private</td>\n",
       "      <td>Dr Allan Forrest</td>\n",
       "      <td>ENT Surgery Services</td>\n",
       "      <td>Dr Allan Forrest - Peel Health Care</td>\n",
       "      <td>Other</td>\n",
       "      <td>Dr Daniel Chen</td>\n",
       "      <td>Integral Health Armidale</td>\n",
       "      <td>BP</td>\n",
       "      <td>New England</td>\n",
       "    </tr>\n",
       "    <tr>\n",
       "      <th>2021-06-01</th>\n",
       "      <td>NaN</td>\n",
       "      <td>Open</td>\n",
       "      <td>Rhinosinusitis</td>\n",
       "      <td>Non Urgent</td>\n",
       "      <td>Private</td>\n",
       "      <td>Dr Allan Forrest</td>\n",
       "      <td>ENT Surgery Services</td>\n",
       "      <td>Dr Allan Forrest - Peel Health Care</td>\n",
       "      <td>Other</td>\n",
       "      <td>Dr Beimop Tapim</td>\n",
       "      <td>Peel Health Care</td>\n",
       "      <td>BP</td>\n",
       "      <td>New England</td>\n",
       "    </tr>\n",
       "  </tbody>\n",
       "</table>\n",
       "<p>152 rows × 13 columns</p>\n",
       "</div>"
      ],
      "text/plain": [
       "              referral_id      status  \\\n",
       "referral_date                           \n",
       "2017-09-13            NaN  Print Only   \n",
       "2017-10-31            NaN  Print Only   \n",
       "2017-11-09            NaN  Print Only   \n",
       "2018-09-06            NaN  Print Only   \n",
       "2018-09-06            NaN  Print Only   \n",
       "...                   ...         ...   \n",
       "2021-02-04            NaN        Open   \n",
       "2021-02-22            NaN        Open   \n",
       "2021-03-12            NaN  Print Only   \n",
       "2021-03-14            NaN        Open   \n",
       "2021-06-01            NaN        Open   \n",
       "\n",
       "                                              symptoms      urgency  \\\n",
       "referral_date                                                         \n",
       "2017-09-13     Asymmetrical Sensorineural Hearing Loss  Semi Urgent   \n",
       "2017-10-31             Recurrent Epistaxis in Children  Semi Urgent   \n",
       "2017-11-09       Otitis Media with Effusion (Glue Ear)  Semi Urgent   \n",
       "2018-09-06              Acute Otitis Media in Children       Urgent   \n",
       "2018-09-06              Acute Otitis Media in Children       Urgent   \n",
       "...                                                ...          ...   \n",
       "2021-02-04                               Ear Anomalies   Non Urgent   \n",
       "2021-02-22                           Other ENT Concern   Non Urgent   \n",
       "2021-03-12                              Rhinosinusitis   Non Urgent   \n",
       "2021-03-14                           Other ENT Concern   Non Urgent   \n",
       "2021-06-01                              Rhinosinusitis   Non Urgent   \n",
       "\n",
       "              health_sector         specialist_name specialist_service_name  \\\n",
       "referral_date                                                                 \n",
       "2017-09-13          Private         Dr Peter Barrie    ENT Surgery Services   \n",
       "2017-10-31          Private  Assoc Prof Paul Walker    ENT Surgery Services   \n",
       "2017-11-09          Private               Clinician      Audiology Services   \n",
       "2018-09-06          Private  Assoc Prof Paul Walker    ENT Surgery Services   \n",
       "2018-09-06          Private         Dr Peter Barrie    ENT Surgery Services   \n",
       "...                     ...                     ...                     ...   \n",
       "2021-02-04          Private        Dr Allan Forrest    ENT Surgery Services   \n",
       "2021-02-22          Private        Dr Allan Forrest    ENT Surgery Services   \n",
       "2021-03-12          Private         Dr Peter Barrie    ENT Surgery Services   \n",
       "2021-03-14          Private        Dr Allan Forrest    ENT Surgery Services   \n",
       "2021-06-01          Private        Dr Allan Forrest    ENT Surgery Services   \n",
       "\n",
       "                               specialist_location  \\\n",
       "referral_date                                        \n",
       "2017-09-13           Dr Peter Barrie Private Rooms   \n",
       "2017-10-31              Newcastle Private Hospital   \n",
       "2017-11-09               East 'n' Holmes Audiology   \n",
       "2018-09-06              Newcastle Private Hospital   \n",
       "2018-09-06           Dr Peter Barrie Private Rooms   \n",
       "...                                            ...   \n",
       "2021-02-04     Dr Allan Forrest - Peel Health Care   \n",
       "2021-02-22     Dr Allan Forrest - Peel Health Care   \n",
       "2021-03-12           Dr Peter Barrie Private Rooms   \n",
       "2021-03-14     Dr Allan Forrest - Peel Health Care   \n",
       "2021-06-01     Dr Allan Forrest - Peel Health Care   \n",
       "\n",
       "                                           indigenous_status  \\\n",
       "referral_date                                                  \n",
       "2017-09-13                                        Not Stated   \n",
       "2017-10-31                                        Not Stated   \n",
       "2017-11-09                                        Not Stated   \n",
       "2018-09-06                                        Not Stated   \n",
       "2018-09-06                                        Not Stated   \n",
       "...                                                      ...   \n",
       "2021-02-04                                             Other   \n",
       "2021-02-22     Neither Aboriginal nor Torres Strait Islander   \n",
       "2021-03-12     Neither Aboriginal nor Torres Strait Islander   \n",
       "2021-03-14                                             Other   \n",
       "2021-06-01                                             Other   \n",
       "\n",
       "                                gp_name                  gp_practice pms  \\\n",
       "referral_date                                                              \n",
       "2017-09-13                   Dr Bo Wong  Mayfield Medical Connection  BP   \n",
       "2017-10-31             Dr Dobrila Bajic   Main Road Medical Services  MD   \n",
       "2017-11-09           Dr Stewart Shields      Fern Bay Medical Centre  BP   \n",
       "2018-09-06          Dr Farzam Tavallaie    Macquarie Family Practice  BP   \n",
       "2018-09-06          Dr Farzam Tavallaie    Macquarie Family Practice  BP   \n",
       "...                                 ...                          ...  ..   \n",
       "2021-02-04      Dr Jayantha Weerasekera              MedCIRC Barraba  BP   \n",
       "2021-02-22     Dr Sammu Saman Maheepala               Gwydir Medical  MD   \n",
       "2021-03-12               Dr Emma Madams        Smith Street Practice  BP   \n",
       "2021-03-14               Dr Daniel Chen     Integral Health Armidale  BP   \n",
       "2021-06-01              Dr Beimop Tapim             Peel Health Care  BP   \n",
       "\n",
       "                           region  \n",
       "referral_date                      \n",
       "2017-09-13     Greater Newcastle   \n",
       "2017-10-31     Greater Newcastle   \n",
       "2017-11-09     Greater Newcastle   \n",
       "2018-09-06     Greater Newcastle   \n",
       "2018-09-06     Greater Newcastle   \n",
       "...                           ...  \n",
       "2021-02-04           New England   \n",
       "2021-02-22           New England   \n",
       "2021-03-12           New England   \n",
       "2021-03-14           New England   \n",
       "2021-06-01           New England   \n",
       "\n",
       "[152 rows x 13 columns]"
      ]
     },
     "execution_count": 218,
     "metadata": {},
     "output_type": "execute_result"
    }
   ],
   "source": [
    "#Moving onto null values in referral_id, there appears to be an association with status column, can't see any 'Sent' values as in original dataframe\n",
    "\n",
    "df[df.referral_id.isnull()]"
   ]
  },
  {
   "cell_type": "code",
   "execution_count": 219,
   "id": "c5700417",
   "metadata": {},
   "outputs": [
    {
     "data": {
      "text/plain": [
       "Print Only    122\n",
       "Open           25\n",
       "Archived        4\n",
       "Sent            1\n",
       "Name: status, dtype: int64"
      ]
     },
     "execution_count": 219,
     "metadata": {},
     "output_type": "execute_result"
    }
   ],
   "source": [
    "# Apart from 1 value, cells with no referral ID seem to be print only, open or archived\n",
    "\n",
    "ref_null = df[df.referral_id.isnull()]\n",
    "ref_null.status.value_counts()"
   ]
  },
  {
   "cell_type": "code",
   "execution_count": 220,
   "id": "bda323fc",
   "metadata": {},
   "outputs": [
    {
     "data": {
      "text/plain": [
       "3"
      ]
     },
     "execution_count": 220,
     "metadata": {},
     "output_type": "execute_result"
    }
   ],
   "source": [
    "# Keeping referral column as an identifier but dropping status column, as it is not relevant to the analysis.\n",
    "df = df.drop(columns=['status'])\n",
    "\n",
    "#This creates 3 apparent duplicates.\n",
    "df.duplicated().sum()"
   ]
  },
  {
   "cell_type": "code",
   "execution_count": 221,
   "id": "2c99eed6",
   "metadata": {},
   "outputs": [
    {
     "data": {
      "text/html": [
       "<div>\n",
       "<style scoped>\n",
       "    .dataframe tbody tr th:only-of-type {\n",
       "        vertical-align: middle;\n",
       "    }\n",
       "\n",
       "    .dataframe tbody tr th {\n",
       "        vertical-align: top;\n",
       "    }\n",
       "\n",
       "    .dataframe thead th {\n",
       "        text-align: right;\n",
       "    }\n",
       "</style>\n",
       "<table border=\"1\" class=\"dataframe\">\n",
       "  <thead>\n",
       "    <tr style=\"text-align: right;\">\n",
       "      <th></th>\n",
       "      <th>referral_id</th>\n",
       "      <th>symptoms</th>\n",
       "      <th>urgency</th>\n",
       "      <th>health_sector</th>\n",
       "      <th>specialist_name</th>\n",
       "      <th>specialist_service_name</th>\n",
       "      <th>specialist_location</th>\n",
       "      <th>indigenous_status</th>\n",
       "      <th>gp_name</th>\n",
       "      <th>gp_practice</th>\n",
       "      <th>pms</th>\n",
       "      <th>region</th>\n",
       "    </tr>\n",
       "    <tr>\n",
       "      <th>referral_date</th>\n",
       "      <th></th>\n",
       "      <th></th>\n",
       "      <th></th>\n",
       "      <th></th>\n",
       "      <th></th>\n",
       "      <th></th>\n",
       "      <th></th>\n",
       "      <th></th>\n",
       "      <th></th>\n",
       "      <th></th>\n",
       "      <th></th>\n",
       "      <th></th>\n",
       "    </tr>\n",
       "  </thead>\n",
       "  <tbody>\n",
       "    <tr>\n",
       "      <th>2020-07-08</th>\n",
       "      <td>NaN</td>\n",
       "      <td>Rhinosinusitis</td>\n",
       "      <td>Non Urgent</td>\n",
       "      <td>Private</td>\n",
       "      <td>Assoc Prof Paul Walker</td>\n",
       "      <td>ENT Surgery Services</td>\n",
       "      <td>Newcastle Private Hospital</td>\n",
       "      <td>Neither Aboriginal nor Torres Strait Islander</td>\n",
       "      <td>Dr Raviraj Stephen</td>\n",
       "      <td>Family Circle Medical Practice</td>\n",
       "      <td>BP</td>\n",
       "      <td>Greater Newcastle</td>\n",
       "    </tr>\n",
       "    <tr>\n",
       "      <th>2021-02-22</th>\n",
       "      <td>NaN</td>\n",
       "      <td>Rhinosinusitis</td>\n",
       "      <td>Non Urgent</td>\n",
       "      <td>Private</td>\n",
       "      <td>Assoc Prof Paul Walker</td>\n",
       "      <td>ENT Surgery Services</td>\n",
       "      <td>Newcastle Private Hospital</td>\n",
       "      <td>Neither Aboriginal nor Torres Strait Islander</td>\n",
       "      <td>Dr Raviraj Stephen</td>\n",
       "      <td>Family Circle Medical Practice</td>\n",
       "      <td>BP</td>\n",
       "      <td>Greater Newcastle</td>\n",
       "    </tr>\n",
       "    <tr>\n",
       "      <th>2019-05-29</th>\n",
       "      <td>NaN</td>\n",
       "      <td>Rhinosinusitis</td>\n",
       "      <td>Routine</td>\n",
       "      <td>Private</td>\n",
       "      <td>Assoc Prof Paul Walker</td>\n",
       "      <td>ENT Surgery Services</td>\n",
       "      <td>Newcastle Private Hospital</td>\n",
       "      <td>Neither Aboriginal nor Torres Strait Islander</td>\n",
       "      <td>Dr  Salina Ahmed</td>\n",
       "      <td>Cessnock Surgery Pty Ltd</td>\n",
       "      <td>MD</td>\n",
       "      <td>Lower Hunter</td>\n",
       "    </tr>\n",
       "  </tbody>\n",
       "</table>\n",
       "</div>"
      ],
      "text/plain": [
       "              referral_id        symptoms     urgency health_sector  \\\n",
       "referral_date                                                         \n",
       "2020-07-08            NaN  Rhinosinusitis  Non Urgent       Private   \n",
       "2021-02-22            NaN  Rhinosinusitis  Non Urgent       Private   \n",
       "2019-05-29            NaN  Rhinosinusitis     Routine       Private   \n",
       "\n",
       "                      specialist_name specialist_service_name  \\\n",
       "referral_date                                                   \n",
       "2020-07-08     Assoc Prof Paul Walker    ENT Surgery Services   \n",
       "2021-02-22     Assoc Prof Paul Walker    ENT Surgery Services   \n",
       "2019-05-29     Assoc Prof Paul Walker    ENT Surgery Services   \n",
       "\n",
       "                      specialist_location  \\\n",
       "referral_date                               \n",
       "2020-07-08     Newcastle Private Hospital   \n",
       "2021-02-22     Newcastle Private Hospital   \n",
       "2019-05-29     Newcastle Private Hospital   \n",
       "\n",
       "                                           indigenous_status  \\\n",
       "referral_date                                                  \n",
       "2020-07-08     Neither Aboriginal nor Torres Strait Islander   \n",
       "2021-02-22     Neither Aboriginal nor Torres Strait Islander   \n",
       "2019-05-29     Neither Aboriginal nor Torres Strait Islander   \n",
       "\n",
       "                          gp_name                     gp_practice pms  \\\n",
       "referral_date                                                           \n",
       "2020-07-08     Dr Raviraj Stephen  Family Circle Medical Practice  BP   \n",
       "2021-02-22     Dr Raviraj Stephen  Family Circle Medical Practice  BP   \n",
       "2019-05-29       Dr  Salina Ahmed        Cessnock Surgery Pty Ltd  MD   \n",
       "\n",
       "                           region  \n",
       "referral_date                      \n",
       "2020-07-08     Greater Newcastle   \n",
       "2021-02-22     Greater Newcastle   \n",
       "2019-05-29          Lower Hunter   "
      ]
     },
     "execution_count": 221,
     "metadata": {},
     "output_type": "execute_result"
    }
   ],
   "source": [
    "#But they dont seem to actually be duplicate entries.\n",
    "\n",
    "df.loc[df.duplicated() == True]"
   ]
  },
  {
   "cell_type": "code",
   "execution_count": 222,
   "id": "9ada6a39",
   "metadata": {},
   "outputs": [
    {
     "data": {
      "text/html": [
       "<div>\n",
       "<style scoped>\n",
       "    .dataframe tbody tr th:only-of-type {\n",
       "        vertical-align: middle;\n",
       "    }\n",
       "\n",
       "    .dataframe tbody tr th {\n",
       "        vertical-align: top;\n",
       "    }\n",
       "\n",
       "    .dataframe thead th {\n",
       "        text-align: right;\n",
       "    }\n",
       "</style>\n",
       "<table border=\"1\" class=\"dataframe\">\n",
       "  <thead>\n",
       "    <tr style=\"text-align: right;\">\n",
       "      <th></th>\n",
       "      <th>referral_id</th>\n",
       "      <th>symptoms</th>\n",
       "      <th>urgency</th>\n",
       "      <th>health_sector</th>\n",
       "      <th>specialist_name</th>\n",
       "      <th>specialist_service_name</th>\n",
       "      <th>specialist_location</th>\n",
       "      <th>indigenous_status</th>\n",
       "      <th>gp_name</th>\n",
       "      <th>gp_practice</th>\n",
       "      <th>pms</th>\n",
       "      <th>region</th>\n",
       "    </tr>\n",
       "    <tr>\n",
       "      <th>referral_date</th>\n",
       "      <th></th>\n",
       "      <th></th>\n",
       "      <th></th>\n",
       "      <th></th>\n",
       "      <th></th>\n",
       "      <th></th>\n",
       "      <th></th>\n",
       "      <th></th>\n",
       "      <th></th>\n",
       "      <th></th>\n",
       "      <th></th>\n",
       "      <th></th>\n",
       "    </tr>\n",
       "  </thead>\n",
       "  <tbody>\n",
       "    <tr>\n",
       "      <th>2017-09-07</th>\n",
       "      <td>e5649b608af567cc</td>\n",
       "      <td>Rhinosinusitis</td>\n",
       "      <td>Routine</td>\n",
       "      <td>Public</td>\n",
       "      <td>Dr Nial Jefferson</td>\n",
       "      <td>ENT Department</td>\n",
       "      <td>John Hunter Hospital</td>\n",
       "      <td>Not Stated</td>\n",
       "      <td>Dr Farzam Tavallaie</td>\n",
       "      <td>Macquarie Family Practice</td>\n",
       "      <td>BP</td>\n",
       "      <td>Greater Newcastle</td>\n",
       "    </tr>\n",
       "    <tr>\n",
       "      <th>2017-09-13</th>\n",
       "      <td>NaN</td>\n",
       "      <td>Asymmetrical Sensorineural Hearing Loss</td>\n",
       "      <td>Semi Urgent</td>\n",
       "      <td>Private</td>\n",
       "      <td>Dr Peter Barrie</td>\n",
       "      <td>ENT Surgery Services</td>\n",
       "      <td>Dr Peter Barrie Private Rooms</td>\n",
       "      <td>Not Stated</td>\n",
       "      <td>Dr Bo Wong</td>\n",
       "      <td>Mayfield Medical Connection</td>\n",
       "      <td>BP</td>\n",
       "      <td>Greater Newcastle</td>\n",
       "    </tr>\n",
       "    <tr>\n",
       "      <th>2017-09-14</th>\n",
       "      <td>fdb7009ce730d3d</td>\n",
       "      <td>Otitis Media with Effusion (Glue Ear)</td>\n",
       "      <td>Routine</td>\n",
       "      <td>Public</td>\n",
       "      <td>Clinician</td>\n",
       "      <td>Community Speech Therapy Greater Newcastle</td>\n",
       "      <td>Community Health</td>\n",
       "      <td>Not Stated</td>\n",
       "      <td>Dr Vinay Guddur Karanam</td>\n",
       "      <td>Hello Health Family Practice</td>\n",
       "      <td>BP</td>\n",
       "      <td>Greater Newcastle</td>\n",
       "    </tr>\n",
       "    <tr>\n",
       "      <th>2017-09-19</th>\n",
       "      <td>91a366634b110bcb</td>\n",
       "      <td>Tonsillitis and sore throat</td>\n",
       "      <td>Routine</td>\n",
       "      <td>Public</td>\n",
       "      <td>Dr Nial Jefferson</td>\n",
       "      <td>ENT Department</td>\n",
       "      <td>John Hunter Hospital</td>\n",
       "      <td>Not Stated</td>\n",
       "      <td>Dr Michael Chapman</td>\n",
       "      <td>Waratah General Practice</td>\n",
       "      <td>BP</td>\n",
       "      <td>Greater Newcastle</td>\n",
       "    </tr>\n",
       "    <tr>\n",
       "      <th>2017-10-04</th>\n",
       "      <td>931c6f99e9196f5f</td>\n",
       "      <td>Tonsillitis and sore throat</td>\n",
       "      <td>Routine</td>\n",
       "      <td>Public</td>\n",
       "      <td>Dr Nial Jefferson</td>\n",
       "      <td>ENT Department</td>\n",
       "      <td>John Hunter Hospital</td>\n",
       "      <td>Not Stated</td>\n",
       "      <td>Dr Farzam Tavallaie</td>\n",
       "      <td>Macquarie Family Practice</td>\n",
       "      <td>BP</td>\n",
       "      <td>Greater Newcastle</td>\n",
       "    </tr>\n",
       "  </tbody>\n",
       "</table>\n",
       "</div>"
      ],
      "text/plain": [
       "                    referral_id                                 symptoms  \\\n",
       "referral_date                                                              \n",
       "2017-09-07     e5649b608af567cc                           Rhinosinusitis   \n",
       "2017-09-13                  NaN  Asymmetrical Sensorineural Hearing Loss   \n",
       "2017-09-14      fdb7009ce730d3d    Otitis Media with Effusion (Glue Ear)   \n",
       "2017-09-19     91a366634b110bcb              Tonsillitis and sore throat   \n",
       "2017-10-04     931c6f99e9196f5f              Tonsillitis and sore throat   \n",
       "\n",
       "                   urgency health_sector    specialist_name  \\\n",
       "referral_date                                                 \n",
       "2017-09-07         Routine        Public  Dr Nial Jefferson   \n",
       "2017-09-13     Semi Urgent       Private    Dr Peter Barrie   \n",
       "2017-09-14         Routine        Public          Clinician   \n",
       "2017-09-19         Routine        Public  Dr Nial Jefferson   \n",
       "2017-10-04         Routine        Public  Dr Nial Jefferson   \n",
       "\n",
       "                                  specialist_service_name  \\\n",
       "referral_date                                               \n",
       "2017-09-07                                 ENT Department   \n",
       "2017-09-13                           ENT Surgery Services   \n",
       "2017-09-14     Community Speech Therapy Greater Newcastle   \n",
       "2017-09-19                                 ENT Department   \n",
       "2017-10-04                                 ENT Department   \n",
       "\n",
       "                         specialist_location indigenous_status  \\\n",
       "referral_date                                                    \n",
       "2017-09-07              John Hunter Hospital        Not Stated   \n",
       "2017-09-13     Dr Peter Barrie Private Rooms        Not Stated   \n",
       "2017-09-14                  Community Health        Not Stated   \n",
       "2017-09-19              John Hunter Hospital        Not Stated   \n",
       "2017-10-04              John Hunter Hospital        Not Stated   \n",
       "\n",
       "                               gp_name                   gp_practice pms  \\\n",
       "referral_date                                                              \n",
       "2017-09-07         Dr Farzam Tavallaie     Macquarie Family Practice  BP   \n",
       "2017-09-13                  Dr Bo Wong   Mayfield Medical Connection  BP   \n",
       "2017-09-14     Dr Vinay Guddur Karanam  Hello Health Family Practice  BP   \n",
       "2017-09-19          Dr Michael Chapman      Waratah General Practice  BP   \n",
       "2017-10-04         Dr Farzam Tavallaie     Macquarie Family Practice  BP   \n",
       "\n",
       "                           region  \n",
       "referral_date                      \n",
       "2017-09-07     Greater Newcastle   \n",
       "2017-09-13     Greater Newcastle   \n",
       "2017-09-14     Greater Newcastle   \n",
       "2017-09-19     Greater Newcastle   \n",
       "2017-10-04     Greater Newcastle   "
      ]
     },
     "execution_count": 222,
     "metadata": {},
     "output_type": "execute_result"
    }
   ],
   "source": [
    "df.head()"
   ]
  },
  {
   "cell_type": "code",
   "execution_count": 223,
   "id": "db508f9d",
   "metadata": {},
   "outputs": [
    {
     "data": {
      "text/plain": [
       "referral_id                152\n",
       "symptoms                     0\n",
       "urgency                      0\n",
       "health_sector                0\n",
       "specialist_name              0\n",
       "specialist_service_name      0\n",
       "specialist_location          0\n",
       "indigenous_status            0\n",
       "gp_name                      0\n",
       "gp_practice                  0\n",
       "pms                          2\n",
       "region                       0\n",
       "dtype: int64"
      ]
     },
     "execution_count": 223,
     "metadata": {},
     "output_type": "execute_result"
    }
   ],
   "source": [
    "# Two missing values left in pms, will just drop these\n",
    "\n",
    "df.isnull().sum()"
   ]
  },
  {
   "cell_type": "code",
   "execution_count": 224,
   "id": "be874a3e",
   "metadata": {},
   "outputs": [],
   "source": [
    "df = df.dropna(axis=0)"
   ]
  },
  {
   "cell_type": "code",
   "execution_count": 225,
   "id": "97afaf14",
   "metadata": {},
   "outputs": [
    {
     "data": {
      "text/plain": [
       "referral_id                0\n",
       "symptoms                   0\n",
       "urgency                    0\n",
       "health_sector              0\n",
       "specialist_name            0\n",
       "specialist_service_name    0\n",
       "specialist_location        0\n",
       "indigenous_status          0\n",
       "gp_name                    0\n",
       "gp_practice                0\n",
       "pms                        0\n",
       "region                     0\n",
       "dtype: int64"
      ]
     },
     "execution_count": 225,
     "metadata": {},
     "output_type": "execute_result"
    }
   ],
   "source": [
    "df.isnull().sum()"
   ]
  },
  {
   "cell_type": "markdown",
   "id": "f67e1b48",
   "metadata": {},
   "source": [
    "### Rationalising Categories for Each Feature"
   ]
  },
  {
   "cell_type": "code",
   "execution_count": 226,
   "id": "6638a6c1",
   "metadata": {},
   "outputs": [],
   "source": [
    "#There are also some duplicate categories and some non-relevant information in indigenous_status, the most important feature. These will be consolidated into a smaller set of categories\n",
    "\n",
    "#Question: Could this be done in one line using a dictionary?\n",
    "\n",
    "df['indigenous_status'] = df.indigenous_status.str.replace('Neither Aboriginal nor Torres Strait Islander','Non-indigenous')\n",
    "df['indigenous_status'] = df.indigenous_status.str.replace('Other','Non-indigenous')\n",
    "df['indigenous_status'] = df.indigenous_status.str.replace('Aboriginal but not Torres Strait Islander','Indigenous')\n",
    "df['indigenous_status'] = df.indigenous_status.str.replace('Non Aboriginal/Torres Strait Islander','Non-indigenous')\n",
    "df['indigenous_status'] = df.indigenous_status.str.replace('Aboriginal','Indigenous')\n",
    "df['indigenous_status'] = df.indigenous_status.str.replace('Both Aboriginal and Torres Strait Islander','Indigenous')\n",
    "df['indigenous_status'] = df.indigenous_status.str.replace('Both Indigenous and Torres Strait Islander','Indigenous')\n",
    "df['indigenous_status'] = df.indigenous_status.str.replace('Torres Strait Islander but not Aboriginal','Indigenous')\n",
    "df['indigenous_status'] = df.indigenous_status.str.replace('Torres Strait Islander but not Indigenous','Indigenous')\n",
    "df['indigenous_status'] = df.indigenous_status.str.replace('Male','Not Stated')\n",
    "df['indigenous_status'] = df.indigenous_status.str.replace('Female','Not Stated')\n",
    "\n",
    "\n"
   ]
  },
  {
   "cell_type": "code",
   "execution_count": 227,
   "id": "88a304b2",
   "metadata": {},
   "outputs": [
    {
     "data": {
      "text/plain": [
       "Non-indigenous    1569\n",
       "Not Stated         267\n",
       "Indigenous         233\n",
       "Name: indigenous_status, dtype: int64"
      ]
     },
     "execution_count": 227,
     "metadata": {},
     "output_type": "execute_result"
    }
   ],
   "source": [
    "# Not Stated values make up slightly more than 10% of the indigenous_status data. Making the decision to drop this data as we can't infer what category they could be assigned to based on other information.\n",
    "\n",
    "df.indigenous_status.value_counts()"
   ]
  },
  {
   "cell_type": "code",
   "execution_count": 228,
   "id": "d529bf50",
   "metadata": {},
   "outputs": [],
   "source": [
    "df = df[df.indigenous_status.str.contains('Not Stated')==False]"
   ]
  },
  {
   "cell_type": "code",
   "execution_count": 229,
   "id": "46a9b597",
   "metadata": {},
   "outputs": [
    {
     "data": {
      "text/plain": [
       "Non-indigenous    1569\n",
       "Indigenous         233\n",
       "Name: indigenous_status, dtype: int64"
      ]
     },
     "execution_count": 229,
     "metadata": {},
     "output_type": "execute_result"
    }
   ],
   "source": [
    "df.indigenous_status.value_counts()"
   ]
  },
  {
   "cell_type": "code",
   "execution_count": 237,
   "id": "38ab69be",
   "metadata": {},
   "outputs": [
    {
     "data": {
      "text/html": [
       "<div>\n",
       "<style scoped>\n",
       "    .dataframe tbody tr th:only-of-type {\n",
       "        vertical-align: middle;\n",
       "    }\n",
       "\n",
       "    .dataframe tbody tr th {\n",
       "        vertical-align: top;\n",
       "    }\n",
       "\n",
       "    .dataframe thead th {\n",
       "        text-align: right;\n",
       "    }\n",
       "</style>\n",
       "<table border=\"1\" class=\"dataframe\">\n",
       "  <thead>\n",
       "    <tr style=\"text-align: right;\">\n",
       "      <th></th>\n",
       "      <th>referral_id</th>\n",
       "      <th>symptoms</th>\n",
       "      <th>urgency</th>\n",
       "      <th>health_sector</th>\n",
       "      <th>specialist_name</th>\n",
       "      <th>specialist_service_name</th>\n",
       "      <th>specialist_location</th>\n",
       "      <th>indigenous_status</th>\n",
       "      <th>gp_name</th>\n",
       "      <th>gp_practice</th>\n",
       "      <th>pms</th>\n",
       "      <th>region</th>\n",
       "      <th>status_bool</th>\n",
       "    </tr>\n",
       "    <tr>\n",
       "      <th>referral_date</th>\n",
       "      <th></th>\n",
       "      <th></th>\n",
       "      <th></th>\n",
       "      <th></th>\n",
       "      <th></th>\n",
       "      <th></th>\n",
       "      <th></th>\n",
       "      <th></th>\n",
       "      <th></th>\n",
       "      <th></th>\n",
       "      <th></th>\n",
       "      <th></th>\n",
       "      <th></th>\n",
       "    </tr>\n",
       "  </thead>\n",
       "  <tbody>\n",
       "    <tr>\n",
       "      <th>2018-11-09</th>\n",
       "      <td>aa38744598a26a98</td>\n",
       "      <td>Neck Lumps in Adults</td>\n",
       "      <td>Very Urgent</td>\n",
       "      <td>Public</td>\n",
       "      <td>Dr Niall Jefferson</td>\n",
       "      <td>ENT Department</td>\n",
       "      <td>John Hunter Hospital</td>\n",
       "      <td>Non-indigenous</td>\n",
       "      <td>Dr Brianna Mary Therese  Joseph</td>\n",
       "      <td>Blacksmiths Family Practice</td>\n",
       "      <td>MD</td>\n",
       "      <td>Greater Newcastle</td>\n",
       "      <td>0</td>\n",
       "    </tr>\n",
       "    <tr>\n",
       "      <th>2018-11-09</th>\n",
       "      <td>9687c25acc3a7dcf</td>\n",
       "      <td>Hoarse Voice (Dysphonia)</td>\n",
       "      <td>Urgent</td>\n",
       "      <td>Public</td>\n",
       "      <td>Dr Niall Jefferson</td>\n",
       "      <td>ENT Department</td>\n",
       "      <td>John Hunter Hospital</td>\n",
       "      <td>Non-indigenous</td>\n",
       "      <td>Dr Guy Streeter-Smith</td>\n",
       "      <td>William Street Family Practice</td>\n",
       "      <td>MD</td>\n",
       "      <td>Greater Newcastle</td>\n",
       "      <td>0</td>\n",
       "    </tr>\n",
       "    <tr>\n",
       "      <th>2018-11-13</th>\n",
       "      <td>c8504ad1dfceee7e</td>\n",
       "      <td>Tonsillitis and sore throat</td>\n",
       "      <td>Routine</td>\n",
       "      <td>Public</td>\n",
       "      <td>Dr Niall Jefferson</td>\n",
       "      <td>ENT Department</td>\n",
       "      <td>John Hunter Hospital</td>\n",
       "      <td>Non-indigenous</td>\n",
       "      <td>Dr Linda Liu</td>\n",
       "      <td>William Street Family Practice</td>\n",
       "      <td>MD</td>\n",
       "      <td>Greater Newcastle</td>\n",
       "      <td>0</td>\n",
       "    </tr>\n",
       "    <tr>\n",
       "      <th>2018-11-20</th>\n",
       "      <td>35a9826e87a1e0b2</td>\n",
       "      <td>Otitis Media with Effusion (Glue Ear)</td>\n",
       "      <td>Semi Urgent</td>\n",
       "      <td>Public</td>\n",
       "      <td>Dr Niall Jefferson</td>\n",
       "      <td>ENT Department</td>\n",
       "      <td>John Hunter Hospital</td>\n",
       "      <td>Indigenous</td>\n",
       "      <td>Dr Lachlan Mead</td>\n",
       "      <td>Raymond Terrace Family Practice</td>\n",
       "      <td>BP</td>\n",
       "      <td>Greater Newcastle</td>\n",
       "      <td>1</td>\n",
       "    </tr>\n",
       "    <tr>\n",
       "      <th>2018-11-22</th>\n",
       "      <td>126ecc32d14def00</td>\n",
       "      <td>Recurrent Epistaxis in Children</td>\n",
       "      <td>Routine</td>\n",
       "      <td>Public</td>\n",
       "      <td>Dr Niall Jefferson</td>\n",
       "      <td>ENT Department</td>\n",
       "      <td>John Hunter Hospital</td>\n",
       "      <td>Non-indigenous</td>\n",
       "      <td>Dr George Manoliadis</td>\n",
       "      <td>Nelson Plaza Clinic</td>\n",
       "      <td>BP</td>\n",
       "      <td>Greater Newcastle</td>\n",
       "      <td>0</td>\n",
       "    </tr>\n",
       "  </tbody>\n",
       "</table>\n",
       "</div>"
      ],
      "text/plain": [
       "                    referral_id                               symptoms  \\\n",
       "referral_date                                                            \n",
       "2018-11-09     aa38744598a26a98                   Neck Lumps in Adults   \n",
       "2018-11-09     9687c25acc3a7dcf               Hoarse Voice (Dysphonia)   \n",
       "2018-11-13     c8504ad1dfceee7e            Tonsillitis and sore throat   \n",
       "2018-11-20     35a9826e87a1e0b2  Otitis Media with Effusion (Glue Ear)   \n",
       "2018-11-22     126ecc32d14def00        Recurrent Epistaxis in Children   \n",
       "\n",
       "                   urgency health_sector     specialist_name  \\\n",
       "referral_date                                                  \n",
       "2018-11-09     Very Urgent        Public  Dr Niall Jefferson   \n",
       "2018-11-09          Urgent        Public  Dr Niall Jefferson   \n",
       "2018-11-13         Routine        Public  Dr Niall Jefferson   \n",
       "2018-11-20     Semi Urgent        Public  Dr Niall Jefferson   \n",
       "2018-11-22         Routine        Public  Dr Niall Jefferson   \n",
       "\n",
       "              specialist_service_name   specialist_location indigenous_status  \\\n",
       "referral_date                                                                   \n",
       "2018-11-09             ENT Department  John Hunter Hospital    Non-indigenous   \n",
       "2018-11-09             ENT Department  John Hunter Hospital    Non-indigenous   \n",
       "2018-11-13             ENT Department  John Hunter Hospital    Non-indigenous   \n",
       "2018-11-20             ENT Department  John Hunter Hospital        Indigenous   \n",
       "2018-11-22             ENT Department  John Hunter Hospital    Non-indigenous   \n",
       "\n",
       "                                       gp_name  \\\n",
       "referral_date                                    \n",
       "2018-11-09     Dr Brianna Mary Therese  Joseph   \n",
       "2018-11-09               Dr Guy Streeter-Smith   \n",
       "2018-11-13                        Dr Linda Liu   \n",
       "2018-11-20                     Dr Lachlan Mead   \n",
       "2018-11-22                Dr George Manoliadis   \n",
       "\n",
       "                                   gp_practice pms              region  \\\n",
       "referral_date                                                            \n",
       "2018-11-09         Blacksmiths Family Practice  MD  Greater Newcastle    \n",
       "2018-11-09      William Street Family Practice  MD  Greater Newcastle    \n",
       "2018-11-13      William Street Family Practice  MD  Greater Newcastle    \n",
       "2018-11-20     Raymond Terrace Family Practice  BP  Greater Newcastle    \n",
       "2018-11-22                 Nelson Plaza Clinic  BP  Greater Newcastle    \n",
       "\n",
       "               status_bool  \n",
       "referral_date               \n",
       "2018-11-09               0  \n",
       "2018-11-09               0  \n",
       "2018-11-13               0  \n",
       "2018-11-20               1  \n",
       "2018-11-22               0  "
      ]
     },
     "execution_count": 237,
     "metadata": {},
     "output_type": "execute_result"
    }
   ],
   "source": [
    "# Creating new column with indigenous status encoded as boolean\n",
    "\n",
    "df['indigenous_status'] = df['indigenous_status'].astype('category')\n",
    "codes = df['indigenous_status'].cat.codes\n",
    "df['status_bool'] = codes.replace({0:1, 1:0})\n",
    "df.head()"
   ]
  },
  {
   "cell_type": "code",
   "execution_count": 92,
   "id": "ae2ceca1",
   "metadata": {},
   "outputs": [
    {
     "data": {
      "text/html": [
       "<div>\n",
       "<style scoped>\n",
       "    .dataframe tbody tr th:only-of-type {\n",
       "        vertical-align: middle;\n",
       "    }\n",
       "\n",
       "    .dataframe tbody tr th {\n",
       "        vertical-align: top;\n",
       "    }\n",
       "\n",
       "    .dataframe thead th {\n",
       "        text-align: right;\n",
       "    }\n",
       "</style>\n",
       "<table border=\"1\" class=\"dataframe\">\n",
       "  <thead>\n",
       "    <tr style=\"text-align: right;\">\n",
       "      <th></th>\n",
       "      <th>referral_id</th>\n",
       "      <th>symptoms</th>\n",
       "      <th>urgency</th>\n",
       "      <th>health_sector</th>\n",
       "      <th>specialist_name</th>\n",
       "      <th>specialist_service_name</th>\n",
       "      <th>specialist_location</th>\n",
       "      <th>indigenous_status</th>\n",
       "      <th>gp_name</th>\n",
       "      <th>gp_practice</th>\n",
       "      <th>pms</th>\n",
       "      <th>region</th>\n",
       "    </tr>\n",
       "    <tr>\n",
       "      <th>referral_date</th>\n",
       "      <th></th>\n",
       "      <th></th>\n",
       "      <th></th>\n",
       "      <th></th>\n",
       "      <th></th>\n",
       "      <th></th>\n",
       "      <th></th>\n",
       "      <th></th>\n",
       "      <th></th>\n",
       "      <th></th>\n",
       "      <th></th>\n",
       "      <th></th>\n",
       "    </tr>\n",
       "  </thead>\n",
       "  <tbody>\n",
       "    <tr>\n",
       "      <th>2021-10-12</th>\n",
       "      <td></td>\n",
       "      <td>Rhinosinusitis</td>\n",
       "      <td>Non Urgent</td>\n",
       "      <td>Private</td>\n",
       "      <td>Dr Peter Barrie</td>\n",
       "      <td>ENT Surgery Services</td>\n",
       "      <td>Dr Peter Barrie Private Rooms</td>\n",
       "      <td>Non-indigenous</td>\n",
       "      <td>Dr Eric Sticklen</td>\n",
       "      <td>My Medica lServices Port Stephens</td>\n",
       "      <td>BP</td>\n",
       "      <td>Greater Newcastle</td>\n",
       "    </tr>\n",
       "    <tr>\n",
       "      <th>2021-10-12</th>\n",
       "      <td></td>\n",
       "      <td>Other ENT Concern</td>\n",
       "      <td>Non Urgent</td>\n",
       "      <td>Private</td>\n",
       "      <td>Dr Peter Barrie</td>\n",
       "      <td>ENT Surgery Services</td>\n",
       "      <td>Dr Peter Barrie Private Rooms</td>\n",
       "      <td>Non-indigenous</td>\n",
       "      <td>Dr Jason Hart</td>\n",
       "      <td>Charlestown Square Medical Centre</td>\n",
       "      <td>BP</td>\n",
       "      <td>Greater Newcastle</td>\n",
       "    </tr>\n",
       "    <tr>\n",
       "      <th>2021-10-01</th>\n",
       "      <td></td>\n",
       "      <td>Tonsillitis and Sore Throat</td>\n",
       "      <td>Non Urgent</td>\n",
       "      <td>Private</td>\n",
       "      <td>Dr Peter Barrie</td>\n",
       "      <td>ENT Surgery Services</td>\n",
       "      <td>Dr Peter Barrie Private Rooms</td>\n",
       "      <td>Non-indigenous</td>\n",
       "      <td>Dr Vijetha Vellurupalli</td>\n",
       "      <td>Singleton Heights Medical Practice</td>\n",
       "      <td>BP</td>\n",
       "      <td>Upper Hunter</td>\n",
       "    </tr>\n",
       "  </tbody>\n",
       "</table>\n",
       "</div>"
      ],
      "text/plain": [
       "              referral_id                     symptoms     urgency  \\\n",
       "referral_date                                                        \n",
       "2021-10-12                              Rhinosinusitis  Non Urgent   \n",
       "2021-10-12                           Other ENT Concern  Non Urgent   \n",
       "2021-10-01                 Tonsillitis and Sore Throat  Non Urgent   \n",
       "\n",
       "              health_sector  specialist_name specialist_service_name  \\\n",
       "referral_date                                                          \n",
       "2021-10-12          Private  Dr Peter Barrie    ENT Surgery Services   \n",
       "2021-10-12          Private  Dr Peter Barrie    ENT Surgery Services   \n",
       "2021-10-01          Private  Dr Peter Barrie    ENT Surgery Services   \n",
       "\n",
       "                         specialist_location indigenous_status  \\\n",
       "referral_date                                                    \n",
       "2021-10-12     Dr Peter Barrie Private Rooms    Non-indigenous   \n",
       "2021-10-12     Dr Peter Barrie Private Rooms    Non-indigenous   \n",
       "2021-10-01     Dr Peter Barrie Private Rooms    Non-indigenous   \n",
       "\n",
       "                               gp_name                         gp_practice  \\\n",
       "referral_date                                                                \n",
       "2021-10-12            Dr Eric Sticklen   My Medica lServices Port Stephens   \n",
       "2021-10-12               Dr Jason Hart   Charlestown Square Medical Centre   \n",
       "2021-10-01     Dr Vijetha Vellurupalli  Singleton Heights Medical Practice   \n",
       "\n",
       "              pms              region  \n",
       "referral_date                          \n",
       "2021-10-12     BP  Greater Newcastle   \n",
       "2021-10-12     BP  Greater Newcastle   \n",
       "2021-10-01     BP       Upper Hunter   "
      ]
     },
     "execution_count": 92,
     "metadata": {},
     "output_type": "execute_result"
    }
   ],
   "source": [
    "df[df.specialist_name.str.contains('Barrie') ==True]"
   ]
  },
  {
   "cell_type": "code",
   "execution_count": 93,
   "id": "52a28027",
   "metadata": {},
   "outputs": [
    {
     "data": {
      "text/plain": [
       "Urgent         746\n",
       "Non Urgent     718\n",
       "Routine        213\n",
       "Semi Urgent     93\n",
       "Very Urgent     32\n",
       "Name: urgency, dtype: int64"
      ]
     },
     "execution_count": 93,
     "metadata": {},
     "output_type": "execute_result"
    }
   ],
   "source": [
    "# Moving onto urgency, these categories can be reduced to non-urgent and urgent, given the lack of information about how these different categories were chosen\n",
    "\n",
    "df.urgency.value_counts()"
   ]
  },
  {
   "cell_type": "code",
   "execution_count": 94,
   "id": "0874547b",
   "metadata": {},
   "outputs": [],
   "source": [
    "df['urgency'] = df.urgency.str.replace('Routine','Non Urgent')\n",
    "df['urgency'] = df.urgency.str.replace('Semi Urgent','Urgent')\n",
    "df['urgency'] = df.urgency.str.replace('Very Urgent','Urgent')\n",
    "df['urgency'] = df.urgency.str.replace('Non Urgent','Non-urgent')"
   ]
  },
  {
   "cell_type": "code",
   "execution_count": 95,
   "id": "deed543e",
   "metadata": {},
   "outputs": [
    {
     "data": {
      "text/plain": [
       "Non-urgent    931\n",
       "Urgent        871\n",
       "Name: urgency, dtype: int64"
      ]
     },
     "execution_count": 95,
     "metadata": {},
     "output_type": "execute_result"
    }
   ],
   "source": [
    "df.urgency.value_counts()"
   ]
  },
  {
   "cell_type": "code",
   "execution_count": 96,
   "id": "e549f79a",
   "metadata": {},
   "outputs": [
    {
     "data": {
      "text/plain": [
       "Public     1798\n",
       "Private       4\n",
       "Name: health_sector, dtype: int64"
      ]
     },
     "execution_count": 96,
     "metadata": {},
     "output_type": "execute_result"
    }
   ],
   "source": [
    "#Now onto health_sector, no issues here\n",
    "\n",
    "df.health_sector.value_counts()"
   ]
  },
  {
   "cell_type": "code",
   "execution_count": 97,
   "id": "5237d9e2",
   "metadata": {},
   "outputs": [
    {
     "data": {
      "text/plain": [
       "ENT Department                                1780\n",
       "Gastroenterology Outpatient Department           6\n",
       "Community Speech Therapy Greater Newcastle       5\n",
       "Child and Family Nursing                         4\n",
       "ENT Surgery Services                             4\n",
       "Neurology Department                             2\n",
       "Outpatient Department - Neurology Clinic         1\n",
       "Name: specialist_service_name, dtype: int64"
      ]
     },
     "execution_count": 97,
     "metadata": {},
     "output_type": "execute_result"
    }
   ],
   "source": [
    "#Looking at specialist services, there could be some overlap and consolidation is possible.\n",
    "\n",
    "df.specialist_service_name.value_counts()"
   ]
  },
  {
   "cell_type": "markdown",
   "id": "46d26389",
   "metadata": {},
   "source": [
    "The original dataframe shows that Peter Barrie and Paul Walker work for ENT surgery services, so these data will be consolidated into ENT surgery.\n",
    "\n",
    "ENT services will be consolidated into ENT department.\n",
    "\n",
    "All neurology clinic datapoints will be consolidated into neurology department.\n"
   ]
  },
  {
   "cell_type": "code",
   "execution_count": 98,
   "id": "bdd524fa",
   "metadata": {},
   "outputs": [
    {
     "name": "stderr",
     "output_type": "stream",
     "text": [
      "/var/folders/hl/kw0g2fvj6c5cytb4zfp24cl00000gn/T/ipykernel_49409/1498560694.py:2: FutureWarning: The default value of regex will change from True to False in a future version.\n",
      "  df['specialist_service_name'] = df.specialist_service_name.str.replace('Prof. Paul Walker Paediatric ENT Surgery Services','ENT Surgery Services')\n"
     ]
    }
   ],
   "source": [
    "df['specialist_service_name'] = df.specialist_service_name.str.replace('Dr Peter Barrie Private Rooms','ENT Surgery Services')\n",
    "df['specialist_service_name'] = df.specialist_service_name.str.replace('Prof. Paul Walker Paediatric ENT Surgery Services','ENT Surgery Services')\n",
    "df['specialist_service_name'] = df.specialist_service_name.str.replace('ENT Services','ENT Department')\n",
    "df['specialist_service_name'] = df.specialist_service_name.str.replace('Outpatient Department - Neurology Clinic','Neurology Department')\n",
    "\n"
   ]
  },
  {
   "cell_type": "code",
   "execution_count": 99,
   "id": "70b6a475",
   "metadata": {},
   "outputs": [
    {
     "data": {
      "text/plain": [
       "ENT Department                                1780\n",
       "Gastroenterology Outpatient Department           6\n",
       "Community Speech Therapy Greater Newcastle       5\n",
       "Child and Family Nursing                         4\n",
       "ENT Surgery Services                             4\n",
       "Neurology Department                             3\n",
       "Name: specialist_service_name, dtype: int64"
      ]
     },
     "execution_count": 99,
     "metadata": {},
     "output_type": "execute_result"
    }
   ],
   "source": [
    "df.specialist_service_name.value_counts()"
   ]
  },
  {
   "cell_type": "code",
   "execution_count": 100,
   "id": "3b72ebb0",
   "metadata": {},
   "outputs": [
    {
     "data": {
      "text/plain": [
       "John Hunter Hospital                            1788\n",
       "Community Health 621 Hunter Street Newcastle       5\n",
       "East Maitland Community Health Centre              3\n",
       "Dr Peter Barrie Private Rooms                      3\n",
       "Wallsend Community Health Centre                   1\n",
       "Cessnock Hospital                                  1\n",
       "Newcastle Private Hospital                         1\n",
       "Name: specialist_location, dtype: int64"
      ]
     },
     "execution_count": 100,
     "metadata": {},
     "output_type": "execute_result"
    }
   ],
   "source": [
    "# Moving on to specialist location\n",
    "\n",
    "df.specialist_location.value_counts()"
   ]
  },
  {
   "cell_type": "code",
   "execution_count": 101,
   "id": "3cbbdfe0",
   "metadata": {},
   "outputs": [
    {
     "name": "stderr",
     "output_type": "stream",
     "text": [
      "/var/folders/hl/kw0g2fvj6c5cytb4zfp24cl00000gn/T/ipykernel_49409/4077535007.py:2: FutureWarning: The default value of regex will change from True to False in a future version.\n",
      "  df['specialist_location'] = df.specialist_location.str.replace(r\"[\\\"\\',]\", '')\n"
     ]
    }
   ],
   "source": [
    "#Remove apostrophe from Hunter Children's ENT\n",
    "df['specialist_location'] = df.specialist_location.str.replace(r\"[\\\"\\',]\", '')"
   ]
  },
  {
   "cell_type": "markdown",
   "id": "0ce0a4db",
   "metadata": {},
   "source": [
    "Again, consolidation and rationalisation is possible. Category names will be shortened and duplicates will be consolidated. Specialist private rooms has no location associated with it, so will be dropped."
   ]
  },
  {
   "cell_type": "code",
   "execution_count": 102,
   "id": "75812796",
   "metadata": {},
   "outputs": [],
   "source": [
    "df['specialist_location'] = df.specialist_location.str.replace('John Hunter Hospital','John Hunter Hospital, New Lambton Heights')\n",
    "df['specialist_location'] = df.specialist_location.str.replace('Dr Peter Barrie Private Rooms','Dr Peter Barrie Private Rooms, Broadmeadow')\n",
    "df['specialist_location'] = df.specialist_location.str.replace('Hunter Childrens ENT  - Newcastle Private Hospital', 'Newcastle Private Hospital')\n",
    "df['specialist_location'] = df.specialist_location.str.replace('Newcastle Private Hospital','Newcastle Private Hospital, New Lambton Heights')\n",
    "df['specialist_location'] = df.specialist_location.str.replace('Dr Allan Forrest - Peel Health Care','Peel Health Care, Tamworth')\n",
    "df['specialist_location'] = df.specialist_location.str.replace('Dr Allan Forrest Private Rooms','Dr Allan Forrest Private Rooms, Dee Why')\n",
    "df['specialist_location'] = df.specialist_location.str.replace('Community Health 621 Hunter Street Newcastle','Community Health Hunter Street, Newcastle')\n",
    "df['specialist_location'] = df.specialist_location.str.replace('East Maitland Community Health Centre','Community Health Centre, East Maitland')\n",
    "df['specialist_location'] = df.specialist_location.str.replace('Wallsend Community Health Centre','Community Health Centre, Wallsend')\n",
    "df['specialist_location'] = df.specialist_location.str.replace('Cessnock Hospital','Cessnock Hospital, Cessnock')"
   ]
  },
  {
   "cell_type": "code",
   "execution_count": 103,
   "id": "21e53288",
   "metadata": {},
   "outputs": [],
   "source": [
    "df = df[df['specialist_location'].str.contains('Specialist Private Rooms')==False]"
   ]
  },
  {
   "cell_type": "code",
   "execution_count": 104,
   "id": "b14c7e95",
   "metadata": {},
   "outputs": [
    {
     "data": {
      "text/plain": [
       "John Hunter Hospital, New Lambton Heights          1788\n",
       "Community Health Hunter Street, Newcastle             5\n",
       "Community Health Centre, East Maitland                3\n",
       "Dr Peter Barrie Private Rooms, Broadmeadow            3\n",
       "Community Health Centre, Wallsend                     1\n",
       "Cessnock Hospital, Cessnock                           1\n",
       "Newcastle Private Hospital, New Lambton Heights       1\n",
       "Name: specialist_location, dtype: int64"
      ]
     },
     "execution_count": 104,
     "metadata": {},
     "output_type": "execute_result"
    }
   ],
   "source": [
    "df.specialist_location.value_counts()"
   ]
  },
  {
   "cell_type": "code",
   "execution_count": 105,
   "id": "dc457a49",
   "metadata": {},
   "outputs": [
    {
     "data": {
      "text/plain": [
       "Mount Hutton Medical Practice       58\n",
       "Mayfield Medical Connection         53\n",
       "Appletree Family Practice           43\n",
       "Nelson Plaza Clinic                 42\n",
       "Wollombi Medical Practice           40\n",
       "                                    ..\n",
       "River Street Surgery                 1\n",
       "Harrington Family Medical Centre     1\n",
       "Raworth Medical                      1\n",
       "New Lambton Medical Practice         1\n",
       "The Lorn Surgery @ 15 Belmore        1\n",
       "Name: gp_practice, Length: 190, dtype: int64"
      ]
     },
     "execution_count": 105,
     "metadata": {},
     "output_type": "execute_result"
    }
   ],
   "source": [
    "#Now onto referring GP practice, too many to worry about reducing number of categories at this stage.\n",
    "\n",
    "df.gp_practice.value_counts()"
   ]
  },
  {
   "cell_type": "code",
   "execution_count": 106,
   "id": "dde6b6e6",
   "metadata": {},
   "outputs": [
    {
     "data": {
      "text/plain": [
       "Greater Newcastle     1149\n",
       "Lower Hunter           426\n",
       "Upper Hunter           102\n",
       "New England             89\n",
       "Mid Coast               36\n",
       "Name: region, dtype: int64"
      ]
     },
     "execution_count": 106,
     "metadata": {},
     "output_type": "execute_result"
    }
   ],
   "source": [
    "# And finally, region, all looks fine here.\n",
    "\n",
    "df.region.value_counts()"
   ]
  },
  {
   "cell_type": "code",
   "execution_count": 107,
   "id": "c449b91e",
   "metadata": {},
   "outputs": [
    {
     "data": {
      "text/html": [
       "<div>\n",
       "<style scoped>\n",
       "    .dataframe tbody tr th:only-of-type {\n",
       "        vertical-align: middle;\n",
       "    }\n",
       "\n",
       "    .dataframe tbody tr th {\n",
       "        vertical-align: top;\n",
       "    }\n",
       "\n",
       "    .dataframe thead th {\n",
       "        text-align: right;\n",
       "    }\n",
       "</style>\n",
       "<table border=\"1\" class=\"dataframe\">\n",
       "  <thead>\n",
       "    <tr style=\"text-align: right;\">\n",
       "      <th></th>\n",
       "      <th>referral_id</th>\n",
       "      <th>symptoms</th>\n",
       "      <th>urgency</th>\n",
       "      <th>health_sector</th>\n",
       "      <th>specialist_name</th>\n",
       "      <th>specialist_service_name</th>\n",
       "      <th>specialist_location</th>\n",
       "      <th>indigenous_status</th>\n",
       "      <th>gp_name</th>\n",
       "      <th>gp_practice</th>\n",
       "      <th>pms</th>\n",
       "      <th>region</th>\n",
       "    </tr>\n",
       "    <tr>\n",
       "      <th>referral_date</th>\n",
       "      <th></th>\n",
       "      <th></th>\n",
       "      <th></th>\n",
       "      <th></th>\n",
       "      <th></th>\n",
       "      <th></th>\n",
       "      <th></th>\n",
       "      <th></th>\n",
       "      <th></th>\n",
       "      <th></th>\n",
       "      <th></th>\n",
       "      <th></th>\n",
       "    </tr>\n",
       "  </thead>\n",
       "  <tbody>\n",
       "    <tr>\n",
       "      <th>2018-11-09</th>\n",
       "      <td>aa38744598a26a98</td>\n",
       "      <td>Neck Lumps in Adults</td>\n",
       "      <td>Urgent</td>\n",
       "      <td>Public</td>\n",
       "      <td>Dr Niall Jefferson</td>\n",
       "      <td>ENT Department</td>\n",
       "      <td>John Hunter Hospital, New Lambton Heights</td>\n",
       "      <td>Non-indigenous</td>\n",
       "      <td>Dr Brianna Mary Therese  Joseph</td>\n",
       "      <td>Blacksmiths Family Practice</td>\n",
       "      <td>MD</td>\n",
       "      <td>Greater Newcastle</td>\n",
       "    </tr>\n",
       "    <tr>\n",
       "      <th>2018-11-09</th>\n",
       "      <td>9687c25acc3a7dcf</td>\n",
       "      <td>Hoarse Voice (Dysphonia)</td>\n",
       "      <td>Urgent</td>\n",
       "      <td>Public</td>\n",
       "      <td>Dr Niall Jefferson</td>\n",
       "      <td>ENT Department</td>\n",
       "      <td>John Hunter Hospital, New Lambton Heights</td>\n",
       "      <td>Non-indigenous</td>\n",
       "      <td>Dr Guy Streeter-Smith</td>\n",
       "      <td>William Street Family Practice</td>\n",
       "      <td>MD</td>\n",
       "      <td>Greater Newcastle</td>\n",
       "    </tr>\n",
       "    <tr>\n",
       "      <th>2018-11-13</th>\n",
       "      <td>c8504ad1dfceee7e</td>\n",
       "      <td>Tonsillitis and sore throat</td>\n",
       "      <td>Non-urgent</td>\n",
       "      <td>Public</td>\n",
       "      <td>Dr Niall Jefferson</td>\n",
       "      <td>ENT Department</td>\n",
       "      <td>John Hunter Hospital, New Lambton Heights</td>\n",
       "      <td>Non-indigenous</td>\n",
       "      <td>Dr Linda Liu</td>\n",
       "      <td>William Street Family Practice</td>\n",
       "      <td>MD</td>\n",
       "      <td>Greater Newcastle</td>\n",
       "    </tr>\n",
       "    <tr>\n",
       "      <th>2018-11-20</th>\n",
       "      <td>35a9826e87a1e0b2</td>\n",
       "      <td>Otitis Media with Effusion (Glue Ear)</td>\n",
       "      <td>Urgent</td>\n",
       "      <td>Public</td>\n",
       "      <td>Dr Niall Jefferson</td>\n",
       "      <td>ENT Department</td>\n",
       "      <td>John Hunter Hospital, New Lambton Heights</td>\n",
       "      <td>Indigenous</td>\n",
       "      <td>Dr Lachlan Mead</td>\n",
       "      <td>Raymond Terrace Family Practice</td>\n",
       "      <td>BP</td>\n",
       "      <td>Greater Newcastle</td>\n",
       "    </tr>\n",
       "    <tr>\n",
       "      <th>2018-11-22</th>\n",
       "      <td>126ecc32d14def00</td>\n",
       "      <td>Recurrent Epistaxis in Children</td>\n",
       "      <td>Non-urgent</td>\n",
       "      <td>Public</td>\n",
       "      <td>Dr Niall Jefferson</td>\n",
       "      <td>ENT Department</td>\n",
       "      <td>John Hunter Hospital, New Lambton Heights</td>\n",
       "      <td>Non-indigenous</td>\n",
       "      <td>Dr George Manoliadis</td>\n",
       "      <td>Nelson Plaza Clinic</td>\n",
       "      <td>BP</td>\n",
       "      <td>Greater Newcastle</td>\n",
       "    </tr>\n",
       "  </tbody>\n",
       "</table>\n",
       "</div>"
      ],
      "text/plain": [
       "                    referral_id                               symptoms  \\\n",
       "referral_date                                                            \n",
       "2018-11-09     aa38744598a26a98                   Neck Lumps in Adults   \n",
       "2018-11-09     9687c25acc3a7dcf               Hoarse Voice (Dysphonia)   \n",
       "2018-11-13     c8504ad1dfceee7e            Tonsillitis and sore throat   \n",
       "2018-11-20     35a9826e87a1e0b2  Otitis Media with Effusion (Glue Ear)   \n",
       "2018-11-22     126ecc32d14def00        Recurrent Epistaxis in Children   \n",
       "\n",
       "                  urgency health_sector     specialist_name  \\\n",
       "referral_date                                                 \n",
       "2018-11-09         Urgent        Public  Dr Niall Jefferson   \n",
       "2018-11-09         Urgent        Public  Dr Niall Jefferson   \n",
       "2018-11-13     Non-urgent        Public  Dr Niall Jefferson   \n",
       "2018-11-20         Urgent        Public  Dr Niall Jefferson   \n",
       "2018-11-22     Non-urgent        Public  Dr Niall Jefferson   \n",
       "\n",
       "              specialist_service_name  \\\n",
       "referral_date                           \n",
       "2018-11-09             ENT Department   \n",
       "2018-11-09             ENT Department   \n",
       "2018-11-13             ENT Department   \n",
       "2018-11-20             ENT Department   \n",
       "2018-11-22             ENT Department   \n",
       "\n",
       "                                     specialist_location indigenous_status  \\\n",
       "referral_date                                                                \n",
       "2018-11-09     John Hunter Hospital, New Lambton Heights    Non-indigenous   \n",
       "2018-11-09     John Hunter Hospital, New Lambton Heights    Non-indigenous   \n",
       "2018-11-13     John Hunter Hospital, New Lambton Heights    Non-indigenous   \n",
       "2018-11-20     John Hunter Hospital, New Lambton Heights        Indigenous   \n",
       "2018-11-22     John Hunter Hospital, New Lambton Heights    Non-indigenous   \n",
       "\n",
       "                                       gp_name  \\\n",
       "referral_date                                    \n",
       "2018-11-09     Dr Brianna Mary Therese  Joseph   \n",
       "2018-11-09               Dr Guy Streeter-Smith   \n",
       "2018-11-13                        Dr Linda Liu   \n",
       "2018-11-20                     Dr Lachlan Mead   \n",
       "2018-11-22                Dr George Manoliadis   \n",
       "\n",
       "                                   gp_practice pms              region  \n",
       "referral_date                                                           \n",
       "2018-11-09         Blacksmiths Family Practice  MD  Greater Newcastle   \n",
       "2018-11-09      William Street Family Practice  MD  Greater Newcastle   \n",
       "2018-11-13      William Street Family Practice  MD  Greater Newcastle   \n",
       "2018-11-20     Raymond Terrace Family Practice  BP  Greater Newcastle   \n",
       "2018-11-22                 Nelson Plaza Clinic  BP  Greater Newcastle   "
      ]
     },
     "execution_count": 107,
     "metadata": {},
     "output_type": "execute_result"
    }
   ],
   "source": [
    "df.head()"
   ]
  },
  {
   "cell_type": "markdown",
   "id": "427e07fd",
   "metadata": {},
   "source": [
    "### Exploratory Data Analysis"
   ]
  },
  {
   "cell_type": "code",
   "execution_count": 108,
   "id": "8c55e712",
   "metadata": {},
   "outputs": [
    {
     "data": {
      "image/png": "[encoded data removed]",
      "text/plain": [
       "<Figure size 432x288 with 1 Axes>"
      ]
     },
     "metadata": {
      "needs_background": "light"
     },
     "output_type": "display_data"
    }
   ],
   "source": [
    "sns.countplot(x='health_sector', data=df, hue='indigenous_status')\n",
    "plt.show()"
   ]
  },
  {
   "cell_type": "code",
   "execution_count": 109,
   "id": "d64765fe",
   "metadata": {},
   "outputs": [
    {
     "data": {
      "image/png": "[encoded data removed]",
      "text/plain": [
       "<Figure size 432x288 with 1 Axes>"
      ]
     },
     "metadata": {
      "needs_background": "light"
     },
     "output_type": "display_data"
    }
   ],
   "source": [
    "sns.countplot(x='health_sector', data=df, hue='region')\n",
    "plt.show()"
   ]
  },
  {
   "cell_type": "code",
   "execution_count": 110,
   "id": "fbb83e57",
   "metadata": {},
   "outputs": [
    {
     "data": {
      "image/png": "[encoded data removed]",
      "text/plain": [
       "<Figure size 432x288 with 1 Axes>"
      ]
     },
     "metadata": {
      "needs_background": "light"
     },
     "output_type": "display_data"
    }
   ],
   "source": [
    "sns.countplot(x='urgency', data=df, hue='indigenous_status')\n",
    "plt.show()"
   ]
  },
  {
   "cell_type": "code",
   "execution_count": 111,
   "id": "d69661e7",
   "metadata": {},
   "outputs": [
    {
     "data": {
      "image/png": "[encoded data removed]",
      "text/plain": [
       "<Figure size 432x288 with 1 Axes>"
      ]
     },
     "metadata": {
      "needs_background": "light"
     },
     "output_type": "display_data"
    }
   ],
   "source": [
    "sns.countplot(x='urgency', data=df, hue='health_sector')\n",
    "plt.show()"
   ]
  },
  {
   "cell_type": "code",
   "execution_count": 112,
   "id": "21cdcbed",
   "metadata": {},
   "outputs": [
    {
     "data": {
      "image/png": "[encoded data removed]",
      "text/plain": [
       "<Figure size 432x288 with 1 Axes>"
      ]
     },
     "metadata": {
      "needs_background": "light"
     },
     "output_type": "display_data"
    }
   ],
   "source": [
    "sns.countplot(y='symptoms', data=df, hue='indigenous_status')\n",
    "#plt.xticks(rotation=90)\n",
    "plt.ylabel('')\n",
    "plt.show()"
   ]
  },
  {
   "cell_type": "code",
   "execution_count": 141,
   "id": "14c99de0",
   "metadata": {},
   "outputs": [
    {
     "data": {
      "text/html": [
       "<div>\n",
       "<style scoped>\n",
       "    .dataframe tbody tr th:only-of-type {\n",
       "        vertical-align: middle;\n",
       "    }\n",
       "\n",
       "    .dataframe tbody tr th {\n",
       "        vertical-align: top;\n",
       "    }\n",
       "\n",
       "    .dataframe thead th {\n",
       "        text-align: right;\n",
       "    }\n",
       "</style>\n",
       "<table border=\"1\" class=\"dataframe\">\n",
       "  <thead>\n",
       "    <tr style=\"text-align: right;\">\n",
       "      <th>indigenous_status</th>\n",
       "      <th>Indigenous</th>\n",
       "      <th>Non-indigenous</th>\n",
       "    </tr>\n",
       "    <tr>\n",
       "      <th>symptoms</th>\n",
       "      <th></th>\n",
       "      <th></th>\n",
       "    </tr>\n",
       "  </thead>\n",
       "  <tbody>\n",
       "    <tr>\n",
       "      <th>Acute Otitis Media in Children</th>\n",
       "      <td>11</td>\n",
       "      <td>29</td>\n",
       "    </tr>\n",
       "    <tr>\n",
       "      <th>Asymmetrical Sensorineural Hearing Loss</th>\n",
       "      <td>10</td>\n",
       "      <td>116</td>\n",
       "    </tr>\n",
       "    <tr>\n",
       "      <th>Dysphagia</th>\n",
       "      <td>4</td>\n",
       "      <td>52</td>\n",
       "    </tr>\n",
       "    <tr>\n",
       "      <th>Ear Anomalies</th>\n",
       "      <td>6</td>\n",
       "      <td>38</td>\n",
       "    </tr>\n",
       "    <tr>\n",
       "      <th>Ear Discharge</th>\n",
       "      <td>15</td>\n",
       "      <td>64</td>\n",
       "    </tr>\n",
       "    <tr>\n",
       "      <th>Ear Wax</th>\n",
       "      <td>1</td>\n",
       "      <td>7</td>\n",
       "    </tr>\n",
       "    <tr>\n",
       "      <th>Head and Neck</th>\n",
       "      <td>11</td>\n",
       "      <td>120</td>\n",
       "    </tr>\n",
       "    <tr>\n",
       "      <th>Hoarse Voice (Dysphonia)</th>\n",
       "      <td>9</td>\n",
       "      <td>118</td>\n",
       "    </tr>\n",
       "    <tr>\n",
       "      <th>Nasal Fracture</th>\n",
       "      <td>6</td>\n",
       "      <td>34</td>\n",
       "    </tr>\n",
       "    <tr>\n",
       "      <th>Neck Lumps in Adults</th>\n",
       "      <td>1</td>\n",
       "      <td>44</td>\n",
       "    </tr>\n",
       "    <tr>\n",
       "      <th>Other ENT Concern</th>\n",
       "      <td>27</td>\n",
       "      <td>338</td>\n",
       "    </tr>\n",
       "    <tr>\n",
       "      <th>Otitis Media with Effusion (Glue Ear)</th>\n",
       "      <td>44</td>\n",
       "      <td>110</td>\n",
       "    </tr>\n",
       "    <tr>\n",
       "      <th>Recurrent Epistaxis in Children</th>\n",
       "      <td>11</td>\n",
       "      <td>28</td>\n",
       "    </tr>\n",
       "    <tr>\n",
       "      <th>Rhinosinusitis</th>\n",
       "      <td>2</td>\n",
       "      <td>12</td>\n",
       "    </tr>\n",
       "    <tr>\n",
       "      <th>Salivary Gland Disorders</th>\n",
       "      <td>4</td>\n",
       "      <td>19</td>\n",
       "    </tr>\n",
       "    <tr>\n",
       "      <th>Thyroid Nodules</th>\n",
       "      <td>3</td>\n",
       "      <td>24</td>\n",
       "    </tr>\n",
       "    <tr>\n",
       "      <th>Tinnitus</th>\n",
       "      <td>6</td>\n",
       "      <td>60</td>\n",
       "    </tr>\n",
       "    <tr>\n",
       "      <th>Tonsillitis and Sore Throat</th>\n",
       "      <td>44</td>\n",
       "      <td>246</td>\n",
       "    </tr>\n",
       "    <tr>\n",
       "      <th>Tonsillitis and sore throat</th>\n",
       "      <td>17</td>\n",
       "      <td>76</td>\n",
       "    </tr>\n",
       "    <tr>\n",
       "      <th>Vertigo</th>\n",
       "      <td>1</td>\n",
       "      <td>34</td>\n",
       "    </tr>\n",
       "  </tbody>\n",
       "</table>\n",
       "</div>"
      ],
      "text/plain": [
       "indigenous_status                        Indigenous  Non-indigenous\n",
       "symptoms                                                           \n",
       "Acute Otitis Media in Children                   11              29\n",
       "Asymmetrical Sensorineural Hearing Loss          10             116\n",
       "Dysphagia                                         4              52\n",
       "Ear Anomalies                                     6              38\n",
       "Ear Discharge                                    15              64\n",
       "Ear Wax                                           1               7\n",
       "Head and Neck                                    11             120\n",
       "Hoarse Voice (Dysphonia)                          9             118\n",
       "Nasal Fracture                                    6              34\n",
       "Neck Lumps in Adults                              1              44\n",
       "Other ENT Concern                                27             338\n",
       "Otitis Media with Effusion (Glue Ear)            44             110\n",
       "Recurrent Epistaxis in Children                  11              28\n",
       "Rhinosinusitis                                    2              12\n",
       "Salivary Gland Disorders                          4              19\n",
       "Thyroid Nodules                                   3              24\n",
       "Tinnitus                                          6              60\n",
       "Tonsillitis and Sore Throat                      44             246\n",
       "Tonsillitis and sore throat                      17              76\n",
       "Vertigo                                           1              34"
      ]
     },
     "execution_count": 141,
     "metadata": {},
     "output_type": "execute_result"
    },
    {
     "data": {
      "text/plain": [
       "<Figure size 720x1080 with 0 Axes>"
      ]
     },
     "metadata": {},
     "output_type": "display_data"
    }
   ],
   "source": [
    "plt.figure(figsize=(10,15))\n",
    "symptom_df = df.symptoms.value_counts().rename_axis('symptoms').reset_index(name='counts')\n",
    "\n",
    "symptom_df = df.groupby(['indigenous_status'])['symptoms'].value_counts().unstack().T#.rename_axis('symptoms').reset_index(name='counts')\n",
    "symptom_df\n",
    "\n",
    "symptom_df['indig percent total'] = symptom_df.indigenous.apply(lambda x: x)\n",
    "#ax = sns.barplot(x='counts', y='symptoms', data=symptom_df)\n",
    "#ax.bar_label(ax.containers[0])\n",
    "#\n",
    "#plt.ylabel('')\n",
    "#plt.show()"
   ]
  },
  {
   "cell_type": "code",
   "execution_count": 142,
   "id": "186472be",
   "metadata": {},
   "outputs": [
    {
     "data": {
      "image/png": "[encoded data removed]",
      "text/plain": [
       "<Figure size 720x1080 with 1 Axes>"
      ]
     },
     "metadata": {
      "needs_background": "light"
     },
     "output_type": "display_data"
    }
   ],
   "source": [
    "plt.figure(figsize=(10,15))\n",
    "symptom_df = df.symptoms.value_counts().rename_axis('symptoms').reset_index(name='counts')\n",
    "\n",
    "ax = sns.barplot(x='counts', y='symptoms', data=symptom_df)\n",
    "ax.bar_label(ax.containers[0])\n",
    "\n",
    "plt.ylabel('')\n",
    "plt.show()"
   ]
  },
  {
   "cell_type": "code",
   "execution_count": 125,
   "id": "bd00459d",
   "metadata": {},
   "outputs": [
    {
     "ename": "KeyError",
     "evalue": "'indigenous_status'",
     "output_type": "error",
     "traceback": [
      "\u001b[0;31m---------------------------------------------------------------------------\u001b[0m",
      "\u001b[0;31mKeyError\u001b[0m                                  Traceback (most recent call last)",
      "\u001b[0;32m/var/folders/hl/kw0g2fvj6c5cytb4zfp24cl00000gn/T/ipykernel_49409/192835935.py\u001b[0m in \u001b[0;36m<module>\u001b[0;34m\u001b[0m\n\u001b[1;32m      1\u001b[0m \u001b[0mplt\u001b[0m\u001b[0;34m.\u001b[0m\u001b[0mfigure\u001b[0m\u001b[0;34m(\u001b[0m\u001b[0mfigsize\u001b[0m\u001b[0;34m=\u001b[0m\u001b[0;34m(\u001b[0m\u001b[0;36m10\u001b[0m\u001b[0;34m,\u001b[0m\u001b[0;36m50\u001b[0m\u001b[0;34m)\u001b[0m\u001b[0;34m)\u001b[0m\u001b[0;34m\u001b[0m\u001b[0;34m\u001b[0m\u001b[0m\n\u001b[1;32m      2\u001b[0m \u001b[0;34m\u001b[0m\u001b[0m\n\u001b[0;32m----> 3\u001b[0;31m \u001b[0mgp_df\u001b[0m \u001b[0;34m=\u001b[0m \u001b[0mdf\u001b[0m\u001b[0;34m.\u001b[0m\u001b[0mgp_practice\u001b[0m\u001b[0;34m.\u001b[0m\u001b[0mvalue_counts\u001b[0m\u001b[0;34m(\u001b[0m\u001b[0;34m)\u001b[0m\u001b[0;34m.\u001b[0m\u001b[0mgroupby\u001b[0m\u001b[0;34m(\u001b[0m\u001b[0;34m'indigenous_status'\u001b[0m\u001b[0;34m)\u001b[0m\u001b[0;34m.\u001b[0m\u001b[0mrename_axis\u001b[0m\u001b[0;34m(\u001b[0m\u001b[0;34m'gp_practice'\u001b[0m\u001b[0;34m)\u001b[0m\u001b[0;34m.\u001b[0m\u001b[0mreset_index\u001b[0m\u001b[0;34m(\u001b[0m\u001b[0mname\u001b[0m\u001b[0;34m=\u001b[0m\u001b[0;34m'counts'\u001b[0m\u001b[0;34m)\u001b[0m\u001b[0;34m\u001b[0m\u001b[0;34m\u001b[0m\u001b[0m\n\u001b[0m\u001b[1;32m      4\u001b[0m \u001b[0;34m\u001b[0m\u001b[0m\n\u001b[1;32m      5\u001b[0m \u001b[0max\u001b[0m \u001b[0;34m=\u001b[0m \u001b[0msns\u001b[0m\u001b[0;34m.\u001b[0m\u001b[0mbarplot\u001b[0m\u001b[0;34m(\u001b[0m\u001b[0mx\u001b[0m\u001b[0;34m=\u001b[0m\u001b[0;34m'counts'\u001b[0m\u001b[0;34m,\u001b[0m \u001b[0my\u001b[0m\u001b[0;34m=\u001b[0m\u001b[0;34m'gp_practice'\u001b[0m\u001b[0;34m,\u001b[0m \u001b[0mdata\u001b[0m\u001b[0;34m=\u001b[0m\u001b[0mgp_df\u001b[0m\u001b[0;34m)\u001b[0m\u001b[0;34m\u001b[0m\u001b[0;34m\u001b[0m\u001b[0m\n",
      "\u001b[0;32m/opt/anaconda3/envs/ENT/lib/python3.8/site-packages/pandas/core/series.py\u001b[0m in \u001b[0;36mgroupby\u001b[0;34m(self, by, axis, level, as_index, sort, group_keys, squeeze, observed, dropna)\u001b[0m\n\u001b[1;32m   1882\u001b[0m         \u001b[0;31m# error: Argument \"squeeze\" to \"SeriesGroupBy\" has incompatible type\u001b[0m\u001b[0;34m\u001b[0m\u001b[0;34m\u001b[0m\u001b[0;34m\u001b[0m\u001b[0m\n\u001b[1;32m   1883\u001b[0m         \u001b[0;31m# \"Union[bool, NoDefault]\"; expected \"bool\"\u001b[0m\u001b[0;34m\u001b[0m\u001b[0;34m\u001b[0m\u001b[0;34m\u001b[0m\u001b[0m\n\u001b[0;32m-> 1884\u001b[0;31m         return SeriesGroupBy(\n\u001b[0m\u001b[1;32m   1885\u001b[0m             \u001b[0mobj\u001b[0m\u001b[0;34m=\u001b[0m\u001b[0mself\u001b[0m\u001b[0;34m,\u001b[0m\u001b[0;34m\u001b[0m\u001b[0;34m\u001b[0m\u001b[0m\n\u001b[1;32m   1886\u001b[0m             \u001b[0mkeys\u001b[0m\u001b[0;34m=\u001b[0m\u001b[0mby\u001b[0m\u001b[0;34m,\u001b[0m\u001b[0;34m\u001b[0m\u001b[0;34m\u001b[0m\u001b[0m\n",
      "\u001b[0;32m/opt/anaconda3/envs/ENT/lib/python3.8/site-packages/pandas/core/groupby/groupby.py\u001b[0m in \u001b[0;36m__init__\u001b[0;34m(self, obj, keys, axis, level, grouper, exclusions, selection, as_index, sort, group_keys, squeeze, observed, mutated, dropna)\u001b[0m\n\u001b[1;32m    887\u001b[0m             \u001b[0;32mfrom\u001b[0m \u001b[0mpandas\u001b[0m\u001b[0;34m.\u001b[0m\u001b[0mcore\u001b[0m\u001b[0;34m.\u001b[0m\u001b[0mgroupby\u001b[0m\u001b[0;34m.\u001b[0m\u001b[0mgrouper\u001b[0m \u001b[0;32mimport\u001b[0m \u001b[0mget_grouper\u001b[0m\u001b[0;34m\u001b[0m\u001b[0;34m\u001b[0m\u001b[0m\n\u001b[1;32m    888\u001b[0m \u001b[0;34m\u001b[0m\u001b[0m\n\u001b[0;32m--> 889\u001b[0;31m             grouper, exclusions, obj = get_grouper(\n\u001b[0m\u001b[1;32m    890\u001b[0m                 \u001b[0mobj\u001b[0m\u001b[0;34m,\u001b[0m\u001b[0;34m\u001b[0m\u001b[0;34m\u001b[0m\u001b[0m\n\u001b[1;32m    891\u001b[0m                 \u001b[0mkeys\u001b[0m\u001b[0;34m,\u001b[0m\u001b[0;34m\u001b[0m\u001b[0;34m\u001b[0m\u001b[0m\n",
      "\u001b[0;32m/opt/anaconda3/envs/ENT/lib/python3.8/site-packages/pandas/core/groupby/grouper.py\u001b[0m in \u001b[0;36mget_grouper\u001b[0;34m(obj, key, axis, level, sort, observed, mutated, validate, dropna)\u001b[0m\n\u001b[1;32m    860\u001b[0m                 \u001b[0min_axis\u001b[0m\u001b[0;34m,\u001b[0m \u001b[0mlevel\u001b[0m\u001b[0;34m,\u001b[0m \u001b[0mgpr\u001b[0m \u001b[0;34m=\u001b[0m \u001b[0;32mFalse\u001b[0m\u001b[0;34m,\u001b[0m \u001b[0mgpr\u001b[0m\u001b[0;34m,\u001b[0m \u001b[0;32mNone\u001b[0m\u001b[0;34m\u001b[0m\u001b[0;34m\u001b[0m\u001b[0m\n\u001b[1;32m    861\u001b[0m             \u001b[0;32melse\u001b[0m\u001b[0;34m:\u001b[0m\u001b[0;34m\u001b[0m\u001b[0;34m\u001b[0m\u001b[0m\n\u001b[0;32m--> 862\u001b[0;31m                 \u001b[0;32mraise\u001b[0m \u001b[0mKeyError\u001b[0m\u001b[0;34m(\u001b[0m\u001b[0mgpr\u001b[0m\u001b[0;34m)\u001b[0m\u001b[0;34m\u001b[0m\u001b[0;34m\u001b[0m\u001b[0m\n\u001b[0m\u001b[1;32m    863\u001b[0m         \u001b[0;32melif\u001b[0m \u001b[0misinstance\u001b[0m\u001b[0;34m(\u001b[0m\u001b[0mgpr\u001b[0m\u001b[0;34m,\u001b[0m \u001b[0mGrouper\u001b[0m\u001b[0;34m)\u001b[0m \u001b[0;32mand\u001b[0m \u001b[0mgpr\u001b[0m\u001b[0;34m.\u001b[0m\u001b[0mkey\u001b[0m \u001b[0;32mis\u001b[0m \u001b[0;32mnot\u001b[0m \u001b[0;32mNone\u001b[0m\u001b[0;34m:\u001b[0m\u001b[0;34m\u001b[0m\u001b[0;34m\u001b[0m\u001b[0m\n\u001b[1;32m    864\u001b[0m             \u001b[0;31m# Add key to exclusions\u001b[0m\u001b[0;34m\u001b[0m\u001b[0;34m\u001b[0m\u001b[0;34m\u001b[0m\u001b[0m\n",
      "\u001b[0;31mKeyError\u001b[0m: 'indigenous_status'"
     ]
    },
    {
     "data": {
      "text/plain": [
       "<Figure size 720x3600 with 0 Axes>"
      ]
     },
     "metadata": {},
     "output_type": "display_data"
    }
   ],
   "source": [
    "plt.figure(figsize=(10,50))\n",
    "\n",
    "gp_df = df.gp_practice.value_counts().groupby('indigenous_status').rename_axis('gp_practice').reset_index(name='counts')\n",
    "\n",
    "ax = sns.barplot(x='counts', y='gp_practice', data=gp_df)\n",
    "ax.bar_label(ax.containers[0])\n",
    "\n",
    "plt.ylabel('')\n",
    "plt.show()\n"
   ]
  },
  {
   "cell_type": "code",
   "execution_count": 115,
   "id": "4590fca0",
   "metadata": {},
   "outputs": [
    {
     "data": {
      "image/png": "[encoded data removed]",
      "text/plain": [
       "<Figure size 432x288 with 1 Axes>"
      ]
     },
     "metadata": {
      "needs_background": "light"
     },
     "output_type": "display_data"
    }
   ],
   "source": [
    "sns.countplot(y='region', data=df, hue='indigenous_status')\n",
    "#plt.xticks(rotation=90)\n",
    "plt.ylabel('')\n",
    "plt.show()"
   ]
  },
  {
   "cell_type": "code",
   "execution_count": 116,
   "id": "6fbfa3cf",
   "metadata": {},
   "outputs": [
    {
     "data": {
      "image/png": "[encoded data removed]",
      "text/plain": [
       "<Figure size 432x288 with 1 Axes>"
      ]
     },
     "metadata": {
      "needs_background": "light"
     },
     "output_type": "display_data"
    }
   ],
   "source": [
    "sns.countplot(y='specialist_location', data=df, hue='indigenous_status')\n",
    "#plt.xticks(rotation=90)\n",
    "plt.ylabel('')\n",
    "plt.show()"
   ]
  },
  {
   "cell_type": "code",
   "execution_count": 117,
   "id": "bba41cb9",
   "metadata": {},
   "outputs": [
    {
     "data": {
      "image/png": "[encoded data removed]",
      "text/plain": [
       "<Figure size 432x288 with 1 Axes>"
      ]
     },
     "metadata": {
      "needs_background": "light"
     },
     "output_type": "display_data"
    }
   ],
   "source": [
    "sns.countplot(y='specialist_service_name', data=df, hue='indigenous_status')\n",
    "#plt.xticks(rotation=90)\n",
    "plt.ylabel('')\n",
    "plt.show()"
   ]
  },
  {
   "cell_type": "code",
   "execution_count": 118,
   "id": "6c209340",
   "metadata": {},
   "outputs": [
    {
     "data": {
      "text/plain": [
       "region              specialist_location                       \n",
       "Greater Newcastle   John Hunter Hospital, New Lambton Heights     0.992167\n",
       "                    Community Health Hunter Street, Newcastle     0.004352\n",
       "                    Dr Peter Barrie Private Rooms, Broadmeadow    0.001741\n",
       "                    Community Health Centre, East Maitland        0.000870\n",
       "                    Community Health Centre, Wallsend             0.000870\n",
       "Name: specialist_location, dtype: float64"
      ]
     },
     "execution_count": 118,
     "metadata": {},
     "output_type": "execute_result"
    }
   ],
   "source": [
    "grouped = df.groupby(['region'])['specialist_location'].value_counts(normalize=True)\n",
    "grouped.head()\n",
    "#ccupation_counts = (df.groupby(['income'])['occupation']\n",
    "#                     .value_counts(normalize=True)\n",
    "#                     .rename('percentage')\n",
    "#                     .mul(100)\n",
    "#                     .reset_index()\n",
    "#                     .sort_values('occupation'))"
   ]
  },
  {
   "cell_type": "code",
   "execution_count": 119,
   "id": "67d09b24",
   "metadata": {},
   "outputs": [
    {
     "data": {
      "image/png": "[encoded data removed]",
      "text/plain": [
       "<Figure size 720x576 with 1 Axes>"
      ]
     },
     "metadata": {
      "needs_background": "light"
     },
     "output_type": "display_data"
    }
   ],
   "source": [
    "df.groupby(by=['region', 'specialist_location']).agg({'specialist_location': 'count'}).unstack().plot(kind='bar', figsize=(10,8));"
   ]
  },
  {
   "cell_type": "code",
   "execution_count": 120,
   "id": "6b35d3a7",
   "metadata": {},
   "outputs": [
    {
     "data": {
      "image/png": "[encoded data removed]",
      "text/plain": [
       "<Figure size 1440x432 with 1 Axes>"
      ]
     },
     "metadata": {
      "needs_background": "light"
     },
     "output_type": "display_data"
    }
   ],
   "source": [
    "plt.figure(figsize=(20,6))\n",
    "df.groupby(df.index).size().plot()\n",
    "plt.show()"
   ]
  },
  {
   "cell_type": "code",
   "execution_count": 121,
   "id": "fb22c6ad",
   "metadata": {},
   "outputs": [
    {
     "data": {
      "image/png": "[encoded data removed]",
      "text/plain": [
       "<Figure size 1440x432 with 1 Axes>"
      ]
     },
     "metadata": {
      "needs_background": "light"
     },
     "output_type": "display_data"
    }
   ],
   "source": [
    "plt.figure(figsize=(20,6))\n",
    "counts = df.groupby(df.index).size()\n",
    "resampled = counts.resample(\"M\").mean()\n",
    "sns.lineplot(data=resampled)\n",
    "plt.xticks(rotation=90)\n",
    "plt.show()"
   ]
  },
  {
   "cell_type": "code",
   "execution_count": 122,
   "id": "5cc02500",
   "metadata": {},
   "outputs": [
    {
     "data": {
      "image/png": "[encoded data removed]",
      "text/plain": [
       "<Figure size 1440x432 with 1 Axes>"
      ]
     },
     "metadata": {
      "needs_background": "light"
     },
     "output_type": "display_data"
    }
   ],
   "source": [
    "indigenous = df[df.indigenous_status.str.contains('Indigenous')]\n",
    "non_indigenous = df[df.indigenous_status.str.contains('Non-indigenous')]\n",
    "\n",
    "plt.figure(figsize=(20,6))\n",
    "\n",
    "counts_indigenous = indigenous.groupby(indigenous.index).size()\n",
    "counts_non_indigenous = non_indigenous.groupby(non_indigenous.index).size()\n",
    "\n",
    "resampled_indigenous = counts_indigenous.resample(\"M\").mean()\n",
    "resampled_non_indigenous = counts_non_indigenous.resample(\"M\").mean() \n",
    "\n",
    "sns.lineplot(data=resampled_indigenous, color='b', marker='s', label='Indigenous')\n",
    "sns.lineplot(data=resampled_non_indigenous, color='r', marker='s', label='Non-indigenous')\n",
    "\n",
    "plt.show()"
   ]
  },
  {
   "cell_type": "markdown",
   "id": "bce8796a",
   "metadata": {},
   "source": [
    "At what average rate are referrals increasing for indigenous vs non-indigenous?"
   ]
  },
  {
   "cell_type": "code",
   "execution_count": 123,
   "id": "49e24941",
   "metadata": {},
   "outputs": [
    {
     "data": {
      "text/plain": [
       "referral_date\n",
       "2018-11-16    1\n",
       "2018-11-20    3\n",
       "2018-11-22    1\n",
       "2018-11-26    1\n",
       "2018-12-12    1\n",
       "             ..\n",
       "2021-11-01    1\n",
       "2021-11-02    1\n",
       "2021-11-03    2\n",
       "2021-11-04    1\n",
       "2021-11-05    1\n",
       "Length: 198, dtype: int64"
      ]
     },
     "execution_count": 123,
     "metadata": {},
     "output_type": "execute_result"
    }
   ],
   "source": [
    "counts_indigenous"
   ]
  },
  {
   "cell_type": "code",
   "execution_count": 252,
   "id": "dcc68c77",
   "metadata": {},
   "outputs": [
    {
     "data": {
      "image/png": "[encoded data removed]",
      "text/plain": [
       "<Figure size 1440x432 with 1 Axes>"
      ]
     },
     "metadata": {
      "needs_background": "light"
     },
     "output_type": "display_data"
    }
   ],
   "source": [
    "plt.figure(figsize=(20,6))\n",
    "\n",
    "ind_newcastle = indigenous[indigenous.region.str.contains('Greater Newcastle')]\n",
    "ind_lower_hunter = indigenous[indigenous.region.str.contains('Lower Hunter')]\n",
    "ind_upper_hunter = indigenous[indigenous.region.str.contains('Upper Hunter')]\n",
    "ind_mid_coast = indigenous[indigenous.region.str.contains('Mid Coast')]\n",
    "ind_new_england = indigenous[indigenous.region.str.contains('New England')]\n",
    "\n",
    "counts_newcastle = ind_newcastle.groupby(ind_newcastle.index).size()\n",
    "counts_lower_hunter = ind_lower_hunter.groupby(ind_lower_hunter.index).size()\n",
    "counts_upper_hunter = ind_upper_hunter.groupby(ind_upper_hunter.index).size()\n",
    "counts_mid_coast = ind_mid_coast.groupby(ind_mid_coast.index).size()\n",
    "counts_new_england = ind_new_england.groupby(ind_new_england.index).size()\n",
    "\n",
    "resampled_newcastle = counts_newcastle.resample(\"M\").max()\n",
    "resampled_lower_hunter = counts_lower_hunter.resample(\"M\").max() \n",
    "resampled_upper_hunter = counts_upper_hunter.resample(\"M\").max() \n",
    "resampled_mid_coast = counts_mid_coast.resample(\"M\").max() \n",
    "resampled_new_england = counts_new_england.resample(\"M\").max() \n",
    "\n",
    "sns.lineplot(data=resampled_newcastle, color='b', marker='s', label='Newcastle')\n",
    "sns.lineplot(data=resampled_lower_hunter, color='r', marker='s', label='Lower Hunter')\n",
    "sns.lineplot(data=resampled_upper_hunter, color='g', marker='s', label='Upper Hunter')\n",
    "sns.lineplot(data=resampled_mid_coast, color='y', marker='s', label='Mid Coast')\n",
    "sns.lineplot(data=resampled_new_england, color='black', marker='s', label='New England')\n",
    "plt.show()"
   ]
  },
  {
   "cell_type": "code",
   "execution_count": null,
   "id": "febb15ff",
   "metadata": {},
   "outputs": [],
   "source": [
    "grouped_by_region = df.groupby([df.index.year, 'region'])['indigenous_status'].value_counts().rename_axis(['year', 'region', 'indigenous_status']).reset_index(name='counts')\n",
    "#grouped_by_region.set_index('year', inplace=True)\n",
    "grouped_by_region"
   ]
  },
  {
   "cell_type": "code",
   "execution_count": null,
   "id": "6bd84300",
   "metadata": {},
   "outputs": [],
   "source": [
    "plt.figure(figsize=(20,6))\n",
    "\n",
    "ax = sns.boxplot(x='region', y='counts', hue='year', data=grouped_by_region)\n",
    "#ax.bar_label(ax.containers[0])\n",
    "#plt.xticks(rotation=90)\n",
    "\n",
    "plt.show()"
   ]
  },
  {
   "cell_type": "code",
   "execution_count": null,
   "id": "651491d7",
   "metadata": {},
   "outputs": [],
   "source": [
    "\n",
    "\n",
    "def trend(s):\n",
    "    x = np.arange(len(s))\n",
    "    z = np.polyfit(x, s, 1)\n",
    "    p = np.poly1d(z)\n",
    "    t = pd.Series(p(x), index=s.index)\n",
    "    return t\n",
    "\n",
    "trend.plot = lambda s: [s.plot(), trend(s).plot()]\n",
    "\n",
    "trend.plot(df['data'])\n",
    "\n",
    "trendline = trend(df['data'])\n",
    "\n"
   ]
  },
  {
   "cell_type": "markdown",
   "id": "e880aeac",
   "metadata": {},
   "source": [
    "### Feature Engineering"
   ]
  },
  {
   "cell_type": "code",
   "execution_count": null,
   "id": "da668ae3",
   "metadata": {},
   "outputs": [],
   "source": [
    "#Year and month info extrapolated from datetime column\n",
    "df['year'] = df.index.year\n",
    "df['month'] = df.index.month"
   ]
  },
  {
   "cell_type": "code",
   "execution_count": null,
   "id": "07088fb5",
   "metadata": {},
   "outputs": [],
   "source": []
  }
 ],
 "metadata": {
  "kernelspec": {
   "display_name": "Python 3 (ipykernel)",
   "language": "python",
   "name": "python3"
  },
  "language_info": {
   "codemirror_mode": {
    "name": "ipython",
    "version": 3
   },
   "file_extension": ".py",
   "mimetype": "text/x-python",
   "name": "python",
   "nbconvert_exporter": "python",
   "pygments_lexer": "ipython3",
   "version": "3.8.12"
  }
 },
 "nbformat": 4,
 "nbformat_minor": 5
}
