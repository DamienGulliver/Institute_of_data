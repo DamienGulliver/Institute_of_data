{
 "cells": [
  {
   "cell_type": "markdown",
   "id": "d411de9d",
   "metadata": {},
   "source": [
    "<div>\n",
    "<img src=https://www.institutedata.com/wp-content/uploads/2019/10/iod_h_tp_primary_c.svg width=\"300\">\n",
    "</div>"
   ]
  },
  {
   "cell_type": "markdown",
   "id": "e70ad418",
   "metadata": {},
   "source": [
    "## Referral patterns of Indigenous children to ear, nose & throat specialist health services in the Hunter New England health district (2017 - 2021)"
   ]
  },
  {
   "cell_type": "markdown",
   "id": "26384740",
   "metadata": {},
   "source": [
    "### Context\n",
    "\n",
    "Approximately 30% of urban Aboriginal and Torres Strait Islander children experience persistent middle ear infection or otitis media in early childhood.1-3 Although these ear health problems are often established within the first 2 years of life1,2, many children do not receive effective remediation of hearing impairment until\n",
    "4–5 years of age.4,5 Because of the role of hearing in early language, cognitive and psychosocial development, timely access to ear health and hearing care is critical\n",
    "for mitigating developmental delay at school entry.6-8 Although Aboriginal families in urban settings might\n",
    "be expected to have easy access to ear health and hearing care, difficulties with access to health services are well documented.9-11 \n",
    "\n",
    "This analysis was conducted to explore current referral patterns of children **under X years** to specialist ear services in the Hunter New England Health District during the years 2017 - 2021. Providing greater visibility of current referral patterns may reveal insights that can be used to improve health outcomes for indigenous children with chronic ear health problems. \n"
   ]
  },
  {
   "cell_type": "markdown",
   "id": "b432f3e1",
   "metadata": {},
   "source": [
    "### Data Description\n",
    "\n",
    "The dataset ENT_referrals_HNE.xlsx was provided by Hunter New England Health and contains five excel spreadsheets which cover different regions within the Hunter New England health district:\n",
    "\n",
    " - Greater Newcastle\n",
    " - Lower Hunter\n",
    " - Upper Hunter\n",
    " - Mid Coast\n",
    " - New England\n",
    "\n",
    "In addition, two excel spreadsheets contain the same data separated into public or private sector referral status.\n",
    "\n",
    "Each spreadsheet contains referrals from that region, with associated information including referring doctor & service, specialist services referred to, whether the referral was processed through the public or private health system, condition urgency and symptomatic description. \n",
    "\n",
    " - **GP/specalist names need to be anonymised or removed for IOD presentation**\n",
    " - **What do PMS values stand for?** \n",
    " - **What do status values stand for?**\n",
    " - **How was urgency level defined?**"
   ]
  },
  {
   "cell_type": "markdown",
   "id": "8cf5883e",
   "metadata": {},
   "source": [
    "### Data Dictionary\n",
    "\n",
    "| Variable |                                 Definition | Key                                            |\n",
    "|----------|-------------------------------------------:|------------------------------------------------|\n",
    "| Referral ID              | alphanumeric ID string\n",
    "| Referral Date            | date of referral\n",
    "| Status                   | Current state of referral\n",
    "| Clinical Area            | The type of clinical condition in the referral | ENT = Ear, nose, throat |          \n",
    "| Service Description      | The specific symptoms observed leading to referral\n",
    "| Gp Urgency               | The severity of the health condition\n",
    "| Referral To              | Public or private sector referral\n",
    "| Refer To Specialist      | Specialist name\n",
    "| Refer to Service Name    | Specialist service name\n",
    "| Refer To Address         | Location of specialist service\n",
    "| Indigenous Status        | Indigenous status of the referred patient\n",
    "| GP Name                  | Referring doctor\n",
    "| Practice                 | Referring practice\n",
    "| **PMS**                      | **unknown** | **Key: BP =, MD =**| \n",
    "| Region                   | Region of the Hunter New England health district                                  "
   ]
  }
 ],
 "metadata": {
  "kernelspec": {
   "display_name": "Python 3",
   "language": "python",
   "name": "python3"
  },
  "language_info": {
   "codemirror_mode": {
    "name": "ipython",
    "version": 3
   },
   "file_extension": ".py",
   "mimetype": "text/x-python",
   "name": "python",
   "nbconvert_exporter": "python",
   "pygments_lexer": "ipython3",
   "version": "3.8.8"
  }
 },
 "nbformat": 4,
 "nbformat_minor": 5
}
