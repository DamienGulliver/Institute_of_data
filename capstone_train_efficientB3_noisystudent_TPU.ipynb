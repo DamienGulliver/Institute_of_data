{
  "nbformat": 4,
  "nbformat_minor": 0,
  "metadata": {
    "colab": {
      "name": "capstone_train_efficientB3_noisystudent_TPU",
      "provenance": [],
      "machine_shape": "hm",
      "background_execution": "on",
      "authorship_tag": "ABX9TyNh97yEge+QUAwQdfdMJcXe",
      "include_colab_link": true
    },
    "kernelspec": {
      "name": "python3",
      "display_name": "Python 3"
    },
    "language_info": {
      "name": "python"
    },
    "accelerator": "TPU"
  },
  "cells": [
    {
      "cell_type": "markdown",
      "metadata": {
        "id": "view-in-github",
        "colab_type": "text"
      },
      "source": [
        "<a href=\"https://colab.research.google.com/github/DamienGulliver/Institute_of_data/blob/main/capstone_train_efficientB3_noisystudent_TPU.ipynb\" target=\"_parent\"><img src=\"https://colab.research.google.com/assets/colab-badge.svg\" alt=\"Open In Colab\"/></a>"
      ]
    },
    {
      "cell_type": "code",
      "source": [
        "# install efficientnet with noisy-student weights\n",
        "!pip install -U git+https://github.com/qubvel/efficientnet"
      ],
      "metadata": {
        "colab": {
          "base_uri": "https://localhost:8080/"
        },
        "id": "VkiqSB6AHAxE",
        "outputId": "515ac017-94fc-4f67-85d8-f46ba2405061"
      },
      "execution_count": 1,
      "outputs": [
        {
          "output_type": "stream",
          "name": "stdout",
          "text": [
            "Collecting git+https://github.com/qubvel/efficientnet\n",
            "  Cloning https://github.com/qubvel/efficientnet to /tmp/pip-req-build-ukrdtkqe\n",
            "  Running command git clone -q https://github.com/qubvel/efficientnet /tmp/pip-req-build-ukrdtkqe\n",
            "Requirement already satisfied: keras_applications<=1.0.8,>=1.0.7 in /usr/local/lib/python3.7/dist-packages (from efficientnet==1.1.1) (1.0.8)\n",
            "Requirement already satisfied: scikit-image in /usr/local/lib/python3.7/dist-packages (from efficientnet==1.1.1) (0.18.3)\n",
            "Requirement already satisfied: h5py in /usr/local/lib/python3.7/dist-packages (from keras_applications<=1.0.8,>=1.0.7->efficientnet==1.1.1) (3.1.0)\n",
            "Requirement already satisfied: numpy>=1.9.1 in /usr/local/lib/python3.7/dist-packages (from keras_applications<=1.0.8,>=1.0.7->efficientnet==1.1.1) (1.21.6)\n",
            "Requirement already satisfied: cached-property in /usr/local/lib/python3.7/dist-packages (from h5py->keras_applications<=1.0.8,>=1.0.7->efficientnet==1.1.1) (1.5.2)\n",
            "Requirement already satisfied: pillow!=7.1.0,!=7.1.1,>=4.3.0 in /usr/local/lib/python3.7/dist-packages (from scikit-image->efficientnet==1.1.1) (7.1.2)\n",
            "Requirement already satisfied: tifffile>=2019.7.26 in /usr/local/lib/python3.7/dist-packages (from scikit-image->efficientnet==1.1.1) (2021.11.2)\n",
            "Requirement already satisfied: matplotlib!=3.0.0,>=2.0.0 in /usr/local/lib/python3.7/dist-packages (from scikit-image->efficientnet==1.1.1) (3.2.2)\n",
            "Requirement already satisfied: scipy>=1.0.1 in /usr/local/lib/python3.7/dist-packages (from scikit-image->efficientnet==1.1.1) (1.4.1)\n",
            "Requirement already satisfied: PyWavelets>=1.1.1 in /usr/local/lib/python3.7/dist-packages (from scikit-image->efficientnet==1.1.1) (1.3.0)\n",
            "Requirement already satisfied: imageio>=2.3.0 in /usr/local/lib/python3.7/dist-packages (from scikit-image->efficientnet==1.1.1) (2.4.1)\n",
            "Requirement already satisfied: networkx>=2.0 in /usr/local/lib/python3.7/dist-packages (from scikit-image->efficientnet==1.1.1) (2.6.3)\n",
            "Requirement already satisfied: cycler>=0.10 in /usr/local/lib/python3.7/dist-packages (from matplotlib!=3.0.0,>=2.0.0->scikit-image->efficientnet==1.1.1) (0.11.0)\n",
            "Requirement already satisfied: python-dateutil>=2.1 in /usr/local/lib/python3.7/dist-packages (from matplotlib!=3.0.0,>=2.0.0->scikit-image->efficientnet==1.1.1) (2.8.2)\n",
            "Requirement already satisfied: kiwisolver>=1.0.1 in /usr/local/lib/python3.7/dist-packages (from matplotlib!=3.0.0,>=2.0.0->scikit-image->efficientnet==1.1.1) (1.4.2)\n",
            "Requirement already satisfied: pyparsing!=2.0.4,!=2.1.2,!=2.1.6,>=2.0.1 in /usr/local/lib/python3.7/dist-packages (from matplotlib!=3.0.0,>=2.0.0->scikit-image->efficientnet==1.1.1) (3.0.8)\n",
            "Requirement already satisfied: typing-extensions in /usr/local/lib/python3.7/dist-packages (from kiwisolver>=1.0.1->matplotlib!=3.0.0,>=2.0.0->scikit-image->efficientnet==1.1.1) (4.1.1)\n",
            "Requirement already satisfied: six>=1.5 in /usr/local/lib/python3.7/dist-packages (from python-dateutil>=2.1->matplotlib!=3.0.0,>=2.0.0->scikit-image->efficientnet==1.1.1) (1.15.0)\n"
          ]
        }
      ]
    },
    {
      "cell_type": "code",
      "execution_count": 2,
      "metadata": {
        "id": "FKJ8b1A-kQNZ",
        "colab": {
          "base_uri": "https://localhost:8080/"
        },
        "outputId": "e6a18d04-9c95-4fd2-bbab-fbfe359d73d2"
      },
      "outputs": [
        {
          "output_type": "stream",
          "name": "stdout",
          "text": [
            "Tensorflow version 2.8.0\n"
          ]
        }
      ],
      "source": [
        "# import packages\n",
        "\n",
        "import datetime\n",
        "import re\n",
        "import os\n",
        "from os import listdir\n",
        "import sys\n",
        "import time\n",
        "import numpy as np\n",
        "import matplotlib.pyplot as plt\n",
        "import matplotlib.image as mpimg\n",
        "import seaborn as sns\n",
        "import pandas as pd\n",
        "import tensorflow as tf\n",
        "import keras\n",
        "from keras import Input, Model, Sequential\n",
        "from keras.callbacks import LearningRateScheduler\n",
        "from keras.layers import Dense, GlobalAveragePooling2D, Dropout\n",
        "from keras.losses import BinaryCrossentropy\n",
        "from keras.applications.imagenet_utils import decode_predictions\n",
        "from efficientnet.tfkeras import EfficientNetB3\n",
        "from google.colab import files\n",
        "print(\"Tensorflow version \" + tf.__version__)"
      ]
    },
    {
      "cell_type": "code",
      "source": [
        "# Check RAM of runtime (should be >20gb)\n",
        "\n",
        "from psutil import virtual_memory\n",
        "ram_gb = virtual_memory().total / 1e9\n",
        "print('Your runtime has {:.1f} gigabytes of available RAM\\n'.format(ram_gb))\n",
        "\n",
        "if ram_gb < 20:\n",
        "  print('Not using a high-RAM runtime')\n",
        "else:\n",
        "  print('')"
      ],
      "metadata": {
        "id": "FfG9eiG6FcIR",
        "colab": {
          "base_uri": "https://localhost:8080/"
        },
        "outputId": "1e2900f2-d230-4fc9-e108-1a528acad62c"
      },
      "execution_count": 3,
      "outputs": [
        {
          "output_type": "stream",
          "name": "stdout",
          "text": [
            "Your runtime has 37.8 gigabytes of available RAM\n",
            "\n",
            "\n"
          ]
        }
      ]
    },
    {
      "cell_type": "code",
      "source": [
        "# define environment variables\n",
        "\n",
        "PROJECT_ID = 'effnet-moa'\n",
        "BUCKET_NAME = 'effnet-moa'\n",
        "IMAGE_SIZE = 300\n",
        "CHANNELS = 3\n",
        "EPOCHS = 100\n",
        "N_TRAIN = 13265\n",
        "N_VALID = 3316\n",
        "N_TEST = 7107\n",
        "N_CLASSES = 185\n",
        "BATCH_SIZE = 256\n",
        "TRAIN_STEPS = N_TRAIN // BATCH_SIZE\n",
        "AUTO = tf.data.experimental.AUTOTUNE \n",
        "GCS_PATTERN = 'gs://effnet-moa/capstone_preprocessed_data/res300_batchsize_256/*.tfrecords'"
      ],
      "metadata": {
        "id": "EbROrb0Jj9Bb"
      },
      "execution_count": 4,
      "outputs": []
    },
    {
      "cell_type": "code",
      "source": [
        "# Initialise TPU\n",
        "\n",
        "try:\n",
        "  tpu = tf.distribute.cluster_resolver.TPUClusterResolver()  # TPU detection\n",
        "  print('Running on TPU ', tpu.cluster_spec().as_dict()['worker'])\n",
        "except ValueError:\n",
        "  raise BaseException('ERROR: Not connected to a TPU runtime')\n",
        "\n",
        "tf.config.experimental_connect_to_cluster(tpu)\n",
        "tf.tpu.experimental.initialize_tpu_system(tpu)\n",
        "tpu_strategy = tf.distribute.TPUStrategy(tpu)"
      ],
      "metadata": {
        "colab": {
          "base_uri": "https://localhost:8080/"
        },
        "id": "eAmdElqtVOPt",
        "outputId": "c818917a-0b36-4b80-d748-a08b0e9fca2e"
      },
      "execution_count": 5,
      "outputs": [
        {
          "output_type": "stream",
          "name": "stdout",
          "text": [
            "Running on TPU  ['10.81.161.154:8470']\n",
            "INFO:tensorflow:Deallocate tpu buffers before initializing tpu system.\n"
          ]
        },
        {
          "output_type": "stream",
          "name": "stderr",
          "text": [
            "INFO:tensorflow:Deallocate tpu buffers before initializing tpu system.\n"
          ]
        },
        {
          "output_type": "stream",
          "name": "stdout",
          "text": [
            "INFO:tensorflow:Initializing the TPU system: grpc://10.81.161.154:8470\n"
          ]
        },
        {
          "output_type": "stream",
          "name": "stderr",
          "text": [
            "INFO:tensorflow:Initializing the TPU system: grpc://10.81.161.154:8470\n"
          ]
        },
        {
          "output_type": "stream",
          "name": "stdout",
          "text": [
            "INFO:tensorflow:Finished initializing TPU system.\n"
          ]
        },
        {
          "output_type": "stream",
          "name": "stderr",
          "text": [
            "INFO:tensorflow:Finished initializing TPU system.\n"
          ]
        },
        {
          "output_type": "stream",
          "name": "stdout",
          "text": [
            "INFO:tensorflow:Found TPU system:\n"
          ]
        },
        {
          "output_type": "stream",
          "name": "stderr",
          "text": [
            "INFO:tensorflow:Found TPU system:\n"
          ]
        },
        {
          "output_type": "stream",
          "name": "stdout",
          "text": [
            "INFO:tensorflow:*** Num TPU Cores: 8\n"
          ]
        },
        {
          "output_type": "stream",
          "name": "stderr",
          "text": [
            "INFO:tensorflow:*** Num TPU Cores: 8\n"
          ]
        },
        {
          "output_type": "stream",
          "name": "stdout",
          "text": [
            "INFO:tensorflow:*** Num TPU Workers: 1\n"
          ]
        },
        {
          "output_type": "stream",
          "name": "stderr",
          "text": [
            "INFO:tensorflow:*** Num TPU Workers: 1\n"
          ]
        },
        {
          "output_type": "stream",
          "name": "stdout",
          "text": [
            "INFO:tensorflow:*** Num TPU Cores Per Worker: 8\n"
          ]
        },
        {
          "output_type": "stream",
          "name": "stderr",
          "text": [
            "INFO:tensorflow:*** Num TPU Cores Per Worker: 8\n"
          ]
        },
        {
          "output_type": "stream",
          "name": "stdout",
          "text": [
            "INFO:tensorflow:*** Available Device: _DeviceAttributes(/job:localhost/replica:0/task:0/device:CPU:0, CPU, 0, 0)\n"
          ]
        },
        {
          "output_type": "stream",
          "name": "stderr",
          "text": [
            "INFO:tensorflow:*** Available Device: _DeviceAttributes(/job:localhost/replica:0/task:0/device:CPU:0, CPU, 0, 0)\n"
          ]
        },
        {
          "output_type": "stream",
          "name": "stdout",
          "text": [
            "INFO:tensorflow:*** Available Device: _DeviceAttributes(/job:worker/replica:0/task:0/device:CPU:0, CPU, 0, 0)\n"
          ]
        },
        {
          "output_type": "stream",
          "name": "stderr",
          "text": [
            "INFO:tensorflow:*** Available Device: _DeviceAttributes(/job:worker/replica:0/task:0/device:CPU:0, CPU, 0, 0)\n"
          ]
        },
        {
          "output_type": "stream",
          "name": "stdout",
          "text": [
            "INFO:tensorflow:*** Available Device: _DeviceAttributes(/job:worker/replica:0/task:0/device:TPU:0, TPU, 0, 0)\n"
          ]
        },
        {
          "output_type": "stream",
          "name": "stderr",
          "text": [
            "INFO:tensorflow:*** Available Device: _DeviceAttributes(/job:worker/replica:0/task:0/device:TPU:0, TPU, 0, 0)\n"
          ]
        },
        {
          "output_type": "stream",
          "name": "stdout",
          "text": [
            "INFO:tensorflow:*** Available Device: _DeviceAttributes(/job:worker/replica:0/task:0/device:TPU:1, TPU, 0, 0)\n"
          ]
        },
        {
          "output_type": "stream",
          "name": "stderr",
          "text": [
            "INFO:tensorflow:*** Available Device: _DeviceAttributes(/job:worker/replica:0/task:0/device:TPU:1, TPU, 0, 0)\n"
          ]
        },
        {
          "output_type": "stream",
          "name": "stdout",
          "text": [
            "INFO:tensorflow:*** Available Device: _DeviceAttributes(/job:worker/replica:0/task:0/device:TPU:2, TPU, 0, 0)\n"
          ]
        },
        {
          "output_type": "stream",
          "name": "stderr",
          "text": [
            "INFO:tensorflow:*** Available Device: _DeviceAttributes(/job:worker/replica:0/task:0/device:TPU:2, TPU, 0, 0)\n"
          ]
        },
        {
          "output_type": "stream",
          "name": "stdout",
          "text": [
            "INFO:tensorflow:*** Available Device: _DeviceAttributes(/job:worker/replica:0/task:0/device:TPU:3, TPU, 0, 0)\n"
          ]
        },
        {
          "output_type": "stream",
          "name": "stderr",
          "text": [
            "INFO:tensorflow:*** Available Device: _DeviceAttributes(/job:worker/replica:0/task:0/device:TPU:3, TPU, 0, 0)\n"
          ]
        },
        {
          "output_type": "stream",
          "name": "stdout",
          "text": [
            "INFO:tensorflow:*** Available Device: _DeviceAttributes(/job:worker/replica:0/task:0/device:TPU:4, TPU, 0, 0)\n"
          ]
        },
        {
          "output_type": "stream",
          "name": "stderr",
          "text": [
            "INFO:tensorflow:*** Available Device: _DeviceAttributes(/job:worker/replica:0/task:0/device:TPU:4, TPU, 0, 0)\n"
          ]
        },
        {
          "output_type": "stream",
          "name": "stdout",
          "text": [
            "INFO:tensorflow:*** Available Device: _DeviceAttributes(/job:worker/replica:0/task:0/device:TPU:5, TPU, 0, 0)\n"
          ]
        },
        {
          "output_type": "stream",
          "name": "stderr",
          "text": [
            "INFO:tensorflow:*** Available Device: _DeviceAttributes(/job:worker/replica:0/task:0/device:TPU:5, TPU, 0, 0)\n"
          ]
        },
        {
          "output_type": "stream",
          "name": "stdout",
          "text": [
            "INFO:tensorflow:*** Available Device: _DeviceAttributes(/job:worker/replica:0/task:0/device:TPU:6, TPU, 0, 0)\n"
          ]
        },
        {
          "output_type": "stream",
          "name": "stderr",
          "text": [
            "INFO:tensorflow:*** Available Device: _DeviceAttributes(/job:worker/replica:0/task:0/device:TPU:6, TPU, 0, 0)\n"
          ]
        },
        {
          "output_type": "stream",
          "name": "stdout",
          "text": [
            "INFO:tensorflow:*** Available Device: _DeviceAttributes(/job:worker/replica:0/task:0/device:TPU:7, TPU, 0, 0)\n"
          ]
        },
        {
          "output_type": "stream",
          "name": "stderr",
          "text": [
            "INFO:tensorflow:*** Available Device: _DeviceAttributes(/job:worker/replica:0/task:0/device:TPU:7, TPU, 0, 0)\n"
          ]
        },
        {
          "output_type": "stream",
          "name": "stdout",
          "text": [
            "INFO:tensorflow:*** Available Device: _DeviceAttributes(/job:worker/replica:0/task:0/device:TPU_SYSTEM:0, TPU_SYSTEM, 0, 0)\n"
          ]
        },
        {
          "output_type": "stream",
          "name": "stderr",
          "text": [
            "INFO:tensorflow:*** Available Device: _DeviceAttributes(/job:worker/replica:0/task:0/device:TPU_SYSTEM:0, TPU_SYSTEM, 0, 0)\n"
          ]
        },
        {
          "output_type": "stream",
          "name": "stdout",
          "text": [
            "INFO:tensorflow:*** Available Device: _DeviceAttributes(/job:worker/replica:0/task:0/device:XLA_CPU:0, XLA_CPU, 0, 0)\n"
          ]
        },
        {
          "output_type": "stream",
          "name": "stderr",
          "text": [
            "INFO:tensorflow:*** Available Device: _DeviceAttributes(/job:worker/replica:0/task:0/device:XLA_CPU:0, XLA_CPU, 0, 0)\n"
          ]
        }
      ]
    },
    {
      "cell_type": "code",
      "source": [
        "# Set up google credentials to access GCS bucket\n",
        "\n",
        "from google.colab import auth\n",
        "auth.authenticate_user()\n",
        "\n",
        "!gcloud config set project {PROJECT_ID}\n",
        "!gsutil ls"
      ],
      "metadata": {
        "colab": {
          "base_uri": "https://localhost:8080/"
        },
        "id": "hpW-BIcQamYh",
        "outputId": "00b3c9e0-456b-4577-838c-28b5d7407c95"
      },
      "execution_count": 6,
      "outputs": [
        {
          "output_type": "stream",
          "name": "stdout",
          "text": [
            "Updated property [core/project].\n",
            "gs://effnet-moa/\n"
          ]
        }
      ]
    },
    {
      "cell_type": "code",
      "source": [
        "# functions to parse tfrecords and load dataset\n",
        "\n",
        "def get_filenames(file_path=GCS_PATTERN, train_substring=None, val_substring=None, test_substring=None):\n",
        "  \n",
        "  filenames = tf.io.gfile.glob(file_path)\n",
        "  train_str = [train_substring]\n",
        "  val_str = [val_substring]\n",
        "  test_str = [test_substring]\n",
        "\n",
        "  def Filter(string, substr):\n",
        "    return [str for str in string if\n",
        "             any(sub in str for sub in substr)]\n",
        "  \n",
        "  train_fns = Filter(filenames, train_str)\n",
        "  validation_fns = Filter(filenames, val_str)\n",
        "  test_fns = Filter(filenames, test_str)\n",
        "\n",
        "  return train_fns, validation_fns, test_fns\n",
        "\n",
        "def parse_tfrecord(element):\n",
        "  data = {\n",
        "      'height': tf.io.FixedLenFeature([], tf.int64),\n",
        "      'width':tf.io.FixedLenFeature([], tf.int64),\n",
        "      'depth':tf.io.FixedLenFeature([], tf.int64),\n",
        "      'raw_image' : tf.io.FixedLenFeature([], tf.string),\n",
        "      'label': tf.io.FixedLenFeature([], tf.string),\n",
        "    }\n",
        "\n",
        "  content = tf.io.parse_single_example(element, data)\n",
        "  \n",
        "  height = content['height']\n",
        "  width = content['width']\n",
        "  depth = content['depth']\n",
        "  label = content['label']\n",
        "  raw_image = content['raw_image']\n",
        "  \n",
        "  #get image and label, reshape it appropriately\n",
        "  feature = tf.io.parse_tensor(raw_image, out_type=tf.float32)\n",
        "  feature = tf.reshape(feature, shape=[height,width,depth])\n",
        "  label = tf.io.parse_tensor(label, out_type=tf.float32)\n",
        "  label = tf.reshape(label, shape=[185])  \n",
        "  return (feature, label)\n",
        "\n",
        "# Read from TFRecords\n",
        "def load_dataset(filenames):\n",
        "  records = tf.data.TFRecordDataset(filenames, num_parallel_reads=AUTO)\n",
        "  return records.map(parse_tfrecord, num_parallel_calls=AUTO)"
      ],
      "metadata": {
        "id": "j11ppFMJcozZ"
      },
      "execution_count": 7,
      "outputs": []
    },
    {
      "cell_type": "code",
      "source": [
        "# Get train, validation and test filenames\n",
        "\n",
        "train_fns, validation_fns, test_fns = get_filenames(\n",
        "    train_substring='train_ds_256', \n",
        "    val_substring='val_ds_256', \n",
        "    test_substring='test_ds_256'\n",
        "    )"
      ],
      "metadata": {
        "id": "_dvh0ssOZgd3"
      },
      "execution_count": 8,
      "outputs": []
    },
    {
      "cell_type": "code",
      "source": [
        "#  create load_dataset objects to be batched into model during training\n",
        "\n",
        "train_ds = load_dataset(train_fns).repeat().shuffle(2048).batch(BATCH_SIZE).prefetch(AUTO)\n",
        "val_ds = load_dataset(validation_fns).batch(BATCH_SIZE).prefetch(AUTO)\n",
        "test_ds = load_dataset(test_fns).batch(BATCH_SIZE).prefetch(AUTO)"
      ],
      "metadata": {
        "id": "u72ydOa7nZX2"
      },
      "execution_count": 9,
      "outputs": []
    },
    {
      "cell_type": "code",
      "source": [
        "# Functions to show loaded data integrity\n",
        "\n",
        "def display_one_image(image, subplot, color):\n",
        "  plt.subplot(subplot)\n",
        "  plt.axis('off')\n",
        "  plt.imshow(image)\n",
        "  \n",
        "def display_nine_images(images, title_colors=None):\n",
        "  subplot = 331\n",
        "  plt.figure(figsize=(13,13))\n",
        "  for i in range(3):\n",
        "    color = 'black' if title_colors is None else title_colors[i]\n",
        "    display_one_image(images[i], 331+i, color)\n",
        "  plt.tight_layout()\n",
        "  plt.subplots_adjust(wspace=0.1, hspace=0.1)\n",
        "  plt.show()\n",
        "\n",
        "def get_dataset_iterator(dataset, n_examples):\n",
        "  return dataset.unbatch().batch(n_examples).as_numpy_iterator()\n",
        "\n",
        "train_sample_iterator = get_dataset_iterator(train_ds, 3)"
      ],
      "metadata": {
        "id": "sTEJNPPJesu9"
      },
      "execution_count": 10,
      "outputs": []
    },
    {
      "cell_type": "code",
      "source": [
        "# Re-run this cell to show a new batch of images\n",
        "\n",
        "images, classes = next(train_sample_iterator)\n",
        "\n",
        "display_nine_images(images)"
      ],
      "metadata": {
        "colab": {
          "base_uri": "https://localhost:8080/",
          "height": 317
        },
        "id": "XcBfw8Wte4bl",
        "outputId": "a73174fd-588f-4427-d9d7-e101a11cc4b7"
      },
      "execution_count": 11,
      "outputs": [
        {
          "output_type": "display_data",
          "data": {
            "text/plain": [
              "<Figure size 936x936 with 3 Axes>"
            ],
            "image/png": "[encoded data removed]"
          },
          "metadata": {
            "needs_background": "light"
          }
        }
      ]
    },
    {
      "cell_type": "code",
      "source": [
        "def create_model(classes=N_CLASSES):\n",
        "\n",
        "  base_model = EfficientNetB3(\n",
        "      input_shape=(IMAGE_SIZE,IMAGE_SIZE,CHANNELS), \n",
        "      weights='noisy-student', \n",
        "      include_top=False)\n",
        "\n",
        "  inputs = keras.Input(shape=(IMAGE_SIZE,IMAGE_SIZE,CHANNELS))\n",
        "  x = base_model(inputs)\n",
        "  x.trainable = True\n",
        "  x = GlobalAveragePooling2D()(x)\n",
        "  x = Dropout(0.2)(x)\n",
        "  outputs = Dense(N_CLASSES, activation='sigmoid')(x)\n",
        "  model = keras.Model(inputs, outputs)\n",
        "\n",
        "  model.compile(\n",
        "    optimizer='adam',\n",
        "    loss = 'binary_crossentropy',\n",
        "    metrics=['accuracy']\n",
        "  )\n",
        "  \n",
        "  return model"
      ],
      "metadata": {
        "id": "gH6hLn48k15j"
      },
      "execution_count": 12,
      "outputs": []
    },
    {
      "cell_type": "code",
      "source": [
        "# creating the model within the TPUStrategy scope to utilise TPU\n",
        "\n",
        "with tpu_strategy.scope(): \n",
        "  model = create_model()\n",
        "print(model.summary())"
      ],
      "metadata": {
        "colab": {
          "base_uri": "https://localhost:8080/"
        },
        "id": "y18ahiQskLmj",
        "outputId": "330ad75b-73c3-4136-dc48-9e28ecd1666b"
      },
      "execution_count": 13,
      "outputs": [
        {
          "output_type": "stream",
          "name": "stdout",
          "text": [
            "Downloading data from https://github.com/qubvel/efficientnet/releases/download/v0.0.1/efficientnet-b3_noisy-student_notop.h5\n",
            "43933696/43933088 [==============================] - 1s 0us/step\n",
            "43941888/43933088 [==============================] - 1s 0us/step\n",
            "Model: \"model\"\n",
            "_________________________________________________________________\n",
            " Layer (type)                Output Shape              Param #   \n",
            "=================================================================\n",
            " input_2 (InputLayer)        [(None, 300, 300, 3)]     0         \n",
            "                                                                 \n",
            " efficientnet-b3 (Functional  (None, 10, 10, 1536)     10783528  \n",
            " )                                                               \n",
            "                                                                 \n",
            " global_average_pooling2d (G  (None, 1536)             0         \n",
            " lobalAveragePooling2D)                                          \n",
            "                                                                 \n",
            " dropout (Dropout)           (None, 1536)              0         \n",
            "                                                                 \n",
            " dense (Dense)               (None, 185)               284345    \n",
            "                                                                 \n",
            "=================================================================\n",
            "Total params: 11,067,873\n",
            "Trainable params: 10,980,577\n",
            "Non-trainable params: 87,296\n",
            "_________________________________________________________________\n",
            "None\n"
          ]
        }
      ]
    },
    {
      "cell_type": "code",
      "source": [
        "print(\"TRAINING IMAGES: \", N_TRAIN, \", STEPS PER EPOCH: \", TRAIN_STEPS)\n",
        "print(\"VALIDATION IMAGES: \", N_VALID)"
      ],
      "metadata": {
        "id": "mAchOZsA79WY",
        "colab": {
          "base_uri": "https://localhost:8080/"
        },
        "outputId": "f4bf1440-371a-4f34-a486-677e9f87c070"
      },
      "execution_count": 14,
      "outputs": [
        {
          "output_type": "stream",
          "name": "stdout",
          "text": [
            "TRAINING IMAGES:  13265 , STEPS PER EPOCH:  51\n",
            "VALIDATION IMAGES:  3316\n"
          ]
        }
      ]
    },
    {
      "cell_type": "code",
      "source": [
        "def train_model(model=None, data=train_ds, val=val_ds, epochs=EPOCHS, train_steps=TRAIN_STEPS, batch_size=BATCH_SIZE):\n",
        "\n",
        "  # define learning rates for learning rate scheduler\n",
        "  start_lr = 0.00001\n",
        "  min_lr = 0.00001\n",
        "  max_lr = 0.00005 * tpu_strategy.num_replicas_in_sync\n",
        "  rampup_epochs = 5\n",
        "  sustain_epochs = 0\n",
        "  exp_decay = .8\n",
        "\n",
        "  # function for lr_callback\n",
        "  def lrfn(epoch):\n",
        "    if epoch < rampup_epochs:\n",
        "      return (max_lr - start_lr)/rampup_epochs * epoch + start_lr\n",
        "    elif epoch < rampup_epochs + sustain_epochs:\n",
        "      return max_lr\n",
        "    else:\n",
        "      return (max_lr - min_lr) * exp_decay**(epoch-rampup_epochs-sustain_epochs) + min_lr\n",
        "\n",
        "  # define callbacks\n",
        "  lr_callback = LearningRateScheduler(lambda epoch: lrfn(epoch), verbose=True)\n",
        "\n",
        "  # fit model\n",
        "  history = model.fit(data,\n",
        "                      batch_size=BATCH_SIZE, \n",
        "                      validation_data=val, \n",
        "                      steps_per_epoch=train_steps, \n",
        "                      epochs=epochs, \n",
        "                      callbacks=[lr_callback])\n",
        "  \n",
        "  def display_training_curves(training, validation, title, subplot):\n",
        "    ax = plt.subplot(subplot)\n",
        "    ax.plot(training)\n",
        "    ax.plot(validation)\n",
        "    ax.set_title('model '+ title)\n",
        "    ax.set_ylabel(title)\n",
        "    ax.set_xlabel('epoch')\n",
        "    ax.legend(['training', 'validation'])\n",
        "\n",
        "  plt.subplots(figsize=(10,10))\n",
        "  plt.tight_layout()\n",
        "\n",
        "  display_training_curves(history.history['accuracy'], history.history['val_accuracy'], 'accuracy', 211)\n",
        "  display_training_curves(history.history['loss'], history.history['val_loss'], 'loss', 212)\n",
        "  \n",
        "  plt.savefig('noisystudent_training_curves.svg')\n",
        "  \n",
        "  return history"
      ],
      "metadata": {
        "id": "6gFXhUb0tyH3"
      },
      "execution_count": 15,
      "outputs": []
    },
    {
      "cell_type": "code",
      "source": [
        "train_model(model)"
      ],
      "metadata": {
        "colab": {
          "base_uri": "https://localhost:8080/",
          "height": 1000
        },
        "id": "QBapsQPquWXQ",
        "outputId": "3b356c19-74f2-4084-f6b0-1cb2ae327819"
      },
      "execution_count": 16,
      "outputs": [
        {
          "output_type": "stream",
          "name": "stdout",
          "text": [
            "\n",
            "Epoch 1: LearningRateScheduler setting learning rate to 1e-05.\n",
            "Epoch 1/100\n",
            "51/51 [==============================] - 270s 3s/step - loss: 0.6548 - accuracy: 0.0062 - val_loss: 0.7018 - val_accuracy: 0.0015 - lr: 1.0000e-05\n",
            "\n",
            "Epoch 2: LearningRateScheduler setting learning rate to 8.8e-05.\n",
            "Epoch 2/100\n",
            "51/51 [==============================] - 139s 3s/step - loss: 0.2924 - accuracy: 0.0136 - val_loss: 0.5202 - val_accuracy: 0.0018 - lr: 8.8000e-05\n",
            "\n",
            "Epoch 3: LearningRateScheduler setting learning rate to 0.000166.\n",
            "Epoch 3/100\n",
            "51/51 [==============================] - 115s 2s/step - loss: 0.0513 - accuracy: 0.0605 - val_loss: 0.3041 - val_accuracy: 0.0018 - lr: 1.6600e-04\n",
            "\n",
            "Epoch 4: LearningRateScheduler setting learning rate to 0.000244.\n",
            "Epoch 4/100\n",
            "51/51 [==============================] - 98s 2s/step - loss: 0.0297 - accuracy: 0.0767 - val_loss: 0.2376 - val_accuracy: 0.0775 - lr: 2.4400e-04\n",
            "\n",
            "Epoch 5: LearningRateScheduler setting learning rate to 0.000322.\n",
            "Epoch 5/100\n",
            "51/51 [==============================] - 118s 2s/step - loss: 0.0262 - accuracy: 0.0844 - val_loss: 0.1961 - val_accuracy: 0.0775 - lr: 3.2200e-04\n",
            "\n",
            "Epoch 6: LearningRateScheduler setting learning rate to 0.0004.\n",
            "Epoch 6/100\n",
            "51/51 [==============================] - 117s 2s/step - loss: 0.0244 - accuracy: 0.0938 - val_loss: 0.1548 - val_accuracy: 0.0775 - lr: 4.0000e-04\n",
            "\n",
            "Epoch 7: LearningRateScheduler setting learning rate to 0.000322.\n",
            "Epoch 7/100\n",
            "51/51 [==============================] - 124s 2s/step - loss: 0.0237 - accuracy: 0.0938 - val_loss: 0.1209 - val_accuracy: 0.0775 - lr: 3.2200e-04\n",
            "\n",
            "Epoch 8: LearningRateScheduler setting learning rate to 0.0002596000000000001.\n",
            "Epoch 8/100\n",
            "51/51 [==============================] - 123s 2s/step - loss: 0.0234 - accuracy: 0.0947 - val_loss: 0.1262 - val_accuracy: 0.0775 - lr: 2.5960e-04\n",
            "\n",
            "Epoch 9: LearningRateScheduler setting learning rate to 0.00020968000000000004.\n",
            "Epoch 9/100\n",
            "51/51 [==============================] - 116s 2s/step - loss: 0.0231 - accuracy: 0.0943 - val_loss: 0.1148 - val_accuracy: 0.0872 - lr: 2.0968e-04\n",
            "\n",
            "Epoch 10: LearningRateScheduler setting learning rate to 0.00016974400000000002.\n",
            "Epoch 10/100\n",
            "51/51 [==============================] - 97s 2s/step - loss: 0.0226 - accuracy: 0.0992 - val_loss: 0.0934 - val_accuracy: 0.0362 - lr: 1.6974e-04\n",
            "\n",
            "Epoch 11: LearningRateScheduler setting learning rate to 0.00013779520000000003.\n",
            "Epoch 11/100\n",
            "51/51 [==============================] - 121s 2s/step - loss: 0.0218 - accuracy: 0.1062 - val_loss: 0.0559 - val_accuracy: 0.0718 - lr: 1.3780e-04\n",
            "\n",
            "Epoch 12: LearningRateScheduler setting learning rate to 0.00011223616000000004.\n",
            "Epoch 12/100\n",
            "51/51 [==============================] - 116s 2s/step - loss: 0.0215 - accuracy: 0.1148 - val_loss: 0.0324 - val_accuracy: 0.0995 - lr: 1.1224e-04\n",
            "\n",
            "Epoch 13: LearningRateScheduler setting learning rate to 9.178892800000003e-05.\n",
            "Epoch 13/100\n",
            "51/51 [==============================] - 62s 1s/step - loss: 0.0216 - accuracy: 0.1165 - val_loss: 0.0271 - val_accuracy: 0.1107 - lr: 9.1789e-05\n",
            "\n",
            "Epoch 14: LearningRateScheduler setting learning rate to 7.543114240000003e-05.\n",
            "Epoch 14/100\n",
            "51/51 [==============================] - 124s 2s/step - loss: 0.0213 - accuracy: 0.1212 - val_loss: 0.0240 - val_accuracy: 0.1104 - lr: 7.5431e-05\n",
            "\n",
            "Epoch 15: LearningRateScheduler setting learning rate to 6.234491392000002e-05.\n",
            "Epoch 15/100\n",
            "51/51 [==============================] - 119s 2s/step - loss: 0.0212 - accuracy: 0.1186 - val_loss: 0.0231 - val_accuracy: 0.1104 - lr: 6.2345e-05\n",
            "\n",
            "Epoch 16: LearningRateScheduler setting learning rate to 5.1875931136000024e-05.\n",
            "Epoch 16/100\n",
            "51/51 [==============================] - 127s 3s/step - loss: 0.0212 - accuracy: 0.1232 - val_loss: 0.0222 - val_accuracy: 0.1119 - lr: 5.1876e-05\n",
            "\n",
            "Epoch 17: LearningRateScheduler setting learning rate to 4.3500744908800015e-05.\n",
            "Epoch 17/100\n",
            "51/51 [==============================] - 109s 2s/step - loss: 0.0213 - accuracy: 0.1187 - val_loss: 0.0219 - val_accuracy: 0.1016 - lr: 4.3501e-05\n",
            "\n",
            "Epoch 18: LearningRateScheduler setting learning rate to 3.6800595927040014e-05.\n",
            "Epoch 18/100\n",
            "51/51 [==============================] - 119s 2s/step - loss: 0.0211 - accuracy: 0.1205 - val_loss: 0.0219 - val_accuracy: 0.1155 - lr: 3.6801e-05\n",
            "\n",
            "Epoch 19: LearningRateScheduler setting learning rate to 3.1440476741632015e-05.\n",
            "Epoch 19/100\n",
            "51/51 [==============================] - 118s 2s/step - loss: 0.0211 - accuracy: 0.1197 - val_loss: 0.0214 - val_accuracy: 0.1080 - lr: 3.1440e-05\n",
            "\n",
            "Epoch 20: LearningRateScheduler setting learning rate to 2.7152381393305616e-05.\n",
            "Epoch 20/100\n",
            "51/51 [==============================] - 129s 3s/step - loss: 0.0211 - accuracy: 0.1202 - val_loss: 0.0211 - val_accuracy: 0.1125 - lr: 2.7152e-05\n",
            "\n",
            "Epoch 21: LearningRateScheduler setting learning rate to 2.3721905114644494e-05.\n",
            "Epoch 21/100\n",
            "51/51 [==============================] - 105s 2s/step - loss: 0.0210 - accuracy: 0.1220 - val_loss: 0.0208 - val_accuracy: 0.1233 - lr: 2.3722e-05\n",
            "\n",
            "Epoch 22: LearningRateScheduler setting learning rate to 2.0977524091715595e-05.\n",
            "Epoch 22/100\n",
            "51/51 [==============================] - 115s 2s/step - loss: 0.0210 - accuracy: 0.1209 - val_loss: 0.0209 - val_accuracy: 0.1143 - lr: 2.0978e-05\n",
            "\n",
            "Epoch 23: LearningRateScheduler setting learning rate to 1.8782019273372477e-05.\n",
            "Epoch 23/100\n",
            "51/51 [==============================] - 122s 2s/step - loss: 0.0210 - accuracy: 0.1209 - val_loss: 0.0208 - val_accuracy: 0.1230 - lr: 1.8782e-05\n",
            "\n",
            "Epoch 24: LearningRateScheduler setting learning rate to 1.702561541869798e-05.\n",
            "Epoch 24/100\n",
            "51/51 [==============================] - 113s 2s/step - loss: 0.0209 - accuracy: 0.1228 - val_loss: 0.0207 - val_accuracy: 0.1300 - lr: 1.7026e-05\n",
            "\n",
            "Epoch 25: LearningRateScheduler setting learning rate to 1.5620492334958385e-05.\n",
            "Epoch 25/100\n",
            "51/51 [==============================] - 118s 2s/step - loss: 0.0209 - accuracy: 0.1225 - val_loss: 0.0208 - val_accuracy: 0.1212 - lr: 1.5620e-05\n",
            "\n",
            "Epoch 26: LearningRateScheduler setting learning rate to 1.4496393867966709e-05.\n",
            "Epoch 26/100\n",
            "51/51 [==============================] - 114s 2s/step - loss: 0.0210 - accuracy: 0.1222 - val_loss: 0.0208 - val_accuracy: 0.1279 - lr: 1.4496e-05\n",
            "\n",
            "Epoch 27: LearningRateScheduler setting learning rate to 1.3597115094373368e-05.\n",
            "Epoch 27/100\n",
            "51/51 [==============================] - 106s 2s/step - loss: 0.0209 - accuracy: 0.1249 - val_loss: 0.0207 - val_accuracy: 0.1119 - lr: 1.3597e-05\n",
            "\n",
            "Epoch 28: LearningRateScheduler setting learning rate to 1.2877692075498695e-05.\n",
            "Epoch 28/100\n",
            "51/51 [==============================] - 110s 2s/step - loss: 0.0209 - accuracy: 0.1247 - val_loss: 0.0207 - val_accuracy: 0.1155 - lr: 1.2878e-05\n",
            "\n",
            "Epoch 29: LearningRateScheduler setting learning rate to 1.2302153660398955e-05.\n",
            "Epoch 29/100\n",
            "51/51 [==============================] - 107s 2s/step - loss: 0.0209 - accuracy: 0.1233 - val_loss: 0.0207 - val_accuracy: 0.1173 - lr: 1.2302e-05\n",
            "\n",
            "Epoch 30: LearningRateScheduler setting learning rate to 1.1841722928319164e-05.\n",
            "Epoch 30/100\n",
            "51/51 [==============================] - 120s 2s/step - loss: 0.0209 - accuracy: 0.1234 - val_loss: 0.0208 - val_accuracy: 0.1170 - lr: 1.1842e-05\n",
            "\n",
            "Epoch 31: LearningRateScheduler setting learning rate to 1.1473378342655331e-05.\n",
            "Epoch 31/100\n",
            "51/51 [==============================] - 123s 2s/step - loss: 0.0209 - accuracy: 0.1222 - val_loss: 0.0207 - val_accuracy: 0.1206 - lr: 1.1473e-05\n",
            "\n",
            "Epoch 32: LearningRateScheduler setting learning rate to 1.1178702674124267e-05.\n",
            "Epoch 32/100\n",
            "51/51 [==============================] - 126s 3s/step - loss: 0.0209 - accuracy: 0.1233 - val_loss: 0.0207 - val_accuracy: 0.1194 - lr: 1.1179e-05\n",
            "\n",
            "Epoch 33: LearningRateScheduler setting learning rate to 1.0942962139299413e-05.\n",
            "Epoch 33/100\n",
            "51/51 [==============================] - 113s 2s/step - loss: 0.0207 - accuracy: 0.1240 - val_loss: 0.0207 - val_accuracy: 0.1191 - lr: 1.0943e-05\n",
            "\n",
            "Epoch 34: LearningRateScheduler setting learning rate to 1.075436971143953e-05.\n",
            "Epoch 34/100\n",
            "51/51 [==============================] - 114s 2s/step - loss: 0.0208 - accuracy: 0.1268 - val_loss: 0.0206 - val_accuracy: 0.1233 - lr: 1.0754e-05\n",
            "\n",
            "Epoch 35: LearningRateScheduler setting learning rate to 1.0603495769151624e-05.\n",
            "Epoch 35/100\n",
            "51/51 [==============================] - 117s 2s/step - loss: 0.0209 - accuracy: 0.1245 - val_loss: 0.0206 - val_accuracy: 0.1176 - lr: 1.0603e-05\n",
            "\n",
            "Epoch 36: LearningRateScheduler setting learning rate to 1.04827966153213e-05.\n",
            "Epoch 36/100\n",
            "51/51 [==============================] - 124s 2s/step - loss: 0.0208 - accuracy: 0.1255 - val_loss: 0.0206 - val_accuracy: 0.1176 - lr: 1.0483e-05\n",
            "\n",
            "Epoch 37: LearningRateScheduler setting learning rate to 1.038623729225704e-05.\n",
            "Epoch 37/100\n",
            "51/51 [==============================] - 116s 2s/step - loss: 0.0207 - accuracy: 0.1288 - val_loss: 0.0206 - val_accuracy: 0.1134 - lr: 1.0386e-05\n",
            "\n",
            "Epoch 38: LearningRateScheduler setting learning rate to 1.0308989833805632e-05.\n",
            "Epoch 38/100\n",
            "51/51 [==============================] - 116s 2s/step - loss: 0.0208 - accuracy: 0.1293 - val_loss: 0.0205 - val_accuracy: 0.1333 - lr: 1.0309e-05\n",
            "\n",
            "Epoch 39: LearningRateScheduler setting learning rate to 1.0247191867044507e-05.\n",
            "Epoch 39/100\n",
            "51/51 [==============================] - 115s 2s/step - loss: 0.0208 - accuracy: 0.1280 - val_loss: 0.0206 - val_accuracy: 0.1354 - lr: 1.0247e-05\n",
            "\n",
            "Epoch 40: LearningRateScheduler setting learning rate to 1.0197753493635605e-05.\n",
            "Epoch 40/100\n",
            "51/51 [==============================] - 129s 3s/step - loss: 0.0207 - accuracy: 0.1285 - val_loss: 0.0207 - val_accuracy: 0.1282 - lr: 1.0198e-05\n",
            "\n",
            "Epoch 41: LearningRateScheduler setting learning rate to 1.0158202794908484e-05.\n",
            "Epoch 41/100\n",
            "51/51 [==============================] - 124s 2s/step - loss: 0.0206 - accuracy: 0.1320 - val_loss: 0.0205 - val_accuracy: 0.1402 - lr: 1.0158e-05\n",
            "\n",
            "Epoch 42: LearningRateScheduler setting learning rate to 1.0126562235926787e-05.\n",
            "Epoch 42/100\n",
            "51/51 [==============================] - 117s 2s/step - loss: 0.0208 - accuracy: 0.1314 - val_loss: 0.0205 - val_accuracy: 0.1351 - lr: 1.0127e-05\n",
            "\n",
            "Epoch 43: LearningRateScheduler setting learning rate to 1.010124978874143e-05.\n",
            "Epoch 43/100\n",
            "51/51 [==============================] - 113s 2s/step - loss: 0.0207 - accuracy: 0.1297 - val_loss: 0.0204 - val_accuracy: 0.1414 - lr: 1.0101e-05\n",
            "\n",
            "Epoch 44: LearningRateScheduler setting learning rate to 1.0080999830993145e-05.\n",
            "Epoch 44/100\n",
            "51/51 [==============================] - 124s 2s/step - loss: 0.0207 - accuracy: 0.1307 - val_loss: 0.0204 - val_accuracy: 0.1348 - lr: 1.0081e-05\n",
            "\n",
            "Epoch 45: LearningRateScheduler setting learning rate to 1.0064799864794516e-05.\n",
            "Epoch 45/100\n",
            "51/51 [==============================] - 124s 2s/step - loss: 0.0206 - accuracy: 0.1327 - val_loss: 0.0204 - val_accuracy: 0.1381 - lr: 1.0065e-05\n",
            "\n",
            "Epoch 46: LearningRateScheduler setting learning rate to 1.0051839891835612e-05.\n",
            "Epoch 46/100\n",
            "51/51 [==============================] - 124s 2s/step - loss: 0.0205 - accuracy: 0.1358 - val_loss: 0.0206 - val_accuracy: 0.1185 - lr: 1.0052e-05\n",
            "\n",
            "Epoch 47: LearningRateScheduler setting learning rate to 1.004147191346849e-05.\n",
            "Epoch 47/100\n",
            "51/51 [==============================] - 124s 2s/step - loss: 0.0206 - accuracy: 0.1335 - val_loss: 0.0203 - val_accuracy: 0.1336 - lr: 1.0041e-05\n",
            "\n",
            "Epoch 48: LearningRateScheduler setting learning rate to 1.0033177530774792e-05.\n",
            "Epoch 48/100\n",
            "51/51 [==============================] - 123s 2s/step - loss: 0.0205 - accuracy: 0.1367 - val_loss: 0.0203 - val_accuracy: 0.1303 - lr: 1.0033e-05\n",
            "\n",
            "Epoch 49: LearningRateScheduler setting learning rate to 1.0026542024619834e-05.\n",
            "Epoch 49/100\n",
            "51/51 [==============================] - 114s 2s/step - loss: 0.0206 - accuracy: 0.1396 - val_loss: 0.0204 - val_accuracy: 0.1345 - lr: 1.0027e-05\n",
            "\n",
            "Epoch 50: LearningRateScheduler setting learning rate to 1.0021233619695867e-05.\n",
            "Epoch 50/100\n",
            "51/51 [==============================] - 119s 2s/step - loss: 0.0205 - accuracy: 0.1353 - val_loss: 0.0203 - val_accuracy: 0.1354 - lr: 1.0021e-05\n",
            "\n",
            "Epoch 51: LearningRateScheduler setting learning rate to 1.0016986895756694e-05.\n",
            "Epoch 51/100\n",
            "51/51 [==============================] - 112s 2s/step - loss: 0.0204 - accuracy: 0.1352 - val_loss: 0.0202 - val_accuracy: 0.1466 - lr: 1.0017e-05\n",
            "\n",
            "Epoch 52: LearningRateScheduler setting learning rate to 1.0013589516605356e-05.\n",
            "Epoch 52/100\n",
            "51/51 [==============================] - 108s 2s/step - loss: 0.0204 - accuracy: 0.1382 - val_loss: 0.0202 - val_accuracy: 0.1384 - lr: 1.0014e-05\n",
            "\n",
            "Epoch 53: LearningRateScheduler setting learning rate to 1.0010871613284285e-05.\n",
            "Epoch 53/100\n",
            "51/51 [==============================] - 106s 2s/step - loss: 0.0205 - accuracy: 0.1369 - val_loss: 0.0202 - val_accuracy: 0.1309 - lr: 1.0011e-05\n",
            "\n",
            "Epoch 54: LearningRateScheduler setting learning rate to 1.0008697290627427e-05.\n",
            "Epoch 54/100\n",
            "51/51 [==============================] - 122s 2s/step - loss: 0.0204 - accuracy: 0.1422 - val_loss: 0.0204 - val_accuracy: 0.1333 - lr: 1.0009e-05\n",
            "\n",
            "Epoch 55: LearningRateScheduler setting learning rate to 1.0006957832501943e-05.\n",
            "Epoch 55/100\n",
            "51/51 [==============================] - 125s 2s/step - loss: 0.0204 - accuracy: 0.1388 - val_loss: 0.0202 - val_accuracy: 0.1448 - lr: 1.0007e-05\n",
            "\n",
            "Epoch 56: LearningRateScheduler setting learning rate to 1.0005566266001554e-05.\n",
            "Epoch 56/100\n",
            "51/51 [==============================] - 114s 2s/step - loss: 0.0203 - accuracy: 0.1418 - val_loss: 0.0203 - val_accuracy: 0.1354 - lr: 1.0006e-05\n",
            "\n",
            "Epoch 57: LearningRateScheduler setting learning rate to 1.0004453012801243e-05.\n",
            "Epoch 57/100\n",
            "51/51 [==============================] - 123s 2s/step - loss: 0.0202 - accuracy: 0.1438 - val_loss: 0.0202 - val_accuracy: 0.1466 - lr: 1.0004e-05\n",
            "\n",
            "Epoch 58: LearningRateScheduler setting learning rate to 1.0003562410240995e-05.\n",
            "Epoch 58/100\n",
            "51/51 [==============================] - 123s 2s/step - loss: 0.0203 - accuracy: 0.1454 - val_loss: 0.0201 - val_accuracy: 0.1426 - lr: 1.0004e-05\n",
            "\n",
            "Epoch 59: LearningRateScheduler setting learning rate to 1.0002849928192796e-05.\n",
            "Epoch 59/100\n",
            "51/51 [==============================] - 131s 3s/step - loss: 0.0203 - accuracy: 0.1454 - val_loss: 0.0206 - val_accuracy: 0.1239 - lr: 1.0003e-05\n",
            "\n",
            "Epoch 60: LearningRateScheduler setting learning rate to 1.0002279942554237e-05.\n",
            "Epoch 60/100\n",
            "51/51 [==============================] - 123s 2s/step - loss: 0.0202 - accuracy: 0.1482 - val_loss: 0.0199 - val_accuracy: 0.1457 - lr: 1.0002e-05\n",
            "\n",
            "Epoch 61: LearningRateScheduler setting learning rate to 1.000182395404339e-05.\n",
            "Epoch 61/100\n",
            "51/51 [==============================] - 116s 2s/step - loss: 0.0202 - accuracy: 0.1496 - val_loss: 0.0200 - val_accuracy: 0.1390 - lr: 1.0002e-05\n",
            "\n",
            "Epoch 62: LearningRateScheduler setting learning rate to 1.0001459163234711e-05.\n",
            "Epoch 62/100\n",
            "51/51 [==============================] - 125s 2s/step - loss: 0.0203 - accuracy: 0.1424 - val_loss: 0.0200 - val_accuracy: 0.1348 - lr: 1.0001e-05\n",
            "\n",
            "Epoch 63: LearningRateScheduler setting learning rate to 1.000116733058777e-05.\n",
            "Epoch 63/100\n",
            "51/51 [==============================] - 107s 2s/step - loss: 0.0202 - accuracy: 0.1497 - val_loss: 0.0199 - val_accuracy: 0.1429 - lr: 1.0001e-05\n",
            "\n",
            "Epoch 64: LearningRateScheduler setting learning rate to 1.0000933864470216e-05.\n",
            "Epoch 64/100\n",
            "51/51 [==============================] - 96s 2s/step - loss: 0.0201 - accuracy: 0.1462 - val_loss: 0.0198 - val_accuracy: 0.1484 - lr: 1.0001e-05\n",
            "\n",
            "Epoch 65: LearningRateScheduler setting learning rate to 1.0000747091576173e-05.\n",
            "Epoch 65/100\n",
            "51/51 [==============================] - 111s 2s/step - loss: 0.0200 - accuracy: 0.1530 - val_loss: 0.0198 - val_accuracy: 0.1514 - lr: 1.0001e-05\n",
            "\n",
            "Epoch 66: LearningRateScheduler setting learning rate to 1.0000597673260939e-05.\n",
            "Epoch 66/100\n",
            "51/51 [==============================] - 131s 3s/step - loss: 0.0200 - accuracy: 0.1500 - val_loss: 0.0200 - val_accuracy: 0.1475 - lr: 1.0001e-05\n",
            "\n",
            "Epoch 67: LearningRateScheduler setting learning rate to 1.0000478138608751e-05.\n",
            "Epoch 67/100\n",
            "51/51 [==============================] - 130s 3s/step - loss: 0.0200 - accuracy: 0.1529 - val_loss: 0.0197 - val_accuracy: 0.1541 - lr: 1.0000e-05\n",
            "\n",
            "Epoch 68: LearningRateScheduler setting learning rate to 1.0000382510887001e-05.\n",
            "Epoch 68/100\n",
            "51/51 [==============================] - 131s 3s/step - loss: 0.0201 - accuracy: 0.1490 - val_loss: 0.0199 - val_accuracy: 0.1390 - lr: 1.0000e-05\n",
            "\n",
            "Epoch 69: LearningRateScheduler setting learning rate to 1.00003060087096e-05.\n",
            "Epoch 69/100\n",
            "51/51 [==============================] - 126s 3s/step - loss: 0.0198 - accuracy: 0.1543 - val_loss: 0.0199 - val_accuracy: 0.1438 - lr: 1.0000e-05\n",
            "\n",
            "Epoch 70: LearningRateScheduler setting learning rate to 1.000024480696768e-05.\n",
            "Epoch 70/100\n",
            "51/51 [==============================] - 127s 3s/step - loss: 0.0199 - accuracy: 0.1530 - val_loss: 0.0199 - val_accuracy: 0.1435 - lr: 1.0000e-05\n",
            "\n",
            "Epoch 71: LearningRateScheduler setting learning rate to 1.0000195845574146e-05.\n",
            "Epoch 71/100\n",
            "51/51 [==============================] - 117s 2s/step - loss: 0.0200 - accuracy: 0.1514 - val_loss: 0.0197 - val_accuracy: 0.1445 - lr: 1.0000e-05\n",
            "\n",
            "Epoch 72: LearningRateScheduler setting learning rate to 1.0000156676459317e-05.\n",
            "Epoch 72/100\n",
            "51/51 [==============================] - 111s 2s/step - loss: 0.0198 - accuracy: 0.1543 - val_loss: 0.0220 - val_accuracy: 0.1255 - lr: 1.0000e-05\n",
            "\n",
            "Epoch 73: LearningRateScheduler setting learning rate to 1.0000125341167454e-05.\n",
            "Epoch 73/100\n",
            "51/51 [==============================] - 110s 2s/step - loss: 0.0197 - accuracy: 0.1572 - val_loss: 0.0205 - val_accuracy: 0.1357 - lr: 1.0000e-05\n",
            "\n",
            "Epoch 74: LearningRateScheduler setting learning rate to 1.0000100272933963e-05.\n",
            "Epoch 74/100\n",
            "51/51 [==============================] - 101s 2s/step - loss: 0.0197 - accuracy: 0.1545 - val_loss: 0.0221 - val_accuracy: 0.1218 - lr: 1.0000e-05\n",
            "\n",
            "Epoch 75: LearningRateScheduler setting learning rate to 1.000008021834717e-05.\n",
            "Epoch 75/100\n",
            "51/51 [==============================] - 109s 2s/step - loss: 0.0197 - accuracy: 0.1593 - val_loss: 0.0195 - val_accuracy: 0.1544 - lr: 1.0000e-05\n",
            "\n",
            "Epoch 76: LearningRateScheduler setting learning rate to 1.0000064174677736e-05.\n",
            "Epoch 76/100\n",
            "51/51 [==============================] - 68s 1s/step - loss: 0.0197 - accuracy: 0.1537 - val_loss: 0.0196 - val_accuracy: 0.1460 - lr: 1.0000e-05\n",
            "\n",
            "Epoch 77: LearningRateScheduler setting learning rate to 1.000005133974219e-05.\n",
            "Epoch 77/100\n",
            "51/51 [==============================] - 123s 2s/step - loss: 0.0196 - accuracy: 0.1570 - val_loss: 0.0192 - val_accuracy: 0.1619 - lr: 1.0000e-05\n",
            "\n",
            "Epoch 78: LearningRateScheduler setting learning rate to 1.0000041071793752e-05.\n",
            "Epoch 78/100\n",
            "51/51 [==============================] - 120s 2s/step - loss: 0.0197 - accuracy: 0.1565 - val_loss: 0.0193 - val_accuracy: 0.1653 - lr: 1.0000e-05\n",
            "\n",
            "Epoch 79: LearningRateScheduler setting learning rate to 1.0000032857435001e-05.\n",
            "Epoch 79/100\n",
            "51/51 [==============================] - 126s 3s/step - loss: 0.0195 - accuracy: 0.1620 - val_loss: 0.0193 - val_accuracy: 0.1625 - lr: 1.0000e-05\n",
            "\n",
            "Epoch 80: LearningRateScheduler setting learning rate to 1.0000026285948001e-05.\n",
            "Epoch 80/100\n",
            "51/51 [==============================] - 125s 2s/step - loss: 0.0195 - accuracy: 0.1590 - val_loss: 0.0196 - val_accuracy: 0.1532 - lr: 1.0000e-05\n",
            "\n",
            "Epoch 81: LearningRateScheduler setting learning rate to 1.0000021028758402e-05.\n",
            "Epoch 81/100\n",
            "51/51 [==============================] - 126s 3s/step - loss: 0.0193 - accuracy: 0.1617 - val_loss: 0.0191 - val_accuracy: 0.1547 - lr: 1.0000e-05\n",
            "\n",
            "Epoch 82: LearningRateScheduler setting learning rate to 1.0000016823006722e-05.\n",
            "Epoch 82/100\n",
            "51/51 [==============================] - 126s 2s/step - loss: 0.0195 - accuracy: 0.1604 - val_loss: 0.0190 - val_accuracy: 0.1580 - lr: 1.0000e-05\n",
            "\n",
            "Epoch 83: LearningRateScheduler setting learning rate to 1.0000013458405378e-05.\n",
            "Epoch 83/100\n",
            "51/51 [==============================] - 120s 2s/step - loss: 0.0193 - accuracy: 0.1618 - val_loss: 0.0199 - val_accuracy: 0.1544 - lr: 1.0000e-05\n",
            "\n",
            "Epoch 84: LearningRateScheduler setting learning rate to 1.0000010766724302e-05.\n",
            "Epoch 84/100\n",
            "51/51 [==============================] - 131s 3s/step - loss: 0.0193 - accuracy: 0.1630 - val_loss: 0.0194 - val_accuracy: 0.1481 - lr: 1.0000e-05\n",
            "\n",
            "Epoch 85: LearningRateScheduler setting learning rate to 1.0000008613379442e-05.\n",
            "Epoch 85/100\n",
            "51/51 [==============================] - 129s 3s/step - loss: 0.0192 - accuracy: 0.1628 - val_loss: 0.0190 - val_accuracy: 0.1550 - lr: 1.0000e-05\n",
            "\n",
            "Epoch 86: LearningRateScheduler setting learning rate to 1.0000006890703554e-05.\n",
            "Epoch 86/100\n",
            "51/51 [==============================] - 129s 3s/step - loss: 0.0193 - accuracy: 0.1614 - val_loss: 0.0192 - val_accuracy: 0.1544 - lr: 1.0000e-05\n",
            "\n",
            "Epoch 87: LearningRateScheduler setting learning rate to 1.0000005512562843e-05.\n",
            "Epoch 87/100\n",
            "51/51 [==============================] - 118s 2s/step - loss: 0.0192 - accuracy: 0.1644 - val_loss: 0.0206 - val_accuracy: 0.1387 - lr: 1.0000e-05\n",
            "\n",
            "Epoch 88: LearningRateScheduler setting learning rate to 1.0000004410050274e-05.\n",
            "Epoch 88/100\n",
            "51/51 [==============================] - 104s 2s/step - loss: 0.0192 - accuracy: 0.1644 - val_loss: 0.0190 - val_accuracy: 0.1520 - lr: 1.0000e-05\n",
            "\n",
            "Epoch 89: LearningRateScheduler setting learning rate to 1.000000352804022e-05.\n",
            "Epoch 89/100\n",
            "51/51 [==============================] - 120s 2s/step - loss: 0.0191 - accuracy: 0.1675 - val_loss: 0.0190 - val_accuracy: 0.1502 - lr: 1.0000e-05\n",
            "\n",
            "Epoch 90: LearningRateScheduler setting learning rate to 1.0000002822432176e-05.\n",
            "Epoch 90/100\n",
            "51/51 [==============================] - 121s 2s/step - loss: 0.0191 - accuracy: 0.1682 - val_loss: 0.0187 - val_accuracy: 0.1583 - lr: 1.0000e-05\n",
            "\n",
            "Epoch 91: LearningRateScheduler setting learning rate to 1.000000225794574e-05.\n",
            "Epoch 91/100\n",
            "51/51 [==============================] - 129s 3s/step - loss: 0.0191 - accuracy: 0.1636 - val_loss: 0.0186 - val_accuracy: 0.1580 - lr: 1.0000e-05\n",
            "\n",
            "Epoch 92: LearningRateScheduler setting learning rate to 1.0000001806356592e-05.\n",
            "Epoch 92/100\n",
            "51/51 [==============================] - 119s 2s/step - loss: 0.0190 - accuracy: 0.1684 - val_loss: 0.0194 - val_accuracy: 0.1441 - lr: 1.0000e-05\n",
            "\n",
            "Epoch 93: LearningRateScheduler setting learning rate to 1.0000001445085275e-05.\n",
            "Epoch 93/100\n",
            "51/51 [==============================] - 121s 2s/step - loss: 0.0191 - accuracy: 0.1649 - val_loss: 0.0187 - val_accuracy: 0.1562 - lr: 1.0000e-05\n",
            "\n",
            "Epoch 94: LearningRateScheduler setting learning rate to 1.000000115606822e-05.\n",
            "Epoch 94/100\n",
            "51/51 [==============================] - 105s 2s/step - loss: 0.0191 - accuracy: 0.1670 - val_loss: 0.0186 - val_accuracy: 0.1517 - lr: 1.0000e-05\n",
            "\n",
            "Epoch 95: LearningRateScheduler setting learning rate to 1.0000000924854576e-05.\n",
            "Epoch 95/100\n",
            "51/51 [==============================] - 99s 2s/step - loss: 0.0190 - accuracy: 0.1656 - val_loss: 0.0186 - val_accuracy: 0.1604 - lr: 1.0000e-05\n",
            "\n",
            "Epoch 96: LearningRateScheduler setting learning rate to 1.0000000739883661e-05.\n",
            "Epoch 96/100\n",
            "51/51 [==============================] - 115s 2s/step - loss: 0.0189 - accuracy: 0.1684 - val_loss: 0.0186 - val_accuracy: 0.1583 - lr: 1.0000e-05\n",
            "\n",
            "Epoch 97: LearningRateScheduler setting learning rate to 1.000000059190693e-05.\n",
            "Epoch 97/100\n",
            "51/51 [==============================] - 120s 2s/step - loss: 0.0190 - accuracy: 0.1699 - val_loss: 0.0188 - val_accuracy: 0.1583 - lr: 1.0000e-05\n",
            "\n",
            "Epoch 98: LearningRateScheduler setting learning rate to 1.0000000473525544e-05.\n",
            "Epoch 98/100\n",
            "51/51 [==============================] - 120s 2s/step - loss: 0.0190 - accuracy: 0.1674 - val_loss: 0.0191 - val_accuracy: 0.1481 - lr: 1.0000e-05\n",
            "\n",
            "Epoch 99: LearningRateScheduler setting learning rate to 1.0000000378820435e-05.\n",
            "Epoch 99/100\n",
            "51/51 [==============================] - 124s 2s/step - loss: 0.0188 - accuracy: 0.1722 - val_loss: 0.0190 - val_accuracy: 0.1547 - lr: 1.0000e-05\n",
            "\n",
            "Epoch 100: LearningRateScheduler setting learning rate to 1.0000000303056348e-05.\n",
            "Epoch 100/100\n",
            "51/51 [==============================] - 122s 2s/step - loss: 0.0189 - accuracy: 0.1706 - val_loss: 0.0184 - val_accuracy: 0.1589 - lr: 1.0000e-05\n"
          ]
        },
        {
          "output_type": "execute_result",
          "data": {
            "text/plain": [
              "<keras.callbacks.History at 0x7f5743a0ab50>"
            ]
          },
          "metadata": {},
          "execution_count": 16
        },
        {
          "output_type": "display_data",
          "data": {
            "text/plain": [
              "<Figure size 720x720 with 2 Axes>"
            ],
            "image/png": "[encoded data removed]"
          },
          "metadata": {
            "needs_background": "light"
          }
        }
      ]
    },
    {
      "cell_type": "code",
      "source": [
        "# Evaluate the model on the test dataset\n",
        "\n",
        "results = model.evaluate(test_ds, batch_size=BATCH_SIZE)\n",
        "print(\"test loss, test acc:\", results)"
      ],
      "metadata": {
        "id": "L3EYhMv-0kCJ",
        "colab": {
          "base_uri": "https://localhost:8080/"
        },
        "outputId": "e39990bf-5f85-4438-9a69-e014558e30af"
      },
      "execution_count": 17,
      "outputs": [
        {
          "output_type": "stream",
          "name": "stdout",
          "text": [
            "28/28 [==============================] - 58s 1s/step - loss: 0.0185 - accuracy: 0.1717\n",
            "test loss, test acc: [0.018451150506734848, 0.17166174948215485]\n"
          ]
        }
      ]
    },
    {
      "cell_type": "code",
      "source": [
        "# Save trained model and training curves\n",
        "model.save('effnetb3_noisystudent_bs256.h5')\n",
        "files.download('effnetb3_noisystudent_bs256.h5')\n",
        "files.download('effnetb3_noisystudent_bs256.h5')\n",
        "\n",
        "# upload to GCS bucket\n",
        "#!gsutil -m cp /content/effnetb3_noisystudent_bs256.h5 gs://{BUCKET_NAME}/capstone_trained_models/\n",
        "#!gsutil -m cp /content/noisystudent_training_curves.svg gs://{BUCKET_NAME}/capstone_trained_models/"
      ],
      "metadata": {
        "id": "XzMkGqq3mBKr",
        "colab": {
          "base_uri": "https://localhost:8080/",
          "height": 51
        },
        "outputId": "e63126f9-d8f7-4e90-a7e3-dfc3832ecea8"
      },
      "execution_count": 18,
      "outputs": [
        {
          "output_type": "display_data",
          "data": {
            "text/plain": [
              "<IPython.core.display.Javascript object>"
            ],
            "application/javascript": [
              "\n",
              "    async function download(id, filename, size) {\n",
              "      if (!google.colab.kernel.accessAllowed) {\n",
              "        return;\n",
              "      }\n",
              "      const div = document.createElement('div');\n",
              "      const label = document.createElement('label');\n",
              "      label.textContent = `Downloading \"${filename}\": `;\n",
              "      div.appendChild(label);\n",
              "      const progress = document.createElement('progress');\n",
              "      progress.max = size;\n",
              "      div.appendChild(progress);\n",
              "      document.body.appendChild(div);\n",
              "\n",
              "      const buffers = [];\n",
              "      let downloaded = 0;\n",
              "\n",
              "      const channel = await google.colab.kernel.comms.open(id);\n",
              "      // Send a message to notify the kernel that we're ready.\n",
              "      channel.send({})\n",
              "\n",
              "      for await (const message of channel.messages) {\n",
              "        // Send a message to notify the kernel that we're ready.\n",
              "        channel.send({})\n",
              "        if (message.buffers) {\n",
              "          for (const buffer of message.buffers) {\n",
              "            buffers.push(buffer);\n",
              "            downloaded += buffer.byteLength;\n",
              "            progress.value = downloaded;\n",
              "          }\n",
              "        }\n",
              "      }\n",
              "      const blob = new Blob(buffers, {type: 'application/binary'});\n",
              "      const a = document.createElement('a');\n",
              "      a.href = window.URL.createObjectURL(blob);\n",
              "      a.download = filename;\n",
              "      div.appendChild(a);\n",
              "      a.click();\n",
              "      div.remove();\n",
              "    }\n",
              "  "
            ]
          },
          "metadata": {}
        },
        {
          "output_type": "display_data",
          "data": {
            "text/plain": [
              "<IPython.core.display.Javascript object>"
            ],
            "application/javascript": [
              "download(\"download_ab1861b4-9fba-4f45-baab-393d5ea07cc6\", \"effnetb3_noisystudent_bs256.h5\", 133562092)"
            ]
          },
          "metadata": {}
        },
        {
          "output_type": "display_data",
          "data": {
            "text/plain": [
              "<IPython.core.display.Javascript object>"
            ],
            "application/javascript": [
              "\n",
              "    async function download(id, filename, size) {\n",
              "      if (!google.colab.kernel.accessAllowed) {\n",
              "        return;\n",
              "      }\n",
              "      const div = document.createElement('div');\n",
              "      const label = document.createElement('label');\n",
              "      label.textContent = `Downloading \"${filename}\": `;\n",
              "      div.appendChild(label);\n",
              "      const progress = document.createElement('progress');\n",
              "      progress.max = size;\n",
              "      div.appendChild(progress);\n",
              "      document.body.appendChild(div);\n",
              "\n",
              "      const buffers = [];\n",
              "      let downloaded = 0;\n",
              "\n",
              "      const channel = await google.colab.kernel.comms.open(id);\n",
              "      // Send a message to notify the kernel that we're ready.\n",
              "      channel.send({})\n",
              "\n",
              "      for await (const message of channel.messages) {\n",
              "        // Send a message to notify the kernel that we're ready.\n",
              "        channel.send({})\n",
              "        if (message.buffers) {\n",
              "          for (const buffer of message.buffers) {\n",
              "            buffers.push(buffer);\n",
              "            downloaded += buffer.byteLength;\n",
              "            progress.value = downloaded;\n",
              "          }\n",
              "        }\n",
              "      }\n",
              "      const blob = new Blob(buffers, {type: 'application/binary'});\n",
              "      const a = document.createElement('a');\n",
              "      a.href = window.URL.createObjectURL(blob);\n",
              "      a.download = filename;\n",
              "      div.appendChild(a);\n",
              "      a.click();\n",
              "      div.remove();\n",
              "    }\n",
              "  "
            ]
          },
          "metadata": {}
        },
        {
          "output_type": "display_data",
          "data": {
            "text/plain": [
              "<IPython.core.display.Javascript object>"
            ],
            "application/javascript": [
              "download(\"download_fec3fb5c-3565-4055-a0ec-73890be359d8\", \"effnetb3_noisystudent_bs256.h5\", 133562092)"
            ]
          },
          "metadata": {}
        }
      ]
    },
    {
      "cell_type": "code",
      "source": [
        "# Predict classes\n",
        "predictions = model.predict(test_ds, batch_size=BATCH_SIZE)\n",
        "print(\"predictions shape:\", predictions.shape)"
      ],
      "metadata": {
        "colab": {
          "base_uri": "https://localhost:8080/"
        },
        "id": "kZ-dNbA_TaFA",
        "outputId": "8343eabe-59c3-4c4c-f970-c070263dee3f"
      },
      "execution_count": 19,
      "outputs": [
        {
          "output_type": "stream",
          "name": "stdout",
          "text": [
            "predictions shape: (7107, 185)\n"
          ]
        }
      ]
    },
    {
      "cell_type": "code",
      "source": [
        "# Create empty dataframe to append predictions to\n",
        "cols = np.arange(185).tolist()\n",
        "preds_df = pd.DataFrame(columns=cols)\n",
        "\n",
        "# Append predictions to dataframe\n",
        "for pred in predictions:\n",
        "  preds_df = preds_df.append(pd.DataFrame(pred.reshape(1,-1), columns=cols), ignore_index=True)\n",
        "\n",
        "# Convert dataframe to csv file\n",
        "preds_df.to_csv('effnetb3_noisystudent_bs256_predictions.csv')"
      ],
      "metadata": {
        "id": "BuG916yZ2TWK"
      },
      "execution_count": 20,
      "outputs": []
    },
    {
      "cell_type": "code",
      "source": [
        "# download and upload predictions to GCS bucket\n",
        "files.download('effnetb3_noisystudent_predictions.csv')\n",
        "!gsutil -m cp /content/effnetb3_noisystudent_predictions.csv gs://{BUCKET_NAME}/capstone_results/"
      ],
      "metadata": {
        "id": "vaIudhYl9dJy",
        "colab": {
          "base_uri": "https://localhost:8080/",
          "height": 329
        },
        "outputId": "1e852ad7-f12a-4c23-95bc-a0c2478c0307"
      },
      "execution_count": 21,
      "outputs": [
        {
          "output_type": "error",
          "ename": "FileNotFoundError",
          "evalue": "ignored",
          "traceback": [
            "\u001b[0;31m---------------------------------------------------------------------------\u001b[0m",
            "\u001b[0;31mFileNotFoundError\u001b[0m                         Traceback (most recent call last)",
            "\u001b[0;32m<ipython-input-21-d52eb353c9af>\u001b[0m in \u001b[0;36m<module>\u001b[0;34m()\u001b[0m\n\u001b[1;32m      1\u001b[0m \u001b[0;31m# download and upload predictions to GCS bucket\u001b[0m\u001b[0;34m\u001b[0m\u001b[0;34m\u001b[0m\u001b[0;34m\u001b[0m\u001b[0m\n\u001b[0;32m----> 2\u001b[0;31m \u001b[0mfiles\u001b[0m\u001b[0;34m.\u001b[0m\u001b[0mdownload\u001b[0m\u001b[0;34m(\u001b[0m\u001b[0;34m'effnetb3_noisystudent_predictions.csv'\u001b[0m\u001b[0;34m)\u001b[0m\u001b[0;34m\u001b[0m\u001b[0;34m\u001b[0m\u001b[0m\n\u001b[0m\u001b[1;32m      3\u001b[0m \u001b[0mget_ipython\u001b[0m\u001b[0;34m(\u001b[0m\u001b[0;34m)\u001b[0m\u001b[0;34m.\u001b[0m\u001b[0msystem\u001b[0m\u001b[0;34m(\u001b[0m\u001b[0;34m'gsutil -m cp /content/effnetb3_noisystudent_predictions.csv gs://{BUCKET_NAME}/capstone_results/'\u001b[0m\u001b[0;34m)\u001b[0m\u001b[0;34m\u001b[0m\u001b[0;34m\u001b[0m\u001b[0m\n",
            "\u001b[0;32m/usr/local/lib/python3.7/dist-packages/google/colab/files.py\u001b[0m in \u001b[0;36mdownload\u001b[0;34m(filename)\u001b[0m\n\u001b[1;32m    187\u001b[0m       \u001b[0;32mraise\u001b[0m \u001b[0mOSError\u001b[0m\u001b[0;34m(\u001b[0m\u001b[0mmsg\u001b[0m\u001b[0;34m)\u001b[0m\u001b[0;34m\u001b[0m\u001b[0;34m\u001b[0m\u001b[0m\n\u001b[1;32m    188\u001b[0m     \u001b[0;32melse\u001b[0m\u001b[0;34m:\u001b[0m\u001b[0;34m\u001b[0m\u001b[0;34m\u001b[0m\u001b[0m\n\u001b[0;32m--> 189\u001b[0;31m       \u001b[0;32mraise\u001b[0m \u001b[0mFileNotFoundError\u001b[0m\u001b[0;34m(\u001b[0m\u001b[0mmsg\u001b[0m\u001b[0;34m)\u001b[0m  \u001b[0;31m# pylint: disable=undefined-variable\u001b[0m\u001b[0;34m\u001b[0m\u001b[0;34m\u001b[0m\u001b[0m\n\u001b[0m\u001b[1;32m    190\u001b[0m \u001b[0;34m\u001b[0m\u001b[0m\n\u001b[1;32m    191\u001b[0m   \u001b[0mcomm_manager\u001b[0m \u001b[0;34m=\u001b[0m \u001b[0m_IPython\u001b[0m\u001b[0;34m.\u001b[0m\u001b[0mget_ipython\u001b[0m\u001b[0;34m(\u001b[0m\u001b[0;34m)\u001b[0m\u001b[0;34m.\u001b[0m\u001b[0mkernel\u001b[0m\u001b[0;34m.\u001b[0m\u001b[0mcomm_manager\u001b[0m\u001b[0;34m\u001b[0m\u001b[0;34m\u001b[0m\u001b[0m\n",
            "\u001b[0;31mFileNotFoundError\u001b[0m: Cannot find file: effnetb3_noisystudent_predictions.csv"
          ]
        }
      ]
    },
    {
      "cell_type": "code",
      "source": [
        "x = preds_df.values\n",
        "print('MIN pred',np.min(x),'MAX pred',np.max(x))\n",
        "plt.figure(figsize=(20,4))\n",
        "plt.subplot(1,2,1)\n",
        "plt.hist( x[x<0.2], bins=50)\n",
        "plt.subplot(1,2,2)\n",
        "plt.hist( x[x>0.8], bins=50)\n",
        "plt.show()"
      ],
      "metadata": {
        "id": "U52_yC6--8_V"
      },
      "execution_count": null,
      "outputs": []
    },
    {
      "cell_type": "code",
      "source": [
        "plt.figure(figsize=(10,6))\n",
        "plt.hist(x[x>0.1], bins=50)\n",
        "plt.gca().set_title('Predicted Class Probabilities', fontsize=14)\n",
        "\n",
        "plt.show()\n",
        "\n",
        "#plt.savefig('class_probabilities.svg', bbox='tight')\n",
        "\n",
        "#files.download('class_probabilities.svg')"
      ],
      "metadata": {
        "id": "WMuctIrvrVT7"
      },
      "execution_count": null,
      "outputs": []
    }
  ]
}