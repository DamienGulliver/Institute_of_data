{
 "cells": [
  {
   "cell_type": "code",
   "execution_count": 2,
   "id": "026bf114-ff10-4fb7-bc39-cf04e7fd2dcb",
   "metadata": {},
   "outputs": [],
   "source": [
    "import pandas as pd # import pandas\n",
    "import numpy as np # import numpy"
   ]
  },
  {
   "cell_type": "code",
   "execution_count": 3,
   "id": "b1f61848-8000-4a52-9410-9e9d6e2a3bf9",
   "metadata": {},
   "outputs": [
    {
     "name": "stdout",
     "output_type": "stream",
     "text": [
      "1.3.3\n"
     ]
    }
   ],
   "source": [
    "print(pd.__version__) # check pandas version"
   ]
  },
  {
   "cell_type": "code",
   "execution_count": 4,
   "id": "5b9838c0-66f1-42b4-bccb-bb09def8f6de",
   "metadata": {},
   "outputs": [
    {
     "data": {
      "text/html": [
       "<div>\n",
       "<style scoped>\n",
       "    .dataframe tbody tr th:only-of-type {\n",
       "        vertical-align: middle;\n",
       "    }\n",
       "\n",
       "    .dataframe tbody tr th {\n",
       "        vertical-align: top;\n",
       "    }\n",
       "\n",
       "    .dataframe thead th {\n",
       "        text-align: right;\n",
       "    }\n",
       "</style>\n",
       "<table border=\"1\" class=\"dataframe\">\n",
       "  <thead>\n",
       "    <tr style=\"text-align: right;\">\n",
       "      <th></th>\n",
       "      <th>X</th>\n",
       "      <th>Y</th>\n",
       "      <th>Z</th>\n",
       "    </tr>\n",
       "  </thead>\n",
       "  <tbody>\n",
       "    <tr>\n",
       "      <th>0</th>\n",
       "      <td>78</td>\n",
       "      <td>84</td>\n",
       "      <td>86</td>\n",
       "    </tr>\n",
       "    <tr>\n",
       "      <th>1</th>\n",
       "      <td>85</td>\n",
       "      <td>94</td>\n",
       "      <td>97</td>\n",
       "    </tr>\n",
       "    <tr>\n",
       "      <th>2</th>\n",
       "      <td>96</td>\n",
       "      <td>89</td>\n",
       "      <td>96</td>\n",
       "    </tr>\n",
       "    <tr>\n",
       "      <th>3</th>\n",
       "      <td>80</td>\n",
       "      <td>83</td>\n",
       "      <td>72</td>\n",
       "    </tr>\n",
       "    <tr>\n",
       "      <th>4</th>\n",
       "      <td>86</td>\n",
       "      <td>86</td>\n",
       "      <td>83</td>\n",
       "    </tr>\n",
       "  </tbody>\n",
       "</table>\n",
       "</div>"
      ],
      "text/plain": [
       "    X   Y   Z\n",
       "0  78  84  86\n",
       "1  85  94  97\n",
       "2  96  89  96\n",
       "3  80  83  72\n",
       "4  86  86  83"
      ]
     },
     "execution_count": 4,
     "metadata": {},
     "output_type": "execute_result"
    }
   ],
   "source": [
    "df1 = pd.DataFrame({'X':[78,85,96,80,86], 'Y':[84,94,89,83,86],'Z':[86,97,96,72,83]}) # create dataframe from dict\n",
    "df1"
   ]
  },
  {
   "cell_type": "code",
   "execution_count": 5,
   "id": "42cd1a37-2f72-47ef-84f4-b0334b7e0b00",
   "metadata": {},
   "outputs": [
    {
     "data": {
      "text/plain": [
       "0     2\n",
       "1     4\n",
       "2     6\n",
       "3     8\n",
       "4    10\n",
       "dtype: int64"
      ]
     },
     "execution_count": 5,
     "metadata": {},
     "output_type": "execute_result"
    }
   ],
   "source": [
    "s1 = pd.Series([2, 4, 6, 8, 10]) # create pandas series from list\n",
    "s1"
   ]
  },
  {
   "cell_type": "code",
   "execution_count": 6,
   "id": "942e15ea-1ff3-4ce9-8dc6-72695bb19d8f",
   "metadata": {},
   "outputs": [
    {
     "data": {
      "text/plain": [
       "0    1\n",
       "1    2\n",
       "2    3\n",
       "3    4\n",
       "4    5\n",
       "dtype: int64"
      ]
     },
     "execution_count": 6,
     "metadata": {},
     "output_type": "execute_result"
    }
   ],
   "source": [
    "my_list = [1,2,3,4,5]\n",
    "s2 = pd.Series(my_list) # create pandas series from list object\n",
    "s2"
   ]
  },
  {
   "cell_type": "code",
   "execution_count": 7,
   "id": "99b054b8-4cad-485b-bad3-43b1b24de77f",
   "metadata": {},
   "outputs": [
    {
     "data": {
      "text/plain": [
       "5"
      ]
     },
     "execution_count": 7,
     "metadata": {},
     "output_type": "execute_result"
    }
   ],
   "source": [
    "sum = np.sum(s2.value_counts(dropna=False)) # determine no. of observations in series\n",
    "sum"
   ]
  },
  {
   "cell_type": "code",
   "execution_count": 8,
   "id": "3fc33f6e-b133-4bbc-a2c6-089bdc0e4905",
   "metadata": {},
   "outputs": [
    {
     "data": {
      "text/html": [
       "<div>\n",
       "<style scoped>\n",
       "    .dataframe tbody tr th:only-of-type {\n",
       "        vertical-align: middle;\n",
       "    }\n",
       "\n",
       "    .dataframe tbody tr th {\n",
       "        vertical-align: top;\n",
       "    }\n",
       "\n",
       "    .dataframe thead th {\n",
       "        text-align: right;\n",
       "    }\n",
       "</style>\n",
       "<table border=\"1\" class=\"dataframe\">\n",
       "  <thead>\n",
       "    <tr style=\"text-align: right;\">\n",
       "      <th></th>\n",
       "      <th>0</th>\n",
       "      <th>1</th>\n",
       "      <th>2</th>\n",
       "      <th>3</th>\n",
       "      <th>4</th>\n",
       "    </tr>\n",
       "  </thead>\n",
       "  <tbody>\n",
       "    <tr>\n",
       "      <th>0</th>\n",
       "      <td>0.356572</td>\n",
       "      <td>0.700640</td>\n",
       "      <td>0.678683</td>\n",
       "      <td>0.059161</td>\n",
       "      <td>0.700228</td>\n",
       "    </tr>\n",
       "    <tr>\n",
       "      <th>1</th>\n",
       "      <td>0.060644</td>\n",
       "      <td>0.767658</td>\n",
       "      <td>0.714575</td>\n",
       "      <td>0.912094</td>\n",
       "      <td>0.868741</td>\n",
       "    </tr>\n",
       "    <tr>\n",
       "      <th>2</th>\n",
       "      <td>0.173803</td>\n",
       "      <td>0.506171</td>\n",
       "      <td>0.860622</td>\n",
       "      <td>0.271535</td>\n",
       "      <td>0.568264</td>\n",
       "    </tr>\n",
       "    <tr>\n",
       "      <th>3</th>\n",
       "      <td>0.256408</td>\n",
       "      <td>0.908586</td>\n",
       "      <td>0.407648</td>\n",
       "      <td>0.234887</td>\n",
       "      <td>0.993284</td>\n",
       "    </tr>\n",
       "    <tr>\n",
       "      <th>4</th>\n",
       "      <td>0.349960</td>\n",
       "      <td>0.088211</td>\n",
       "      <td>0.368510</td>\n",
       "      <td>0.201082</td>\n",
       "      <td>0.398369</td>\n",
       "    </tr>\n",
       "  </tbody>\n",
       "</table>\n",
       "</div>"
      ],
      "text/plain": [
       "          0         1         2         3         4\n",
       "0  0.356572  0.700640  0.678683  0.059161  0.700228\n",
       "1  0.060644  0.767658  0.714575  0.912094  0.868741\n",
       "2  0.173803  0.506171  0.860622  0.271535  0.568264\n",
       "3  0.256408  0.908586  0.407648  0.234887  0.993284\n",
       "4  0.349960  0.088211  0.368510  0.201082  0.398369"
      ]
     },
     "execution_count": 8,
     "metadata": {},
     "output_type": "execute_result"
    }
   ],
   "source": [
    "df2 = pd.DataFrame(np.random.rand(20,5)) # create dataframe of random numbers from numpy random module\n",
    "df2.head() # check top five rows of dataframe"
   ]
  },
  {
   "cell_type": "code",
   "execution_count": 9,
   "id": "ca3281f0-d9ed-4d28-954d-e68e4084451c",
   "metadata": {},
   "outputs": [
    {
     "data": {
      "text/html": [
       "<div>\n",
       "<style scoped>\n",
       "    .dataframe tbody tr th:only-of-type {\n",
       "        vertical-align: middle;\n",
       "    }\n",
       "\n",
       "    .dataframe tbody tr th {\n",
       "        vertical-align: top;\n",
       "    }\n",
       "\n",
       "    .dataframe thead th {\n",
       "        text-align: right;\n",
       "    }\n",
       "</style>\n",
       "<table border=\"1\" class=\"dataframe\">\n",
       "  <thead>\n",
       "    <tr style=\"text-align: right;\">\n",
       "      <th></th>\n",
       "      <th>0</th>\n",
       "      <th>1</th>\n",
       "      <th>2</th>\n",
       "      <th>3</th>\n",
       "      <th>4</th>\n",
       "    </tr>\n",
       "  </thead>\n",
       "  <tbody>\n",
       "    <tr>\n",
       "      <th>15</th>\n",
       "      <td>0.931192</td>\n",
       "      <td>0.517329</td>\n",
       "      <td>0.225536</td>\n",
       "      <td>0.235725</td>\n",
       "      <td>0.272487</td>\n",
       "    </tr>\n",
       "    <tr>\n",
       "      <th>16</th>\n",
       "      <td>0.847490</td>\n",
       "      <td>0.498572</td>\n",
       "      <td>0.168913</td>\n",
       "      <td>0.618171</td>\n",
       "      <td>0.794937</td>\n",
       "    </tr>\n",
       "    <tr>\n",
       "      <th>17</th>\n",
       "      <td>0.704896</td>\n",
       "      <td>0.298181</td>\n",
       "      <td>0.135215</td>\n",
       "      <td>0.275701</td>\n",
       "      <td>0.533900</td>\n",
       "    </tr>\n",
       "    <tr>\n",
       "      <th>18</th>\n",
       "      <td>0.772641</td>\n",
       "      <td>0.265023</td>\n",
       "      <td>0.711068</td>\n",
       "      <td>0.852934</td>\n",
       "      <td>0.948453</td>\n",
       "    </tr>\n",
       "    <tr>\n",
       "      <th>19</th>\n",
       "      <td>0.102287</td>\n",
       "      <td>0.661101</td>\n",
       "      <td>0.822023</td>\n",
       "      <td>0.496463</td>\n",
       "      <td>0.772590</td>\n",
       "    </tr>\n",
       "  </tbody>\n",
       "</table>\n",
       "</div>"
      ],
      "text/plain": [
       "           0         1         2         3         4\n",
       "15  0.931192  0.517329  0.225536  0.235725  0.272487\n",
       "16  0.847490  0.498572  0.168913  0.618171  0.794937\n",
       "17  0.704896  0.298181  0.135215  0.275701  0.533900\n",
       "18  0.772641  0.265023  0.711068  0.852934  0.948453\n",
       "19  0.102287  0.661101  0.822023  0.496463  0.772590"
      ]
     },
     "execution_count": 9,
     "metadata": {},
     "output_type": "execute_result"
    }
   ],
   "source": [
    "df2.tail() # check last 5 rows of datafram"
   ]
  },
  {
   "cell_type": "code",
   "execution_count": 10,
   "id": "cc24f4a9-89f1-4859-b140-ee469ba7b8c2",
   "metadata": {},
   "outputs": [
    {
     "data": {
      "text/html": [
       "<div>\n",
       "<style scoped>\n",
       "    .dataframe tbody tr th:only-of-type {\n",
       "        vertical-align: middle;\n",
       "    }\n",
       "\n",
       "    .dataframe tbody tr th {\n",
       "        vertical-align: top;\n",
       "    }\n",
       "\n",
       "    .dataframe thead th {\n",
       "        text-align: right;\n",
       "    }\n",
       "</style>\n",
       "<table border=\"1\" class=\"dataframe\">\n",
       "  <thead>\n",
       "    <tr style=\"text-align: right;\">\n",
       "      <th></th>\n",
       "      <th>0</th>\n",
       "      <th>1</th>\n",
       "      <th>2</th>\n",
       "      <th>3</th>\n",
       "      <th>4</th>\n",
       "    </tr>\n",
       "  </thead>\n",
       "  <tbody>\n",
       "    <tr>\n",
       "      <th>count</th>\n",
       "      <td>20.000000</td>\n",
       "      <td>20.000000</td>\n",
       "      <td>20.000000</td>\n",
       "      <td>20.000000</td>\n",
       "      <td>20.000000</td>\n",
       "    </tr>\n",
       "    <tr>\n",
       "      <th>mean</th>\n",
       "      <td>0.476552</td>\n",
       "      <td>0.538716</td>\n",
       "      <td>0.569780</td>\n",
       "      <td>0.392514</td>\n",
       "      <td>0.642102</td>\n",
       "    </tr>\n",
       "    <tr>\n",
       "      <th>std</th>\n",
       "      <td>0.269449</td>\n",
       "      <td>0.253218</td>\n",
       "      <td>0.279747</td>\n",
       "      <td>0.277787</td>\n",
       "      <td>0.301874</td>\n",
       "    </tr>\n",
       "    <tr>\n",
       "      <th>min</th>\n",
       "      <td>0.060644</td>\n",
       "      <td>0.029410</td>\n",
       "      <td>0.135215</td>\n",
       "      <td>0.025130</td>\n",
       "      <td>0.024925</td>\n",
       "    </tr>\n",
       "    <tr>\n",
       "      <th>25%</th>\n",
       "      <td>0.237949</td>\n",
       "      <td>0.360453</td>\n",
       "      <td>0.355214</td>\n",
       "      <td>0.182057</td>\n",
       "      <td>0.500017</td>\n",
       "    </tr>\n",
       "    <tr>\n",
       "      <th>50%</th>\n",
       "      <td>0.489308</td>\n",
       "      <td>0.523587</td>\n",
       "      <td>0.599754</td>\n",
       "      <td>0.273618</td>\n",
       "      <td>0.726248</td>\n",
       "    </tr>\n",
       "    <tr>\n",
       "      <th>75%</th>\n",
       "      <td>0.673206</td>\n",
       "      <td>0.713027</td>\n",
       "      <td>0.781379</td>\n",
       "      <td>0.612795</td>\n",
       "      <td>0.888669</td>\n",
       "    </tr>\n",
       "    <tr>\n",
       "      <th>max</th>\n",
       "      <td>0.931192</td>\n",
       "      <td>0.925669</td>\n",
       "      <td>0.984230</td>\n",
       "      <td>0.912094</td>\n",
       "      <td>0.993284</td>\n",
       "    </tr>\n",
       "  </tbody>\n",
       "</table>\n",
       "</div>"
      ],
      "text/plain": [
       "               0          1          2          3          4\n",
       "count  20.000000  20.000000  20.000000  20.000000  20.000000\n",
       "mean    0.476552   0.538716   0.569780   0.392514   0.642102\n",
       "std     0.269449   0.253218   0.279747   0.277787   0.301874\n",
       "min     0.060644   0.029410   0.135215   0.025130   0.024925\n",
       "25%     0.237949   0.360453   0.355214   0.182057   0.500017\n",
       "50%     0.489308   0.523587   0.599754   0.273618   0.726248\n",
       "75%     0.673206   0.713027   0.781379   0.612795   0.888669\n",
       "max     0.931192   0.925669   0.984230   0.912094   0.993284"
      ]
     },
     "execution_count": 10,
     "metadata": {},
     "output_type": "execute_result"
    }
   ],
   "source": [
    "df2.describe() # summary statistics for dataframe"
   ]
  },
  {
   "cell_type": "code",
   "execution_count": 11,
   "id": "761b8119-12fd-410f-8219-bd387a4104c6",
   "metadata": {},
   "outputs": [
    {
     "data": {
      "text/plain": [
       "(20, 5)"
      ]
     },
     "execution_count": 11,
     "metadata": {},
     "output_type": "execute_result"
    }
   ],
   "source": [
    "df2.shape # shape of dataframe (20 rows, 5 columns)"
   ]
  },
  {
   "cell_type": "code",
   "execution_count": 12,
   "id": "f325a7ce-4ab9-43c6-94fa-a7148daa5d5f",
   "metadata": {},
   "outputs": [
    {
     "name": "stdout",
     "output_type": "stream",
     "text": [
      "<class 'pandas.core.frame.DataFrame'>\n",
      "RangeIndex: 20 entries, 0 to 19\n",
      "Data columns (total 5 columns):\n",
      " #   Column  Non-Null Count  Dtype  \n",
      "---  ------  --------------  -----  \n",
      " 0   0       20 non-null     float64\n",
      " 1   1       20 non-null     float64\n",
      " 2   2       20 non-null     float64\n",
      " 3   3       20 non-null     float64\n",
      " 4   4       20 non-null     float64\n",
      "dtypes: float64(5)\n",
      "memory usage: 928.0 bytes\n"
     ]
    }
   ],
   "source": [
    "df2.info() # descriptive information about dataframe, including datatypes, null values"
   ]
  }
 ],
 "metadata": {
  "kernelspec": {
   "display_name": "Python 3 (ipykernel)",
   "language": "python",
   "name": "python3"
  },
  "language_info": {
   "codemirror_mode": {
    "name": "ipython",
    "version": 3
   },
   "file_extension": ".py",
   "mimetype": "text/x-python",
   "name": "python",
   "nbconvert_exporter": "python",
   "pygments_lexer": "ipython3",
   "version": "3.8.12"
  }
 },
 "nbformat": 4,
 "nbformat_minor": 5
}
